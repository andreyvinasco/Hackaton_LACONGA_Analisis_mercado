{
 "cells": [
  {
   "cell_type": "markdown",
   "id": "8602846f",
   "metadata": {},
   "source": [
    "## Importar datos\n",
    "\n",
    "Para importar datos se necesita\n",
    "\n",
    "- Fecha_inicial: Mes inicial de los datos a imprimir\n",
    "- Fecha_fina: Mes final de los datos a imprimir\n",
    "- Symbol: El nombre de la empresa o comodity a buscar (Ej: 'IBM')\n",
    "- interval: El intervalo de tiempo donde se quiere buscar\n"
   ]
  },
  {
   "cell_type": "code",
   "execution_count": 1,
   "id": "edad918e",
   "metadata": {},
   "outputs": [],
   "source": [
    "import numpy as np\n",
    "import pandas as pd\n",
    "import requests\n",
    "import datetime as date\n",
    "\n",
    "mes_inicial='2023-09'\n",
    "mes_final='2023-10'\n",
    "symbol='WTI'\n",
    "interval='5min'\n",
    "\n",
    "apikey='FUU1SOYI000781S9'\n",
    "# apikey='JRT0SXRCUXDNAI29'\n",
    "# apikey='SI924APD1QSRYWSR'\n",
    "\n",
    "rutaEXport='Data/'\n",
    "\n",
    "def obtainTecnichalIndicator(indicator, mes, symbol, interval, fileExport):\n",
    "    url = 'https://www.alphavantage.co/query?function='+indicator+'&symbol='+symbol+'&interval='+interval+'&time_period=10&series_type=open&month='+mes+'&apikey='+apikey\n",
    "    r = requests.get(url)\n",
    "    data = r.json()\n",
    "#     print('hola:'+str(data))\n",
    "    \n",
    "    rawData2 = pd.DataFrame(data)\n",
    "    # print(rawData2)\n",
    "    rawData2.to_csv(fileExport, sep=',')\n",
    "#     return rawData2[7:]\n",
    "    \n",
    "    rawData2=rawData2[7:]\n",
    "    \n",
    "    indicatorData=pd.DataFrame()\n",
    "    indicatorData['Date & Hour']=pd.to_datetime(rawData2.index)\n",
    "    indicatorData[indicator]=[d.get(indicator) for d in rawData2['Technical Analysis: {}'.format(indicator)]]\n",
    "    return indicatorData\n",
    "\n",
    "def obtainDataMonth(mes, symbol, interval):    \n",
    "    ####Para obtener los valores del precio y volumen de la empresa\n",
    "    url_PriceVolume = 'https://www.alphavantage.co/query?function=TIME_SERIES_INTRADAY&symbol='+symbol+'&interval='+interval+'&outputsize=full&month='+mes+'&apikey='+apikey\n",
    "    r = requests.get(url_PriceVolume)\n",
    "    \n",
    "    data = r.json()\n",
    "    print(url_PriceVolume)\n",
    "#     print('hola:'+str(data))\n",
    "    rawData = pd.DataFrame(data)\n",
    "    # print(rawData)\n",
    "    rawData.to_csv('price&volume.csv', sep=',')\n",
    "\n",
    "    rawData=rawData[6:]\n",
    "    \n",
    "    priceandvolume=pd.DataFrame()\n",
    "    priceandvolume['Date & Hour']=pd.to_datetime(rawData.index)\n",
    "    priceandvolume['Open']=[d.get('1. open') for d in rawData['Time Series ({})'.format(interval)]]\n",
    "#     print(priceandvolume['Open'])\n",
    "    priceandvolume['High']=[d.get('2. high') for d in rawData['Time Series ({})'.format(interval)]]\n",
    "    priceandvolume['Low']=[d.get('3. low') for d in rawData['Time Series ({})'.format(interval)]]\n",
    "    priceandvolume['Close']=[d.get('4. close') for d in rawData['Time Series ({})'.format(interval)]]\n",
    "    priceandvolume['Volume']=[d.get('5. volume') for d in rawData['Time Series ({})'.format(interval)]]\n",
    "    # print(priceandvolume)\n",
    "\n",
    "    ####Para obtener los indicadores SMA, EMA, RSI de la empresa\n",
    "#     SMA=obtainTecnichalIndicator('SMA', mes, symbol, interval, 'SMAdata.csv')\n",
    "#     EMA=obtainTecnichalIndicator('EMA', mes, symbol, interval, 'EMAdata.csv')\n",
    "#     RSI=obtainTecnichalIndicator('RSI', mes, symbol, interval, 'RSIdata.csv')\n",
    "\n",
    "    #######Juntando toda la información\n",
    "    dataAll=priceandvolume\n",
    "#     dataAll=pd.merge(dataAll, SMA, how=\"outer\", on='Date & Hour')\n",
    "#     dataAll=pd.merge(dataAll, EMA, how=\"outer\", on='Date & Hour')\n",
    "#     dataAll=pd.merge(dataAll, RSI, how=\"outer\", on='Date & Hour')\n",
    "#     print(dataAll)\n",
    "    dataAll.to_csv(rutaExport+'{}-{}.csv'.format(symbol, mes), sep=';', index=False)\n",
    "    \n",
    "#     return dataAll"
   ]
  },
  {
   "cell_type": "code",
   "execution_count": 2,
   "id": "fdbfab77",
   "metadata": {},
   "outputs": [
    {
     "name": "stdout",
     "output_type": "stream",
     "text": [
      "FUU1SOYI000781S9\n",
      "obteniendo los datos para el mes: 2023-09\n",
      "https://www.alphavantage.co/query?function=TIME_SERIES_INTRADAY&symbol=WTI&interval=5min&outputsize=full&month=2023-09&apikey=FUU1SOYI000781S9\n"
     ]
    },
    {
     "ename": "ValueError",
     "evalue": "If using all scalar values, you must pass an index",
     "output_type": "error",
     "traceback": [
      "\u001b[1;31m---------------------------------------------------------------------------\u001b[0m",
      "\u001b[1;31mValueError\u001b[0m                                Traceback (most recent call last)",
      "Cell \u001b[1;32mIn[2], line 14\u001b[0m\n\u001b[0;32m     12\u001b[0m \u001b[38;5;28mprint\u001b[39m(apikey)\n\u001b[0;32m     13\u001b[0m \u001b[38;5;28mprint\u001b[39m(\u001b[38;5;124m\"\u001b[39m\u001b[38;5;124mobteniendo los datos para el mes: \u001b[39m\u001b[38;5;132;01m{}\u001b[39;00m\u001b[38;5;124m\"\u001b[39m\u001b[38;5;241m.\u001b[39mformat(mes))\n\u001b[1;32m---> 14\u001b[0m \u001b[43mobtainDataMonth\u001b[49m\u001b[43m(\u001b[49m\u001b[43mmes\u001b[49m\u001b[43m,\u001b[49m\u001b[43m \u001b[49m\u001b[43msymbol\u001b[49m\u001b[43m,\u001b[49m\u001b[43m \u001b[49m\u001b[43minterval\u001b[49m\u001b[43m)\u001b[49m\n\u001b[0;32m     15\u001b[0m dataMes\u001b[38;5;241m=\u001b[39mread_csv(rutaExport\u001b[38;5;241m+\u001b[39m\u001b[38;5;124m'\u001b[39m\u001b[38;5;132;01m{}\u001b[39;00m\u001b[38;5;124m-\u001b[39m\u001b[38;5;132;01m{}\u001b[39;00m\u001b[38;5;124m.csv\u001b[39m\u001b[38;5;124m'\u001b[39m\u001b[38;5;241m.\u001b[39mformat(symbol, mes), sep\u001b[38;5;241m=\u001b[39m\u001b[38;5;124m'\u001b[39m\u001b[38;5;124m;\u001b[39m\u001b[38;5;124m'\u001b[39m)\n\u001b[0;32m     16\u001b[0m \u001b[38;5;28mprint\u001b[39m(dataMes)\n",
      "Cell \u001b[1;32mIn[1], line 43\u001b[0m, in \u001b[0;36mobtainDataMonth\u001b[1;34m(mes, symbol, interval)\u001b[0m\n\u001b[0;32m     41\u001b[0m     \u001b[38;5;28mprint\u001b[39m(url_PriceVolume)\n\u001b[0;32m     42\u001b[0m \u001b[38;5;66;03m#     print('hola:'+str(data))\u001b[39;00m\n\u001b[1;32m---> 43\u001b[0m     rawData \u001b[38;5;241m=\u001b[39m \u001b[43mpd\u001b[49m\u001b[38;5;241;43m.\u001b[39;49m\u001b[43mDataFrame\u001b[49m\u001b[43m(\u001b[49m\u001b[43mdata\u001b[49m\u001b[43m)\u001b[49m\n\u001b[0;32m     44\u001b[0m     \u001b[38;5;66;03m# print(rawData)\u001b[39;00m\n\u001b[0;32m     45\u001b[0m     rawData\u001b[38;5;241m.\u001b[39mto_csv(\u001b[38;5;124m'\u001b[39m\u001b[38;5;124mprice&volume.csv\u001b[39m\u001b[38;5;124m'\u001b[39m, sep\u001b[38;5;241m=\u001b[39m\u001b[38;5;124m'\u001b[39m\u001b[38;5;124m,\u001b[39m\u001b[38;5;124m'\u001b[39m)\n",
      "File \u001b[1;32m~\\anaconda3\\envs\\machinelearning\\lib\\site-packages\\pandas\\core\\frame.py:736\u001b[0m, in \u001b[0;36mDataFrame.__init__\u001b[1;34m(self, data, index, columns, dtype, copy)\u001b[0m\n\u001b[0;32m    730\u001b[0m     mgr \u001b[38;5;241m=\u001b[39m \u001b[38;5;28mself\u001b[39m\u001b[38;5;241m.\u001b[39m_init_mgr(\n\u001b[0;32m    731\u001b[0m         data, axes\u001b[38;5;241m=\u001b[39m{\u001b[38;5;124m\"\u001b[39m\u001b[38;5;124mindex\u001b[39m\u001b[38;5;124m\"\u001b[39m: index, \u001b[38;5;124m\"\u001b[39m\u001b[38;5;124mcolumns\u001b[39m\u001b[38;5;124m\"\u001b[39m: columns}, dtype\u001b[38;5;241m=\u001b[39mdtype, copy\u001b[38;5;241m=\u001b[39mcopy\n\u001b[0;32m    732\u001b[0m     )\n\u001b[0;32m    734\u001b[0m \u001b[38;5;28;01melif\u001b[39;00m \u001b[38;5;28misinstance\u001b[39m(data, \u001b[38;5;28mdict\u001b[39m):\n\u001b[0;32m    735\u001b[0m     \u001b[38;5;66;03m# GH#38939 de facto copy defaults to False only in non-dict cases\u001b[39;00m\n\u001b[1;32m--> 736\u001b[0m     mgr \u001b[38;5;241m=\u001b[39m \u001b[43mdict_to_mgr\u001b[49m\u001b[43m(\u001b[49m\u001b[43mdata\u001b[49m\u001b[43m,\u001b[49m\u001b[43m \u001b[49m\u001b[43mindex\u001b[49m\u001b[43m,\u001b[49m\u001b[43m \u001b[49m\u001b[43mcolumns\u001b[49m\u001b[43m,\u001b[49m\u001b[43m \u001b[49m\u001b[43mdtype\u001b[49m\u001b[38;5;241;43m=\u001b[39;49m\u001b[43mdtype\u001b[49m\u001b[43m,\u001b[49m\u001b[43m \u001b[49m\u001b[43mcopy\u001b[49m\u001b[38;5;241;43m=\u001b[39;49m\u001b[43mcopy\u001b[49m\u001b[43m,\u001b[49m\u001b[43m \u001b[49m\u001b[43mtyp\u001b[49m\u001b[38;5;241;43m=\u001b[39;49m\u001b[43mmanager\u001b[49m\u001b[43m)\u001b[49m\n\u001b[0;32m    737\u001b[0m \u001b[38;5;28;01melif\u001b[39;00m \u001b[38;5;28misinstance\u001b[39m(data, ma\u001b[38;5;241m.\u001b[39mMaskedArray):\n\u001b[0;32m    738\u001b[0m     \u001b[38;5;28;01mfrom\u001b[39;00m \u001b[38;5;21;01mnumpy\u001b[39;00m\u001b[38;5;21;01m.\u001b[39;00m\u001b[38;5;21;01mma\u001b[39;00m \u001b[38;5;28;01mimport\u001b[39;00m mrecords\n",
      "File \u001b[1;32m~\\anaconda3\\envs\\machinelearning\\lib\\site-packages\\pandas\\core\\internals\\construction.py:503\u001b[0m, in \u001b[0;36mdict_to_mgr\u001b[1;34m(data, index, columns, dtype, typ, copy)\u001b[0m\n\u001b[0;32m    499\u001b[0m     \u001b[38;5;28;01melse\u001b[39;00m:\n\u001b[0;32m    500\u001b[0m         \u001b[38;5;66;03m# dtype check to exclude e.g. range objects, scalars\u001b[39;00m\n\u001b[0;32m    501\u001b[0m         arrays \u001b[38;5;241m=\u001b[39m [x\u001b[38;5;241m.\u001b[39mcopy() \u001b[38;5;28;01mif\u001b[39;00m \u001b[38;5;28mhasattr\u001b[39m(x, \u001b[38;5;124m\"\u001b[39m\u001b[38;5;124mdtype\u001b[39m\u001b[38;5;124m\"\u001b[39m) \u001b[38;5;28;01melse\u001b[39;00m x \u001b[38;5;28;01mfor\u001b[39;00m x \u001b[38;5;129;01min\u001b[39;00m arrays]\n\u001b[1;32m--> 503\u001b[0m \u001b[38;5;28;01mreturn\u001b[39;00m \u001b[43marrays_to_mgr\u001b[49m\u001b[43m(\u001b[49m\u001b[43marrays\u001b[49m\u001b[43m,\u001b[49m\u001b[43m \u001b[49m\u001b[43mcolumns\u001b[49m\u001b[43m,\u001b[49m\u001b[43m \u001b[49m\u001b[43mindex\u001b[49m\u001b[43m,\u001b[49m\u001b[43m \u001b[49m\u001b[43mdtype\u001b[49m\u001b[38;5;241;43m=\u001b[39;49m\u001b[43mdtype\u001b[49m\u001b[43m,\u001b[49m\u001b[43m \u001b[49m\u001b[43mtyp\u001b[49m\u001b[38;5;241;43m=\u001b[39;49m\u001b[43mtyp\u001b[49m\u001b[43m,\u001b[49m\u001b[43m \u001b[49m\u001b[43mconsolidate\u001b[49m\u001b[38;5;241;43m=\u001b[39;49m\u001b[43mcopy\u001b[49m\u001b[43m)\u001b[49m\n",
      "File \u001b[1;32m~\\anaconda3\\envs\\machinelearning\\lib\\site-packages\\pandas\\core\\internals\\construction.py:114\u001b[0m, in \u001b[0;36marrays_to_mgr\u001b[1;34m(arrays, columns, index, dtype, verify_integrity, typ, consolidate)\u001b[0m\n\u001b[0;32m    111\u001b[0m \u001b[38;5;28;01mif\u001b[39;00m verify_integrity:\n\u001b[0;32m    112\u001b[0m     \u001b[38;5;66;03m# figure out the index, if necessary\u001b[39;00m\n\u001b[0;32m    113\u001b[0m     \u001b[38;5;28;01mif\u001b[39;00m index \u001b[38;5;129;01mis\u001b[39;00m \u001b[38;5;28;01mNone\u001b[39;00m:\n\u001b[1;32m--> 114\u001b[0m         index \u001b[38;5;241m=\u001b[39m \u001b[43m_extract_index\u001b[49m\u001b[43m(\u001b[49m\u001b[43marrays\u001b[49m\u001b[43m)\u001b[49m\n\u001b[0;32m    115\u001b[0m     \u001b[38;5;28;01melse\u001b[39;00m:\n\u001b[0;32m    116\u001b[0m         index \u001b[38;5;241m=\u001b[39m ensure_index(index)\n",
      "File \u001b[1;32m~\\anaconda3\\envs\\machinelearning\\lib\\site-packages\\pandas\\core\\internals\\construction.py:667\u001b[0m, in \u001b[0;36m_extract_index\u001b[1;34m(data)\u001b[0m\n\u001b[0;32m    664\u001b[0m         \u001b[38;5;28;01mraise\u001b[39;00m \u001b[38;5;167;01mValueError\u001b[39;00m(\u001b[38;5;124m\"\u001b[39m\u001b[38;5;124mPer-column arrays must each be 1-dimensional\u001b[39m\u001b[38;5;124m\"\u001b[39m)\n\u001b[0;32m    666\u001b[0m \u001b[38;5;28;01mif\u001b[39;00m \u001b[38;5;129;01mnot\u001b[39;00m indexes \u001b[38;5;129;01mand\u001b[39;00m \u001b[38;5;129;01mnot\u001b[39;00m raw_lengths:\n\u001b[1;32m--> 667\u001b[0m     \u001b[38;5;28;01mraise\u001b[39;00m \u001b[38;5;167;01mValueError\u001b[39;00m(\u001b[38;5;124m\"\u001b[39m\u001b[38;5;124mIf using all scalar values, you must pass an index\u001b[39m\u001b[38;5;124m\"\u001b[39m)\n\u001b[0;32m    669\u001b[0m \u001b[38;5;28;01mif\u001b[39;00m have_series:\n\u001b[0;32m    670\u001b[0m     index \u001b[38;5;241m=\u001b[39m union_indexes(indexes)\n",
      "\u001b[1;31mValueError\u001b[0m: If using all scalar values, you must pass an index"
     ]
    }
   ],
   "source": [
    "meses=np.arange(mes_inicial, mes_final, dtype='datetime64[M]')\n",
    "# print(meses)\n",
    "# print(type(meses))\n",
    "# print(type(meses[0]))\n",
    "\n",
    "meses=np.datetime_as_string(meses)\n",
    "# print(meses)\n",
    "# print(type(meses))\n",
    "# print(type(meses[0]))\n",
    "\n",
    "totalData=pd.DataFrame()\n",
    "\n",
    "for mes in meses:\n",
    "    print(apikey)\n",
    "    print(\"obteniendo los datos para el mes: {}\".format(mes))\n",
    "    obtainDataMonth(mes, symbol, interval)\n",
    "    dataMes=read_csv(rutaExport+'{}-{}.csv'.format(symbol, mes), sep=';')\n",
    "    \n",
    "    totalData=pd.concat([totalData, dataMes])\n",
    "#     print(dataMes)\n",
    "    \n",
    "dataAll.to_csv(rutaExport+'{}-{}.csv'.format(symbol, mes), sep=';', index=False)\n",
    "\n",
    "print('-'*30)\n",
    "print(\"Finalizo correctamente\")\n",
    "print('-'*30)"
   ]
  },
  {
   "cell_type": "code",
   "execution_count": null,
   "id": "2cd32c26",
   "metadata": {},
   "outputs": [],
   "source": [
    "# data = r.json()\n",
    "# print(data)\n",
    "print(apikey)"
   ]
  }
 ],
 "metadata": {
  "kernelspec": {
   "display_name": "machinelearning",
   "language": "python",
   "name": "machinelearning"
  },
  "language_info": {
   "codemirror_mode": {
    "name": "ipython",
    "version": 3
   },
   "file_extension": ".py",
   "mimetype": "text/x-python",
   "name": "python",
   "nbconvert_exporter": "python",
   "pygments_lexer": "ipython3",
   "version": "3.10.13"
  }
 },
 "nbformat": 4,
 "nbformat_minor": 5
}
