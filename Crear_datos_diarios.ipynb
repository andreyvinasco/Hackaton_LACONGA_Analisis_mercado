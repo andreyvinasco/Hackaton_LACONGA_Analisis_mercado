{
 "cells": [
  {
   "cell_type": "code",
   "execution_count": 9,
   "id": "52a20994",
   "metadata": {},
   "outputs": [],
   "source": [
    "import requests\n",
    "import pandas as pd\n",
    "import numpy as np\n",
    "\n",
    "def obtainDay_data(symbol, fileExport):    \n",
    "    url = 'https://www.alphavantage.co/query?function=TIME_SERIES_DAILY&symbol='+symbol+'&outputsize=full&apikey=FUU1SOYI000781S9'\n",
    "    r = requests.get(url)\n",
    "    data = r.json()\n",
    "\n",
    "    rawData = pd.DataFrame(data)\n",
    "    rawData.to_csv(fileExport, sep=',')\n",
    "\n",
    "    rawData=rawData[7:]\n",
    "\n",
    "    priceandvolume=pd.DataFrame()\n",
    "\n",
    "    priceandvolume['High']=[d.get('2. high') for d in rawData['Time Series (Daily)']]\n",
    "    priceandvolume['Low']=[d.get('3. low') for d in rawData['Time Series (Daily)']]\n",
    "    priceandvolume['Close']=[d.get('4. close') for d in rawData['Time Series (Daily)']]\n",
    "    priceandvolume['Volume']=[d.get('5. volume') for d in rawData['Time Series (Daily)']]\n",
    "\n",
    "    priceandvolume.to_csv('Data'+symbol+'daily'+'.csv', sep=';', index=False)\n"
   ]
  },
  {
   "cell_type": "code",
   "execution_count": 10,
   "id": "43604abb",
   "metadata": {},
   "outputs": [],
   "source": [
    "symbol='MSFT'\n",
    "obtainDay_data(symbol, \"MSFT_daily\")\n",
    "### porque da error??"
   ]
  },
  {
   "cell_type": "code",
   "execution_count": null,
   "id": "03bcc7bc",
   "metadata": {},
   "outputs": [],
   "source": []
  }
 ],
 "metadata": {
  "kernelspec": {
   "display_name": "Python 3 (ipykernel)",
   "language": "python",
   "name": "python3"
  },
  "language_info": {
   "codemirror_mode": {
    "name": "ipython",
    "version": 3
   },
   "file_extension": ".py",
   "mimetype": "text/x-python",
   "name": "python",
   "nbconvert_exporter": "python",
   "pygments_lexer": "ipython3",
   "version": "3.11.5"
  }
 },
 "nbformat": 4,
 "nbformat_minor": 5
}
