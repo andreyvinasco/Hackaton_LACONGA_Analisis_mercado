{
 "cells": [
  {
   "cell_type": "code",
   "execution_count": 131,
   "id": "dab0e504",
   "metadata": {},
   "outputs": [],
   "source": [
    "import requests\n",
    "def obtainDay_data(symbol, fileExport):    \n",
    "    url = 'https://www.alphavantage.co/query?function=TIME_SERIES_DAILY&symbol='+symbol+'&outputsize=full&apikey=FUU1SOYI000781S9'\n",
    "    r = requests.get(url)\n",
    "    data = r.json()\n",
    "\n",
    "    rawData = pd.DataFrame(data)\n",
    "    rawData.to_csv(fileExport, sep=',')\n",
    "\n",
    "    rawData=rawData[7:]\n",
    "\n",
    "    priceandvolume=pd.DataFrame()\n",
    "\n",
    "    priceandvolume['High']=[d.get('2. high') for d in rawData['Time Series (Daily)']]\n",
    "    priceandvolume['Low']=[d.get('3. low') for d in rawData['Time Series (Daily)']]\n",
    "    priceandvolume['Close']=[d.get('4. close') for d in rawData['Time Series (Daily)']]\n",
    "    priceandvolume['Volume']=[d.get('5. volume') for d in rawData['Time Series (Daily)']]\n",
    "\n",
    "    priceandvolume.to_csv('Data'+symbol+'daily'+'.csv', sep=';', index=False)\n",
    "\n"
   ]
  },
  {
   "cell_type": "code",
   "execution_count": 142,
   "id": "04f428d4",
   "metadata": {},
   "outputs": [],
   "source": [
    "symbol='MSFT'\n",
    "obtainDay_data(symbol, \"MSFT_daily\")\n",
    "### porque da error??"
   ]
  },
  {
   "cell_type": "code",
   "execution_count": null,
   "id": "5cebb7fe",
   "metadata": {},
   "outputs": [],
   "source": []
  },
  {
   "cell_type": "code",
   "execution_count": 88,
   "id": "f54e5f97",
   "metadata": {},
   "outputs": [
    {
     "data": {
      "text/plain": [
       "'\\n#url = \\'https://www.alphavantage.co/query?function=TIME_SERIES_DAILY&symbol=\\'+symbol+\\'&outputsize=full&apikey=FUU1SOYI000781S9\\'\\nr = requests.get(url)\\ndata = r.json()\\n\\nfileExport=\"WTI_daily\"\\n\\nrawData = pd.DataFrame(data)\\nrawData.to_csv(fileExport, sep=\\',\\')\\n    \\nrawData=rawData[7:]\\n    \\npriceandvolume=pd.DataFrame()\\n\\npriceandvolume[\\'High\\']=[d.get(\\'2. high\\') for d in rawData[\\'Time Series (Daily)\\']]\\npriceandvolume[\\'Low\\']=[d.get(\\'3. low\\') for d in rawData[\\'Time Series (Daily)\\']]\\npriceandvolume[\\'Close\\']=[d.get(\\'4. close\\') for d in rawData[\\'Time Series (Daily)\\']]\\npriceandvolume[\\'Volume\\']=[d.get(\\'5. volume\\') for d in rawData[\\'Time Series (Daily)\\']]\\n\\npriceandvolume.to_csv(\\'Data\\'+symbol+\\'daily\\'+\\'.csv\\', sep=\\';\\', index=False)\\n'"
      ]
     },
     "execution_count": 88,
     "metadata": {},
     "output_type": "execute_result"
    }
   ],
   "source": [
    "'''\n",
    "#url = 'https://www.alphavantage.co/query?function=TIME_SERIES_DAILY&symbol='+symbol+'&outputsize=full&apikey=FUU1SOYI000781S9'\n",
    "r = requests.get(url)\n",
    "data = r.json()\n",
    "\n",
    "fileExport=\"WTI_daily\"\n",
    "\n",
    "rawData = pd.DataFrame(data)\n",
    "rawData.to_csv(fileExport, sep=',')\n",
    "    \n",
    "rawData=rawData[7:]\n",
    "    \n",
    "priceandvolume=pd.DataFrame()\n",
    "\n",
    "priceandvolume['High']=[d.get('2. high') for d in rawData['Time Series (Daily)']]\n",
    "priceandvolume['Low']=[d.get('3. low') for d in rawData['Time Series (Daily)']]\n",
    "priceandvolume['Close']=[d.get('4. close') for d in rawData['Time Series (Daily)']]\n",
    "priceandvolume['Volume']=[d.get('5. volume') for d in rawData['Time Series (Daily)']]\n",
    "\n",
    "priceandvolume.to_csv('Data'+symbol+'daily'+'.csv', sep=';', index=False)\n",
    "'''\n"
   ]
  },
  {
   "cell_type": "code",
   "execution_count": 158,
   "id": "6b19ed14",
   "metadata": {},
   "outputs": [
    {
     "name": "stdout",
     "output_type": "stream",
     "text": [
      "librerias cargadas\n"
     ]
    }
   ],
   "source": [
    "## importar librerias\n",
    "import pandas as pd\n",
    "import numpy as np \n",
    "import matplotlib.pyplot as plt\n",
    "import networkx as nx\n",
    "import torch\n",
    "import torch.nn as nn\n",
    "from torch.utils.data import Dataset , DataLoader\n",
    "import matplotlib.pyplot as plt\n",
    "\n",
    "print(\"librerias cargadas\")"
   ]
  },
  {
   "cell_type": "code",
   "execution_count": 159,
   "id": "9be7f967",
   "metadata": {},
   "outputs": [
    {
     "data": {
      "text/plain": [
       "Index(['High', 'Low', 'Close', 'Volume'], dtype='object')"
      ]
     },
     "execution_count": 159,
     "metadata": {},
     "output_type": "execute_result"
    }
   ],
   "source": [
    "csv_file=\"DataWTI.csv\"\n",
    "file = pd.read_csv('./DataWTIdaily.csv',sep=';')\n",
    "#file = pd.read_csv('./DataMSFTdaily.csv',sep=';')\n",
    "df1 = file.head(150000)\n",
    "#df1.columns\n",
    "df1.keys()"
   ]
  },
  {
   "cell_type": "markdown",
   "id": "0b7fec1d",
   "metadata": {},
   "source": [
    "### Nuestra idea es crear etiquetas para el entrenamiento, siguiento la logica de un trader \n",
    "logica trader -> mantener riesgo acotado, asi que la mayoria de estrategias \n",
    "suelen tener un limite de perdidad o \"stop loss\" y una ganancia esperada \"take profit\"\n",
    "seran el stop loss y el take profit lo que usaremos para determinar las etiquetas o \"labels\"\n",
    "que usara nuestra maquina para entrenar\n",
    "\n",
    "Definicion de la etiquita: si hubieramos abierto una posicion en compra/venta, hubieramos acertado?"
   ]
  },
  {
   "cell_type": "code",
   "execution_count": 160,
   "id": "a6588562",
   "metadata": {},
   "outputs": [],
   "source": [
    "## vamos a crear las etiquetas\n",
    "\n",
    "# tp_st_rel = proporcion ganancia esperada, perdida asumible = 2\n",
    "tp_st_rel = 3\n",
    "\n",
    "# desplazamiento esperado del mercado, \n",
    "m_esp = 1\n",
    "#se espera que el mercado llegue a (precio_actual + m_esp*tp_st_rel) \n",
    "# si el precio llega a (precio_actual - m_esp) lo daremos como fallo\n",
    "\n",
    "\n",
    "## vamos a mirar las posiciones siguientes para determinar si hubieramos acertado o no\n",
    "\n",
    "price_up = np.array(df1['High'])\n",
    "price_low = np.array(df1['Low'])\n",
    "price_close = np.array(df1['Close'])\n",
    "\n",
    "# si buscamos señales compra +1, si buscamos señales venta -1\n",
    "buy_or_sell = +1 # -1\n",
    "etiquetas = []"
   ]
  },
  {
   "cell_type": "code",
   "execution_count": 161,
   "id": "2ef0667e",
   "metadata": {},
   "outputs": [
    {
     "data": {
      "text/plain": [
       "4712"
      ]
     },
     "execution_count": 161,
     "metadata": {},
     "output_type": "execute_result"
    }
   ],
   "source": [
    "etiquetas = []\n",
    "for index,row in df1.iterrows():\n",
    "    #print(index)\n",
    "    price_actual = row['Close']\n",
    "    #print(price_actual)\n",
    "    for index_2,row2 in df1[(index+1):].iterrows():\n",
    "        if buy_or_sell==1:\n",
    "            #print(index,index_2)\n",
    "            if row2['High'] > (price_actual+m_esp*tp_st_rel) and row2['Low'] < (price_actual-m_esp):\n",
    "                label = 0 #None \n",
    "                #print(\"111111\")\n",
    "                #existe la posibiliad\n",
    "                etiquetas.append(label)\n",
    "                #continue\n",
    "                break\n",
    "            elif row2['High'] > (price_actual+m_esp*tp_st_rel):\n",
    "                label = 1\n",
    "                etiquetas.append(label)\n",
    "                #continue\n",
    "                break\n",
    "            elif row2['Low'] < (price_actual-m_esp):\n",
    "                label = 0\n",
    "                etiquetas.append(label)\n",
    "                #continue\n",
    "                break\n",
    "            # ultima data no tendra etiquetas\n",
    "        if index_2 == len(df1['Low'])-1:\n",
    "            label = 0 #None\n",
    "            etiquetas.append(label)\n",
    "                \n",
    "etiquetas = np.array(etiquetas)\n",
    "len(etiquetas)"
   ]
  },
  {
   "cell_type": "code",
   "execution_count": 162,
   "id": "0bbe4c03",
   "metadata": {},
   "outputs": [],
   "source": [
    "#etiquetas "
   ]
  },
  {
   "cell_type": "code",
   "execution_count": 163,
   "id": "9e9d7be1",
   "metadata": {
    "scrolled": true
   },
   "outputs": [
    {
     "data": {
      "image/png": "[encoded data removed]",
      "text/plain": [
       "<Figure size 1000x500 with 1 Axes>"
      ]
     },
     "metadata": {},
     "output_type": "display_data"
    }
   ],
   "source": [
    "fig, ax = plt.subplots( figsize=(10, 5))\n",
    "ax.plot(price_close)\n",
    "#ax.plot(etiquetas,\"-\")\n",
    "import matplotlib.transforms as mtransforms\n",
    "x = np.array(range(0, len(etiquetas), 1))\n",
    "trans = mtransforms.blended_transform_factory(ax.transData, ax.transAxes)\n",
    "tras = False\n",
    "#trans =ax.get_xaxis_transform()\n",
    "''' \n",
    "ax.fill_between(x, 9*np.ones(len(x)), 13*np.ones(len(x)), where=etiquetas > 9.6 ,\n",
    "                facecolor='green', alpha=0.5,interpolate=True)\n",
    "ax.fill_between(x, 9*np.ones(len(x)), 13*np.ones(len(x)), where=etiquetas < 9.5,\n",
    "                facecolor='red', alpha=0.5,interpolate=True)\n",
    "ax.fill_between(x, 9*np.ones(len(x)), 13*np.ones(len(x)), where=etiquetas == 9.6 ,\n",
    "                facecolor='orange', alpha=0.5,interpolate=True)\n",
    "ax.fill_between(x, 9*np.ones(len(x)), 13*np.ones(len(x)), where=etiquetas == 9.5,\n",
    "                facecolor='orange', alpha=0.5,interpolate=True)\n",
    "'''\n",
    "ax.fill_between(x, 0, 15, where=etiquetas > 0.6 ,\n",
    "                facecolor='green', alpha=0.5,interpolate=True, transform=trans)\n",
    "ax.fill_between(x, 0, 15, where=etiquetas < 0.5,\n",
    "                facecolor='red', alpha=0.5,interpolate=True, transform=trans)\n",
    "ax.fill_between(x, 0, 15, where=etiquetas == 9.6 ,\n",
    "                facecolor='orange', alpha=0.5,interpolate=True, transform=trans)\n",
    "ax.fill_between(x, 0, 15, where=etiquetas == 9.5,\n",
    "                facecolor='black', alpha=0.5,interpolate=True, transform=trans)\n",
    "#'''\n",
    "#ax.set_xlim([xmin, xmax])\n",
    "ax.set_ylim([0, 80])\n",
    "plt.show()"
   ]
  },
  {
   "cell_type": "markdown",
   "id": "c5971619",
   "metadata": {},
   "source": [
    "## Los datos no tendran vida pero igual necesitan algo de amor <3\n",
    "\n",
    "## Es momento de preparar la data!\n",
    "\n",
    "### ¿Porque?: \n",
    "Los algoritmos sueles funcionar mejor cuando los datos estan normalizados y no tienen valores demasiado alejados entre si.\n",
    "Es decir, si tuvieras por ejemplo como entrada en la red neuronal el valor del precio 4000 y el indicador RSI que esta en el intervalo 0 a 1 entonces el algoritmo no funcionara bien."
   ]
  },
  {
   "cell_type": "code",
   "execution_count": 164,
   "id": "9d0595bf",
   "metadata": {},
   "outputs": [],
   "source": [
    "## temporalidades usadas para mies indicadores\n",
    "SMA_TEMP1 = 14\n",
    "SMA_TEMP2 = 25\n",
    "std_temp_1 = 14\n",
    "num_temp = 8\n",
    "\n",
    "SMA_1_array = []\n",
    "SMA_2_array = []\n",
    "std_1_array = []\n",
    "MACD_1_array = []\n",
    "\n",
    "opcionA = True\n",
    "\n",
    "\n",
    "max_time = np.max([SMA_TEMP1,SMA_TEMP2,std_temp_1,num_temp])\n",
    "\n",
    "\n",
    "#for idx,row in df1.iterrows():\n",
    "for idx in range(max_time,len(df1)):   \n",
    "        \n",
    "    if opcionA:\n",
    "        SMA_1 = np.mean(df1['Close'][(idx-SMA_TEMP1):(idx)]) - df1['Close'][idx]\n",
    "        SMA_2 = np.mean(df1['Close'][(idx-SMA_TEMP2):(idx)]) - df1['Close'][idx]\n",
    "    else:\n",
    "        SMA_1 = np.mean(df1['Close'][(idx-SMA_TEMP1):(idx)]) - np.mean(df1['Close'][(idx-SMA_TEMP2-1):(idx-1)])\n",
    "        SMA_2 = np.mean(df1['Close'][(idx-SMA_TEMP2):(idx)]) - np.mean(df1['Close'][(idx-SMA_TEMP2-1):(idx-1)])\n",
    "    \n",
    "    std_1 = np.std(df1['Close'][(idx-std_temp_1):(idx)])#[idx:(idx+std_temp_1)])\n",
    "    MACD_1 = (0.15*df1['Close'][idx] + 0.85*SMA_1) - (0.075*df1['Close'][idx] + 0.925*SMA_2)\n",
    "\n",
    "    SMA_1_array.append(SMA_1)\n",
    "    SMA_2_array.append(SMA_2)\n",
    "    std_1_array.append(std_1)\n",
    "    MACD_1_array.append(MACD_1)\n",
    "    \n",
    "data_close = df1['Close'][max_time:]\n",
    "etiquetas = etiquetas[(max_time-1):]\n",
    "#print(MACD_1_array)"
   ]
  },
  {
   "cell_type": "code",
   "execution_count": 165,
   "id": "7ff0fb98",
   "metadata": {},
   "outputs": [
    {
     "name": "stdout",
     "output_type": "stream",
     "text": [
      "dataset len: 4713\n",
      "data_close len: 4688\n",
      "etiquetas len: 4688\n",
      "SMA len: 4688\n"
     ]
    }
   ],
   "source": [
    "print(\"dataset len:\",len(df1))\n",
    "print(\"data_close len:\",len(data_close))\n",
    "print(\"etiquetas len:\",len(etiquetas))\n",
    "print(\"SMA len:\",len(SMA_2_array))"
   ]
  },
  {
   "cell_type": "markdown",
   "id": "cd623e8c",
   "metadata": {},
   "source": [
    "Se realizara una normalizacion de los datos para aumentar la estabilidad de la red, esto significa que a cad conjunto de datos se le restara el promedio y se dividira por la desviacion estandar. "
   ]
  },
  {
   "cell_type": "code",
   "execution_count": 166,
   "id": "bac4ff4e",
   "metadata": {
    "scrolled": false
   },
   "outputs": [],
   "source": [
    "def Normalization_vec(vec):\n",
    "    vec = ( vec - np.mean(vec) ) / np.std(vec)  \n",
    "    return vec\n",
    "\n",
    "SMA_1_array = Normalization_vec(SMA_1_array)\n",
    "SMA_2_array = Normalization_vec(SMA_2_array)\n",
    "std_1_array = Normalization_vec(std_1_array)\n",
    "MACD_1_array = Normalization_vec(MACD_1_array)\n",
    "\n",
    "\n",
    "## creacion del dicconario conteniendo las entradas que usaremos en las redes neuronales\n",
    "\n",
    "Dictionary_data ={\n",
    "    \"0\": SMA_1_array,\n",
    "    \"1\": SMA_2_array,\n",
    "    \"2\": std_1_array,\n",
    "    \"3\": MACD_1_array,\n",
    "    \"data_close\": data_close,\n",
    "    \"label\": etiquetas\n",
    "}"
   ]
  },
  {
   "cell_type": "code",
   "execution_count": 167,
   "id": "e707405a",
   "metadata": {},
   "outputs": [],
   "source": [
    "class MyDataSet_train(torch.utils.data.Dataset):\n",
    "    def __init__(self, Dictionary_data, initial_dic):\n",
    "        #self.filename = filename\n",
    "        self.EM14 = 1\n",
    "        self.max_time = max_time\n",
    "        #self.num_serie = 10\n",
    "        \n",
    "    def __len__(self):\n",
    "        return len(Dictionary_data[\"1\"]) - self.max_time\n",
    "    \n",
    "    def __getitem__(self, idx):\n",
    "\n",
    "        features = []\n",
    "        \n",
    "        for i in range (0,len(Dictionary_data)-2):\n",
    "            features.append(Dictionary_data[str(i)][idx])  \n",
    "        \n",
    "        idx_aux = idx+max_time\n",
    "        data_serie = df1['Close'][(idx_aux-num_temp):(idx_aux)]\n",
    "        data_serie = np.array(data_serie,dtype=\"float32\" )\n",
    "        data_serie = data_serie - df1['Close'][(idx_aux-num_temp)]\n",
    "        data_serie = data_serie[1:]\n",
    "        \n",
    "        if idx<25:\n",
    "            print(\"idx_aux->\",idx_aux,\"   \",\"idx->\",idx)\n",
    "            print(\"........\",data_serie)\n",
    "        \n",
    "        #for i in range (0,len(Dictionary_data)-1):\n",
    "        #    features.append(Dictionary_data[str(i)][idx])\n",
    "        #    #print(len(features) )\n",
    "            \n",
    "        return np.array(features,dtype=\"float32\" ), np.array( Dictionary_data[\"label\"][idx],dtype=\"float32\"), data_serie\n"
   ]
  },
  {
   "cell_type": "code",
   "execution_count": 168,
   "id": "fe4c2e86",
   "metadata": {},
   "outputs": [
    {
     "name": "stdout",
     "output_type": "stream",
     "text": [
      "idx_aux-> 31     idx-> 6\n",
      "........ [ 0.03999996 -0.07999992  0.14000034 -0.0999999   0.03999996  0.03000021\n",
      "  0.12000036]\n",
      "idx_aux-> 37     idx-> 12\n",
      "........ [ 0.09000015  0.03999996  0.19999981 -0.11000013 -0.07999992 -0.17999983\n",
      " -0.20000005]\n",
      "idx_aux-> 46     idx-> 21\n",
      "........ [0.11000013 0.21999979 0.27999973 0.3199997  0.23999977 0.0999999\n",
      " 0.1500001 ]\n",
      "idx_aux-> 40     idx-> 15\n",
      "........ [-0.30999994 -0.27999973 -0.37999964 -0.39999986 -0.42999983 -0.48999977\n",
      " -0.37999964]\n",
      "idx_aux-> 25     idx-> 0\n",
      "........ [-0.14000034 -0.17000008 -0.16000032 -0.06000042 -0.10000038 -0.10000038\n",
      " -0.06000042]\n",
      "idx_aux-> 47     idx-> 22\n",
      "........ [ 0.10999966  0.1699996   0.20999956  0.12999964 -0.01000023  0.03999996\n",
      "  0.0999999 ]\n",
      "idx_aux-> 28     idx-> 3\n",
      "........ [ 0.0999999   0.05999994  0.05999994  0.0999999  -0.01999998  0.20000029\n",
      " -0.03999996]\n",
      "idx_aux-> 38     idx-> 13\n",
      "........ [-0.05000019  0.10999966 -0.20000029 -0.17000008 -0.26999998 -0.2900002\n",
      " -0.32000017]\n",
      "idx_aux-> 41     idx-> 16\n",
      "........ [ 0.03000021 -0.06999969 -0.08999991 -0.11999989 -0.17999983 -0.06999969\n",
      "  0.03999996]\n",
      "idx_aux-> 44     idx-> 19\n",
      "........ [-0.02999997 -0.08999991  0.02000022  0.12999988  0.18999982  0.22999978\n",
      "  0.14999986]\n",
      "idx_aux-> 35     idx-> 10\n",
      "........ [0.13999987 0.13000011 0.22000027 0.17000008 0.32999992 0.01999998\n",
      " 0.05000019]\n",
      "idx_aux-> 39     idx-> 14\n",
      "........ [ 0.15999985 -0.1500001  -0.11999989 -0.21999979 -0.24000001 -0.26999998\n",
      " -0.32999992]\n",
      "idx_aux-> 42     idx-> 17\n",
      "........ [-0.0999999  -0.12000012 -0.1500001  -0.21000004 -0.0999999   0.00999975\n",
      "  0.06999969]\n",
      "idx_aux-> 34     idx-> 9\n",
      "........ [-0.24000025 -0.10000038 -0.11000013 -0.01999998 -0.07000017  0.08999968\n",
      " -0.22000027]\n",
      "idx_aux-> 43     idx-> 18\n",
      "........ [-0.02000022 -0.05000019 -0.11000013  0.          0.10999966  0.1699996\n",
      "  0.20999956]\n",
      "idx_aux-> 30     idx-> 5\n",
      "........ [ 0.          0.03999996 -0.07999992  0.14000034 -0.0999999   0.03999996\n",
      "  0.03000021]\n",
      "idx_aux-> 33     idx-> 8\n",
      "........ [ 0.22000027 -0.01999998  0.11999989  0.11000013  0.20000029  0.1500001\n",
      "  0.30999994]\n",
      "idx_aux-> 27     idx-> 2\n",
      "........ [ 0.00999975  0.10999966  0.06999969  0.06999969  0.10999966 -0.01000023\n",
      "  0.21000004]\n",
      "idx_aux-> 32     idx-> 7\n",
      "........ [-0.11999989  0.10000038 -0.13999987  0.         -0.00999975  0.0800004\n",
      "  0.03000021]\n",
      "idx_aux-> 49     idx-> 24\n",
      "........ [ 0.03999996 -0.03999996 -0.17999983 -0.12999964 -0.06999969 -0.05999994\n",
      " -0.13999987]\n",
      "idx_aux-> 26     idx-> 1\n",
      "........ [-0.02999973 -0.01999998  0.07999992  0.03999996  0.03999996  0.07999992\n",
      " -0.03999996]\n",
      "idx_aux-> 48     idx-> 23\n",
      "........ [ 0.05999994  0.0999999   0.01999998 -0.11999989 -0.06999969 -0.00999975\n",
      "  0.        ]\n",
      "idx_aux-> 45     idx-> 20\n",
      "........ [-0.05999994  0.05000019  0.15999985  0.21999979  0.25999975  0.17999983\n",
      "  0.03999996]\n",
      "idx_aux-> 29     idx-> 4\n",
      "........ [-0.03999996 -0.03999996  0.         -0.11999989  0.10000038 -0.13999987\n",
      "  0.        ]\n",
      "idx_aux-> 36     idx-> 11\n",
      "........ [-0.00999975  0.0800004   0.03000021  0.19000006 -0.11999989 -0.08999968\n",
      " -0.18999958]\n"
     ]
    }
   ],
   "source": [
    "Data_set = MyDataSet_train( Dictionary_data, df1 )\n",
    "Batch_number = 128\n",
    "\n",
    "size_train = 0.2\n",
    "\n",
    "from sklearn.model_selection import train_test_split\n",
    "Data_train,Data_test = train_test_split(Data_set, test_size = size_train )#, random_state = 14)\n"
   ]
  },
  {
   "cell_type": "code",
   "execution_count": 169,
   "id": "43449538",
   "metadata": {},
   "outputs": [],
   "source": [
    "# Let's go to use an simple Neural Network :3 :3 :3\n",
    "\n",
    "N_layer1 = 10\n",
    "N_layer2 = 16\n",
    "N_layer3 = 10\n",
    "\n",
    "do_dropout = False\n",
    "Drop_rate = 0.2\n",
    "\n",
    "class NN_simple(nn.Module):\n",
    "    def __init__(self):\n",
    "        super(NN_simple,self).__init__()\n",
    "\n",
    "        self.Drop = nn.Dropout( Drop_rate ) \n",
    "        \n",
    "        self.layer1 = nn.Linear(len(Dictionary_data)-2 ,N_layer1)   \n",
    "        self.layer2 = nn.Linear(N_layer1,N_layer2) \n",
    "        self.layer3 = nn.Linear(N_layer2,N_layer3) \n",
    "        self.layer4 = nn.Linear(N_layer3,1) \n",
    "        #self.layer5 = nn.Linear(N_layer4,1)  \n",
    "        \n",
    "        self.activationReLU = nn.ReLU()\n",
    "        self.activationLeaky = nn.LeakyReLU()\n",
    "        self.activation = nn.Sigmoid()\n",
    "        self.softmax = nn.Softmax(dim=1)\n",
    "\n",
    "    def  forward(self,x): \n",
    "        x = self.layer1(x)\n",
    "        x = self.activationReLU(x)\n",
    "        if do_dropout ==True:\n",
    "            x = self.Drop(x)   ###!!!!!!!!!!!!\n",
    "        \n",
    "        x = self.layer2(x)\n",
    "        x = self.activationReLU(x)\n",
    "        if do_dropout ==True:\n",
    "            x = self.Drop(x)   ###!!!!!!!!!!!!\n",
    "        \n",
    "        x = self.layer3(x)\n",
    "        x = self.activationReLU(x)\n",
    "\n",
    "        if do_dropout ==True:\n",
    "            x = self.Drop(x)   ###!!!!!!!!!!!!\n",
    "        \n",
    "        x = self.layer4(x)\n",
    "\n",
    "        x = nn.functional.sigmoid(x)\n",
    "\n",
    "        return x"
   ]
  },
  {
   "cell_type": "code",
   "execution_count": 170,
   "id": "f4164690",
   "metadata": {},
   "outputs": [
    {
     "data": {
      "text/plain": [
       "CrossEntropyLoss()"
      ]
     },
     "execution_count": 170,
     "metadata": {},
     "output_type": "execute_result"
    }
   ],
   "source": [
    "train_loader = DataLoader(Data_train,batch_size=Batch_number, shuffle=True)\n",
    "test_loader = DataLoader(Data_test,batch_size=Batch_number)#, shuffle=True)\n",
    "\n",
    "model = NN_simple()\n",
    "\n",
    "learning_ratio = 0.002\n",
    "\n",
    "optimizer = torch.optim.Adam(model.parameters(), lr=learning_ratio ) \n",
    "criterion = nn.CrossEntropyLoss()\n",
    "\n",
    "\n",
    "#torch.nn.functional.binary_cross_entropy\n",
    "\n",
    "device = torch.device('cuda' if torch.cuda.is_available() else 'cpu')\n",
    "model.to(device)\n",
    "criterion.to(device)"
   ]
  },
  {
   "cell_type": "code",
   "execution_count": 171,
   "id": "0acefede",
   "metadata": {},
   "outputs": [
    {
     "name": "stdout",
     "output_type": "stream",
     "text": [
      "Epoch [1/12], Loss_train: 20.4661\n",
      "Epoch [1/12], Loss_test: 5.2405\n",
      "Epoch [2/12], Loss_train: 18.9561\n",
      "Epoch [2/12], Loss_test: 5.0306\n",
      "Epoch [3/12], Loss_train: 18.5227\n",
      "Epoch [3/12], Loss_test: 4.9879\n",
      "Epoch [4/12], Loss_train: 18.4054\n",
      "Epoch [4/12], Loss_test: 4.9767\n",
      "Epoch [5/12], Loss_train: 18.2648\n",
      "Epoch [5/12], Loss_test: 4.9733\n",
      "Epoch [6/12], Loss_train: 18.1197\n",
      "Epoch [6/12], Loss_test: 4.9727\n",
      "Epoch [7/12], Loss_train: 18.1748\n",
      "Epoch [7/12], Loss_test: 4.9708\n",
      "Epoch [8/12], Loss_train: 18.1199\n",
      "Epoch [8/12], Loss_test: 4.9639\n",
      "Epoch [9/12], Loss_train: 18.1786\n",
      "Epoch [9/12], Loss_test: 4.9674\n",
      "Epoch [10/12], Loss_train: 17.9697\n",
      "Epoch [10/12], Loss_test: 4.9690\n",
      "Epoch [11/12], Loss_train: 17.9960\n",
      "Epoch [11/12], Loss_test: 4.9576\n",
      "Epoch [12/12], Loss_train: 18.0316\n",
      "Epoch [12/12], Loss_test: 4.9593\n"
     ]
    }
   ],
   "source": [
    "model.train()\n",
    "epoch_loss=0\n",
    "num_epochs= 12\n",
    "for epoch in range(num_epochs):\n",
    "    epoch_loss = 0.0\n",
    "    for data in train_loader:\n",
    "        #data = data.to(device)\n",
    "        model.train()\n",
    "        \n",
    "        optimizer.zero_grad()\n",
    "        out = model(data[0])\n",
    "        out = out.view(-1, out.shape[-1])\n",
    "        \n",
    "        #labels = torch.tensor(data.y, dtype=torch.long).to(device) \n",
    "        labels = data[1]\n",
    "        #print(out.shape)\n",
    "        labels = torch.reshape(labels, (int(list(labels.shape)[0]),1))\n",
    "        \n",
    "        loss = torch.nn.functional.binary_cross_entropy(out, labels)\n",
    "        #print(loss)\n",
    "        loss.backward()\n",
    "        optimizer.step()\n",
    "        \n",
    "        \n",
    "        \n",
    "        epoch_loss += loss.item()\n",
    "    print(f'Epoch [{epoch+1}/{num_epochs}], Loss_train: {epoch_loss:.4f}')\n",
    "\n",
    "    \n",
    "    epoch_loss = 0.0\n",
    "    #model.eval()\n",
    "    nodes_out = torch.tensor([])\n",
    "    labels_test = torch.tensor([])\n",
    "    if (epoch+1)%1==0:\n",
    "        for data in test_loader:\n",
    "            model.eval()\n",
    "            #data = data.to(device)  # Move batch data to the same device as model\n",
    "            out = model(data[0])\n",
    "            out = out.view(-1, out.shape[-1])\n",
    "            labels = data[1] \n",
    "            labels = torch.reshape(labels, (int(list(labels.shape)[0]),1))\n",
    "            loss = torch.nn.functional.binary_cross_entropy(out, labels)\n",
    "    \n",
    "            nodes_out = torch.cat((nodes_out, out), 0)\n",
    "            labels_test = torch.cat((labels_test, labels), 0)    \n",
    "    \n",
    "            epoch_loss += loss.item()\n",
    "        #model.train()\n",
    "        print(f'Epoch [{epoch+1}/{num_epochs}], Loss_test: {epoch_loss:.4f}')\n"
   ]
  },
  {
   "cell_type": "code",
   "execution_count": 172,
   "id": "d6ffac17",
   "metadata": {},
   "outputs": [
    {
     "name": "stdout",
     "output_type": "stream",
     "text": [
      "media score buena prediccion-> tensor(0.3894) \n",
      " media score mala prediccion-> tensor(0.3226)\n",
      "------------------------------------------\n",
      "------------------------------------------\n",
      "cantidad original up-> 330 \n",
      " cantidad original down-> 603\n",
      "------------------------------------------\n",
      "cantidad escogida up-> 285 \n",
      " cantidad escogida down-> 402\n"
     ]
    }
   ],
   "source": [
    "epoch_loss = 0.0\n",
    "model.eval()\n",
    "nodes_out = torch.tensor([])\n",
    "labels_test = torch.tensor([])\n",
    "#for data in train_loader:\n",
    "for data in test_loader:\n",
    "    #data = data.to(device)  # Move batch data to the same device as model\n",
    "    out = model(data[0])\n",
    "    out = out.view(-1, out.shape[-1])\n",
    "    labels = data[1] \n",
    "    labels = torch.reshape(labels, (int(list(labels.shape)[0]),1))\n",
    "    loss = torch.nn.functional.binary_cross_entropy(out, labels)\n",
    "    \n",
    "    nodes_out = torch.cat((nodes_out.clone().detach(), out.clone().detach()), 0)\n",
    "    labels_test = torch.cat((labels_test.clone().detach(), labels.clone().detach()), 0)    \n",
    "    \n",
    "    epoch_loss += loss.item()\n",
    "model.train()\n",
    "\n",
    "\n",
    "nodes_out = torch.squeeze(nodes_out)\n",
    "labels_test = torch.squeeze(labels_test)\n",
    "\n",
    "print(\"media score buena prediccion->\",torch.mean(nodes_out[labels_test>0.5]), \"\\n\" , \"media score mala prediccion->\",torch.mean(nodes_out[labels_test<0.5]))\n",
    "print(\"------------------------------------------\")\n",
    "print(\"------------------------------------------\")\n",
    "\n",
    "print(\"cantidad original up->\",len(labels_test[labels_test>0.5]), \"\\n\" , \"cantidad original down->\",len(labels_test[labels_test<0.5]))\n",
    "print(\"------------------------------------------\")\n",
    "Seleccion_NN = labels_test[nodes_out>0.25]\n",
    "print(\"cantidad escogida up->\",len(Seleccion_NN[Seleccion_NN>0.5]), \"\\n\" , \"cantidad escogida down->\",len(Seleccion_NN[Seleccion_NN<0.5]))\n"
   ]
  },
  {
   "cell_type": "markdown",
   "id": "3aafc672",
   "metadata": {},
   "source": [
    "### Un poquito de magia \n",
    "vamos a escoger un corte en el score de la red neuronal que corresponda a una mantener un 50% de las posiciones buenas en la data de entrenamiento, recuerda no usar nunca nigún parametro de la data de testeo, ya que en principio no sabes nada de ella."
   ]
  },
  {
   "cell_type": "code",
   "execution_count": 173,
   "id": "ea7bee2f",
   "metadata": {},
   "outputs": [
    {
     "name": "stdout",
     "output_type": "stream",
     "text": [
      "cantidad original up-> 330 \n",
      " cantidad original down-> 603\n",
      "------------------------------------------\n",
      "corte puntaje red neuronal -> 0.406\n",
      "cantidad escogida up-> 165 \n",
      " cantidad escogida down-> 186\n"
     ]
    }
   ],
   "source": [
    "def VecROC(VEC):\n",
    "    VEC_sum=0\n",
    "    bkg_sum=0\n",
    "    VEC_out = np.zeros(len(VEC))\n",
    "    #for i in range (len(VEC)-1,-1,-1 ):\n",
    "    for i in range (0,len(VEC),1 ):\n",
    "        VEC_sum += VEC[i]\n",
    "        #VEC_out.append(VEC_sum) \n",
    "        VEC_out[i] = VEC_sum\n",
    "    return VEC_out/VEC_sum\n",
    "\n",
    "\n",
    "number_bins = 100\n",
    "\n",
    "out_malas = nodes_out[labels_test<0.5].detach().numpy()\n",
    "out_buenas = nodes_out[labels_test>0.5].detach().numpy()\n",
    "\n",
    "number_bins=1000\n",
    "\n",
    "hist_malas = np.histogram( out_malas , bins=number_bins , range=(0,1) )\n",
    "hist_buenas = np.histogram( out_buenas , bins=number_bins , range=(0,1) )\n",
    "\n",
    "ROC_malas = VecROC(hist_malas[0])\n",
    "ROC_buenas = VecROC(hist_buenas[0])\n",
    "\n",
    "def verificar_corte_score(vec, eficiencia_señal):\n",
    "    for i in range (0,len(vec)):\n",
    "        if vec[i]>eficiencia_señal:\n",
    "            return i / len(vec) \n",
    "            break\n",
    "            \n",
    "corte_NN = verificar_corte_score(ROC_buenas, 0.5)\n",
    "\n",
    "\n",
    "print(\"cantidad original up->\",len(labels_test[labels_test>0.5]), \"\\n\" , \"cantidad original down->\",len(labels_test[labels_test<0.5]))\n",
    "print(\"------------------------------------------\")\n",
    "print(\"corte puntaje red neuronal ->\",corte_NN)\n",
    "Seleccion_NN = labels_test[nodes_out>corte_NN]\n",
    "print(\"cantidad escogida up->\",len(Seleccion_NN[Seleccion_NN>0.5]), \"\\n\" , \"cantidad escogida down->\",len(Seleccion_NN[Seleccion_NN<0.5]))\n"
   ]
  },
  {
   "cell_type": "markdown",
   "id": "b5332417",
   "metadata": {},
   "source": [
    "### Unas graficas un poco mas especializanas \n",
    "vamos a analizar la Eficiencia señales buenas vs la Eficiencia señales malas, asi como el True y False positive rate."
   ]
  },
  {
   "cell_type": "code",
   "execution_count": 174,
   "id": "686d3ae3",
   "metadata": {},
   "outputs": [
    {
     "data": {
      "image/png": "[encoded data removed]",
      "text/plain": [
       "<Figure size 640x480 with 1 Axes>"
      ]
     },
     "metadata": {},
     "output_type": "display_data"
    }
   ],
   "source": [
    "import matplotlib.pyplot as plt\n",
    "ROC_malas = VecROC(hist_malas[0])\n",
    "ROC_buenas = VecROC(hist_buenas[0])\n",
    "fig, ax = plt.subplots()\n",
    "ax.plot(ROC_buenas[0:], ROC_malas[0:])\n",
    "ax.plot([0.0, 1.0], [0.0, 1.0])\n",
    "#ax.legend(\"qqq\")\n",
    "ax.annotate('Comparativa Eficiencias ' , xy=(330, 100), xycoords='axes points',\n",
    "            size=12, ha='right', va='top', color=\"blue\",\n",
    "            bbox=dict(boxstyle='round', fc='w', color=\"blue\"))\n",
    "ax.annotate('Seleccion aleatoria' , xy=(330, 120), xycoords='axes points',\n",
    "            size=12, ha='right', va='top', color=\"orange\",\n",
    "            bbox=dict(boxstyle='round', fc='w', color=\"orange\"))\n",
    "\n",
    "plt.xlabel(\"Eficiencia señales malas\", size=14)\n",
    "plt.ylabel(\"Eficiencia señales buenas\", size=14)\n",
    "#plt.axvline(x = 0.5, color = 'green')\n",
    "#plt.axhline(y = 0.85, color = 'black')\n",
    "plt.show()"
   ]
  },
  {
   "cell_type": "code",
   "execution_count": 175,
   "id": "b2734f3d",
   "metadata": {},
   "outputs": [
    {
     "data": {
      "image/png": "[encoded data removed]",
      "text/plain": [
       "<Figure size 640x480 with 1 Axes>"
      ]
     },
     "metadata": {},
     "output_type": "display_data"
    }
   ],
   "source": [
    "from sklearn.metrics import roc_curve, roc_auc_score\n",
    "\n",
    "fpr, tpr, thresholds = roc_curve(labels_test, nodes_out )\n",
    "fig, ax = plt.subplots()\n",
    "\n",
    "ax.plot(fpr, tpr)\n",
    "roc_auc = roc_auc_score(labels_test, nodes_out )\n",
    "ax.annotate(f'Area Bajo la curva {roc_auc:.4f}' , xy=(310, 120), xycoords='axes points',\n",
    "            size=12, ha='right', va='top',\n",
    "            bbox=dict(boxstyle='round', fc='w'))\n",
    "plt.xlabel(\"False positive rate\", size=14)\n",
    "plt.ylabel(\"True positive rate\", size=14)\n",
    "plt.savefig('roc_curve.png')\n",
    "plt.show()"
   ]
  },
  {
   "cell_type": "markdown",
   "id": "dfb977a0",
   "metadata": {},
   "source": [
    "## Funcionaaaaa!!!\n",
    "\n",
    "### ¿Y ahora que?\n",
    "\n",
    "Veamos ni se puede mejor el resultado :D :D\n",
    "\n",
    "Con este fin incluiremos una long short-term memory (LSTM) layer a nuestra red neuronal"
   ]
  },
  {
   "cell_type": "code",
   "execution_count": 176,
   "id": "1337b83d",
   "metadata": {},
   "outputs": [],
   "source": [
    "# Let's go to use an simple Neural Network :3 :3 :3\n",
    "\n",
    "N_layer1 = 10\n",
    "N_layer2 = 16\n",
    "N_layer3 = 10\n",
    "\n",
    "do_dropout = False\n",
    "Drop_rate = 0.2\n",
    "\n",
    "class NN_plus_LSTM(nn.Module):\n",
    "    def __init__(self):\n",
    "        super(NN_plus_LSTM,self).__init__()\n",
    "\n",
    "        self.Drop = nn.Dropout( Drop_rate ) \n",
    "        \n",
    "        self.layer1 = nn.Linear(len(Dictionary_data)-2 ,N_layer1)   \n",
    "        self.layer2 = nn.Linear(N_layer1,N_layer2) \n",
    "        self.layer3 = nn.Linear(N_layer2+8,N_layer3) \n",
    "        self.layer4 = nn.Linear(N_layer3,1) \n",
    "        #self.layer5 = nn.Linear(N_layer4,1)  \n",
    "        \n",
    "        self.LSTM = nn.LSTM(input_size=8, hidden_size=64, num_layers=1, batch_first=True)\n",
    "        #self.LSTM = nn.LSTM(input_size=1, hidden_dim=32, num_layers=1)\n",
    "        #self.LSTM = nn.LSTM(1, 32, num_layers=1)\n",
    "        # recuerda que num_temp esta definido arriba!\n",
    "        # self.lstm = nn.LSTM(embedding_dim, hidden_dim) # ejemplo de pytorch\n",
    "        self.LinearLayer_lstm = nn.Linear(64,8)\n",
    "        \n",
    "        self.activationReLU = nn.ReLU()\n",
    "        self.activationLeaky = nn.LeakyReLU()\n",
    "        self.activation = nn.Sigmoid()\n",
    "        self.softmax = nn.Softmax(dim=1) \n",
    "        \n",
    "    def  forward(self, x , serie_data):   \n",
    "        \n",
    "        #for i in range(0,len(serie_data)):\n",
    "        #    print(serie_data[i])\n",
    "        \n",
    "        series_out, (a,b) = self.LSTM(serie_data)\n",
    "        #print(\"000\",series_out[0])\n",
    "\n",
    "        series_out = self.LinearLayer_lstm(series_out)\n",
    "        \n",
    "        x = self.layer1(x)\n",
    "        x = self.activationReLU(x)\n",
    "        if do_dropout ==True:\n",
    "            x = self.Drop(x)   ###!!!!!!!!!!!!\n",
    "                \n",
    "        x = self.layer2(x)\n",
    "        x = self.activationReLU(x)\n",
    "        if do_dropout ==True:\n",
    "            x = self.Drop(x)   ###!!!!!!!!!!!!\n",
    "\n",
    "        x = torch.cat(( x, series_out ), dim=1)\n",
    "\n",
    "        #print(\"111\",series_out)\n",
    "\n",
    "        x = self.layer3(x)\n",
    "        x = self.activationReLU(x)\n",
    "\n",
    "        if do_dropout ==True:\n",
    "            x = self.Drop(x)   ###!!!!!!!!!!!!\n",
    "        \n",
    "        x = self.layer4(x)\n",
    "\n",
    "        x = nn.functional.sigmoid(x)\n",
    "        \n",
    "        #print(\"222\",x)\n",
    "\n",
    "        return x\n"
   ]
  },
  {
   "cell_type": "code",
   "execution_count": 177,
   "id": "366482c0",
   "metadata": {},
   "outputs": [
    {
     "data": {
      "text/plain": [
       "NN_plus_LSTM(\n",
       "  (Drop): Dropout(p=0.2, inplace=False)\n",
       "  (layer1): Linear(in_features=4, out_features=10, bias=True)\n",
       "  (layer2): Linear(in_features=10, out_features=16, bias=True)\n",
       "  (layer3): Linear(in_features=24, out_features=10, bias=True)\n",
       "  (layer4): Linear(in_features=10, out_features=1, bias=True)\n",
       "  (LSTM): LSTM(8, 64, batch_first=True)\n",
       "  (LinearLayer_lstm): Linear(in_features=64, out_features=8, bias=True)\n",
       "  (activationReLU): ReLU()\n",
       "  (activationLeaky): LeakyReLU(negative_slope=0.01)\n",
       "  (activation): Sigmoid()\n",
       "  (softmax): Softmax(dim=1)\n",
       ")"
      ]
     },
     "execution_count": 177,
     "metadata": {},
     "output_type": "execute_result"
    }
   ],
   "source": [
    "model = NN_plus_LSTM()\n",
    "\n",
    "learning_ratio = 0.003\n",
    "optimizer = torch.optim.Adam(model.parameters(), lr=learning_ratio ) \n",
    "criterion = nn.CrossEntropyLoss()\n",
    "\n",
    "device = torch.device('cuda' if torch.cuda.is_available() else 'cpu')\n",
    "model.to(device)"
   ]
  },
  {
   "cell_type": "code",
   "execution_count": 178,
   "id": "01422864",
   "metadata": {},
   "outputs": [
    {
     "name": "stdout",
     "output_type": "stream",
     "text": [
      "Epoch [1/15], Loss_train: 19.2676\n",
      "Epoch [1/15], Loss_test: 5.1365\n",
      "Epoch [2/15], Loss_train: 18.7049\n",
      "Epoch [2/15], Loss_test: 5.0291\n",
      "Epoch [3/15], Loss_train: 18.3092\n",
      "Epoch [3/15], Loss_test: 4.9788\n",
      "Epoch [4/15], Loss_train: 18.1159\n",
      "Epoch [4/15], Loss_test: 4.9538\n",
      "Epoch [5/15], Loss_train: 18.0614\n",
      "Epoch [5/15], Loss_test: 4.9398\n",
      "Epoch [6/15], Loss_train: 17.7154\n",
      "Epoch [6/15], Loss_test: 4.9369\n",
      "Epoch [7/15], Loss_train: 17.6727\n",
      "Epoch [7/15], Loss_test: 4.9309\n",
      "Epoch [8/15], Loss_train: 17.5670\n",
      "Epoch [8/15], Loss_test: 4.8949\n",
      "Epoch [9/15], Loss_train: 17.5208\n",
      "Epoch [9/15], Loss_test: 4.8665\n",
      "Epoch [10/15], Loss_train: 17.3955\n",
      "Epoch [10/15], Loss_test: 4.8640\n",
      "Epoch [11/15], Loss_train: 17.3897\n",
      "Epoch [11/15], Loss_test: 4.8960\n",
      "Epoch [12/15], Loss_train: 17.6002\n",
      "Epoch [12/15], Loss_test: 4.8674\n",
      "Epoch [13/15], Loss_train: 17.4694\n",
      "Epoch [13/15], Loss_test: 4.8572\n",
      "Epoch [14/15], Loss_train: 17.2771\n",
      "Epoch [14/15], Loss_test: 4.8756\n",
      "Epoch [15/15], Loss_train: 17.4540\n",
      "Epoch [15/15], Loss_test: 4.8570\n"
     ]
    }
   ],
   "source": [
    "model.train()\n",
    "epoch_loss=0\n",
    "num_epochs= 15\n",
    "for epoch in range(num_epochs):\n",
    "    epoch_loss = 0.0\n",
    "    for data in train_loader:\n",
    "        #data = data.to(device)\n",
    "        \n",
    "        model.train()\n",
    "        \n",
    "        optimizer.zero_grad()\n",
    "        #out = model(data[0])#,data[2])\n",
    "        out = model(data[0],data[2])\n",
    "        out = out.view(-1, out.shape[-1])\n",
    "        \n",
    "        #labels = torch.tensor(data.y, dtype=torch.long).to(device) \n",
    "        labels = data[1]\n",
    "        #print(out.shape)\n",
    "        labels = torch.reshape(labels, (int(list(labels.shape)[0]),1))\n",
    "        \n",
    "        loss = torch.nn.functional.binary_cross_entropy(out, labels)\n",
    "        #print(loss)\n",
    "        loss.backward()\n",
    "        optimizer.step()\n",
    "        \n",
    "        \n",
    "        epoch_loss += loss.item()\n",
    "    print(f'Epoch [{epoch+1}/{num_epochs}], Loss_train: {epoch_loss:.4f}')\n",
    "\n",
    "    \n",
    "    epoch_loss = 0.0\n",
    "    #model.eval()\n",
    "    nodes_out = torch.tensor([])\n",
    "    labels_test = torch.tensor([])\n",
    "    if (epoch+1)%1==0:\n",
    "        for data in test_loader:\n",
    "            model.eval()\n",
    "            #data = data.to(device)  # Move batch data to the same device as model\n",
    "            #out = model(data[0])#,data[2])\n",
    "            out = model(data[0],data[2])\n",
    "            out = out.view(-1, out.shape[-1])\n",
    "            labels = data[1] \n",
    "            labels = torch.reshape(labels, (int(list(labels.shape)[0]),1))\n",
    "            loss = torch.nn.functional.binary_cross_entropy(out, labels)\n",
    "    \n",
    "            nodes_out = torch.cat((nodes_out, out), 0)\n",
    "            labels_test = torch.cat((labels_test, labels), 0)    \n",
    "    \n",
    "            epoch_loss += loss.item()\n",
    "        #model.train()\n",
    "        print(f'Epoch [{epoch+1}/{num_epochs}], Loss_test: {epoch_loss:.4f}')\n"
   ]
  },
  {
   "cell_type": "code",
   "execution_count": 179,
   "id": "c82e8c52",
   "metadata": {},
   "outputs": [
    {
     "name": "stdout",
     "output_type": "stream",
     "text": [
      "Epoch [15/15], Loss_test: 4.8570\n"
     ]
    }
   ],
   "source": [
    "epoch_loss = 0.0\n",
    "model.eval()\n",
    "nodes_out = torch.tensor([])\n",
    "labels_test = torch.tensor([])\n",
    "#for data in train_loader:\n",
    "for data in test_loader:\n",
    "    #data = data.to(device)  # Move batch data to the same device as model\n",
    "    \n",
    "    #out = model(data[0])#,data[2])\n",
    "    out = model(data[0],data[2])\n",
    "    out = out.view(-1, out.shape[-1])\n",
    "    labels = data[1] \n",
    "    labels = torch.reshape(labels, (int(list(labels.shape)[0]),1))\n",
    "    loss = torch.nn.functional.binary_cross_entropy(out, labels)\n",
    "    \n",
    "    nodes_out = torch.cat((nodes_out.clone().detach(), out.clone().detach()), 0)\n",
    "    labels_test = torch.cat((labels_test.clone().detach(), labels.clone().detach()), 0)    \n",
    "    \n",
    "    epoch_loss += loss.item()\n",
    "model.train()\n",
    "\n",
    "\n",
    "nodes_out = torch.squeeze(nodes_out)\n",
    "labels_test = torch.squeeze(labels_test)\n",
    "\n",
    "print(f'Epoch [{epoch+1}/{num_epochs}], Loss_test: {epoch_loss:.4f}')\n"
   ]
  },
  {
   "cell_type": "code",
   "execution_count": 180,
   "id": "ff94f14a",
   "metadata": {},
   "outputs": [
    {
     "name": "stdout",
     "output_type": "stream",
     "text": [
      "media score buena prediccion-> tensor(0.4282) \n",
      " media score mala prediccion-> tensor(0.3226)\n",
      "------------------------------------------\n",
      "------------------------------------------\n",
      "cantidad original up-> 330 \n",
      " cantidad original down-> 603\n",
      "------------------------------------------\n",
      "cantidad escogida up-> 284 \n",
      " cantidad escogida down-> 371\n"
     ]
    }
   ],
   "source": [
    "print(\"media score buena prediccion->\",torch.mean(nodes_out[labels_test>0.5]), \"\\n\" , \"media score mala prediccion->\",torch.mean(nodes_out[labels_test<0.5]))\n",
    "print(\"------------------------------------------\")\n",
    "print(\"------------------------------------------\")\n",
    "\n",
    "print(\"cantidad original up->\",len(labels_test[labels_test>0.5]), \"\\n\" , \"cantidad original down->\",len(labels_test[labels_test<0.5]))\n",
    "print(\"------------------------------------------\")\n",
    "Seleccion_NN = labels_test[nodes_out>0.25]\n",
    "print(\"cantidad escogida up->\",len(Seleccion_NN[Seleccion_NN>0.5]), \"\\n\" , \"cantidad escogida down->\",len(Seleccion_NN[Seleccion_NN<0.5]))\n"
   ]
  },
  {
   "cell_type": "code",
   "execution_count": 181,
   "id": "ae033ec0",
   "metadata": {},
   "outputs": [
    {
     "name": "stdout",
     "output_type": "stream",
     "text": [
      "cantidad original up-> 330 \n",
      " cantidad original down-> 603\n",
      "------------------------------------------\n",
      "corte puntaje red neuronal -> 0.445\n",
      "cantidad escogida up-> 165 \n",
      " cantidad escogida down-> 160\n"
     ]
    }
   ],
   "source": [
    "def VecROC(VEC):\n",
    "    VEC_sum=0\n",
    "    bkg_sum=0\n",
    "    VEC_out = np.zeros(len(VEC))\n",
    "    #for i in range (len(VEC)-1,-1,-1 ):\n",
    "    for i in range (0,len(VEC),1 ):\n",
    "        VEC_sum += VEC[i]\n",
    "        #VEC_out.append(VEC_sum) \n",
    "        VEC_out[i] = VEC_sum\n",
    "    return VEC_out/VEC_sum\n",
    "\n",
    "\n",
    "number_bins = 100\n",
    "\n",
    "out_malas = nodes_out[labels_test<0.5].detach().numpy()\n",
    "out_buenas = nodes_out[labels_test>0.5].detach().numpy()\n",
    "\n",
    "number_bins=1000\n",
    "\n",
    "hist_malas = np.histogram( out_malas , bins=number_bins , range=(0,1) )\n",
    "hist_buenas = np.histogram( out_buenas , bins=number_bins , range=(0,1) )\n",
    "\n",
    "ROC_malas = VecROC(hist_malas[0])\n",
    "ROC_buenas = VecROC(hist_buenas[0])\n",
    "\n",
    "def verificar_corte_score(vec, eficiencia_señal):\n",
    "    for i in range (0,len(vec)):\n",
    "        if vec[i]>eficiencia_señal:\n",
    "            return i / len(vec) \n",
    "            break\n",
    "            \n",
    "corte_NN = verificar_corte_score(ROC_buenas, 0.5)\n",
    "\n",
    "\n",
    "print(\"cantidad original up->\",len(labels_test[labels_test>0.5]), \"\\n\" , \"cantidad original down->\",len(labels_test[labels_test<0.5]))\n",
    "print(\"------------------------------------------\")\n",
    "print(\"corte puntaje red neuronal ->\",corte_NN)\n",
    "Seleccion_NN = labels_test[nodes_out>corte_NN]\n",
    "print(\"cantidad escogida up->\",len(Seleccion_NN[Seleccion_NN>0.5]), \"\\n\" , \"cantidad escogida down->\",len(Seleccion_NN[Seleccion_NN<0.5]))\n"
   ]
  },
  {
   "cell_type": "code",
   "execution_count": 182,
   "id": "3f6d3e3b",
   "metadata": {},
   "outputs": [
    {
     "data": {
      "image/png": "[encoded data removed]",
      "text/plain": [
       "<Figure size 640x480 with 1 Axes>"
      ]
     },
     "metadata": {},
     "output_type": "display_data"
    }
   ],
   "source": [
    "import matplotlib.pyplot as plt\n",
    "ROC_malas = VecROC(hist_malas[0])\n",
    "ROC_buenas = VecROC(hist_buenas[0])\n",
    "fig, ax = plt.subplots()\n",
    "ax.plot(ROC_buenas[0:], ROC_malas[0:])\n",
    "ax.plot([0.0, 1.0], [0.0, 1.0])\n",
    "plt.xlabel(\"Eficiencia señales malas\", size=14)\n",
    "plt.ylabel(\"Eficiencia señales buenas\", size=14)\n",
    "ax.annotate('Comparativa Eficiencias ' , xy=(330, 100), xycoords='axes points',\n",
    "            size=12, ha='right', va='top', color=\"blue\",\n",
    "            bbox=dict(boxstyle='round', fc='w', color=\"blue\"))\n",
    "ax.annotate('Seleccion aleatoria' , xy=(330, 120), xycoords='axes points',\n",
    "            size=12, ha='right', va='top', color=\"orange\",\n",
    "            bbox=dict(boxstyle='round', fc='w', color=\"orange\"))\n",
    "#plt.axvline(x = 0.5, color = 'green')\n",
    "#plt.axhline(y = 0.85, color = 'black')\n",
    "plt.show()"
   ]
  },
  {
   "cell_type": "code",
   "execution_count": 183,
   "id": "47441880",
   "metadata": {},
   "outputs": [
    {
     "data": {
      "image/png": "[encoded data removed]",
      "text/plain": [
       "<Figure size 640x480 with 1 Axes>"
      ]
     },
     "metadata": {},
     "output_type": "display_data"
    }
   ],
   "source": [
    "from sklearn.metrics import roc_curve, roc_auc_score\n",
    "\n",
    "fpr, tpr, thresholds = roc_curve(labels_test, nodes_out )\n",
    "fig, ax = plt.subplots()\n",
    "\n",
    "ax.plot(fpr, tpr)\n",
    "roc_auc = roc_auc_score(labels_test, nodes_out )\n",
    "ax.annotate(f'Area Bajo la curva {roc_auc:.4f}' , xy=(310, 120), xycoords='axes points',\n",
    "            size=12, ha='right', va='top',\n",
    "            bbox=dict(boxstyle='round', fc='w'))\n",
    "plt.xlabel(\"False positive rate\", size=14)\n",
    "plt.ylabel(\"True positive rate\", size=14)\n",
    "plt.savefig('roc_curve.png')\n",
    "plt.show()"
   ]
  },
  {
   "cell_type": "markdown",
   "id": "b9a56d83",
   "metadata": {},
   "source": [
    "### El area bajo la curva es mayor, esto nos confirma que añadir una long short-term memory (LSTM) definitivamente ayuda a nuestro algoritmo a predecir mejor!! :D :D\n",
    "\n",
    "aun asi te animamos a correr nuevamente el notebook para que lo corrobores ;)"
   ]
  },
  {
   "cell_type": "code",
   "execution_count": null,
   "id": "2a1e6925",
   "metadata": {},
   "outputs": [],
   "source": []
  },
  {
   "cell_type": "code",
   "execution_count": null,
   "id": "ed23af39",
   "metadata": {},
   "outputs": [],
   "source": []
  },
  {
   "cell_type": "code",
   "execution_count": null,
   "id": "a3bf4fba",
   "metadata": {},
   "outputs": [],
   "source": []
  },
  {
   "cell_type": "code",
   "execution_count": null,
   "id": "62e1a3e3",
   "metadata": {},
   "outputs": [],
   "source": []
  },
  {
   "cell_type": "code",
   "execution_count": null,
   "id": "0d874a67",
   "metadata": {},
   "outputs": [],
   "source": []
  },
  {
   "cell_type": "code",
   "execution_count": null,
   "id": "c656fd40",
   "metadata": {},
   "outputs": [],
   "source": []
  }
 ],
 "metadata": {
  "kernelspec": {
   "display_name": "Python 3 (ipykernel)",
   "language": "python",
   "name": "python3"
  },
  "language_info": {
   "codemirror_mode": {
    "name": "ipython",
    "version": 3
   },
   "file_extension": ".py",
   "mimetype": "text/x-python",
   "name": "python",
   "nbconvert_exporter": "python",
   "pygments_lexer": "ipython3",
   "version": "3.11.5"
  }
 },
 "nbformat": 4,
 "nbformat_minor": 5
}
