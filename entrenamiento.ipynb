{
 "cells": [
  {
   "cell_type": "code",
   "execution_count": 131,
   "id": "dab0e504",
   "metadata": {},
   "outputs": [],
   "source": [
    "import requests\n",
    "def obtainDay_data(symbol, fileExport):    \n",
    "    url = 'https://www.alphavantage.co/query?function=TIME_SERIES_DAILY&symbol='+symbol+'&outputsize=full&apikey=FUU1SOYI000781S9'\n",
    "    r = requests.get(url)\n",
    "    data = r.json()\n",
    "\n",
    "    rawData = pd.DataFrame(data)\n",
    "    rawData.to_csv(fileExport, sep=',')\n",
    "\n",
    "    rawData=rawData[7:]\n",
    "\n",
    "    priceandvolume=pd.DataFrame()\n",
    "\n",
    "    priceandvolume['High']=[d.get('2. high') for d in rawData['Time Series (Daily)']]\n",
    "    priceandvolume['Low']=[d.get('3. low') for d in rawData['Time Series (Daily)']]\n",
    "    priceandvolume['Close']=[d.get('4. close') for d in rawData['Time Series (Daily)']]\n",
    "    priceandvolume['Volume']=[d.get('5. volume') for d in rawData['Time Series (Daily)']]\n",
    "\n",
    "    priceandvolume.to_csv('Data'+symbol+'daily'+'.csv', sep=';', index=False)\n",
    "\n"
   ]
  },
  {
   "cell_type": "code",
   "execution_count": 142,
   "id": "04f428d4",
   "metadata": {},
   "outputs": [],
   "source": [
    "symbol='MSFT'\n",
    "obtainDay_data(symbol, \"MSFT_daily\")\n",
    "### porque da error??"
   ]
  },
  {
   "cell_type": "code",
   "execution_count": null,
   "id": "68e7a690",
   "metadata": {},
   "outputs": [],
   "source": []
  },
  {
   "cell_type": "code",
   "execution_count": 88,
   "id": "f54e5f97",
   "metadata": {},
   "outputs": [
    {
     "data": {
      "text/plain": [
       "'\\n#url = \\'https://www.alphavantage.co/query?function=TIME_SERIES_DAILY&symbol=\\'+symbol+\\'&outputsize=full&apikey=FUU1SOYI000781S9\\'\\nr = requests.get(url)\\ndata = r.json()\\n\\nfileExport=\"WTI_daily\"\\n\\nrawData = pd.DataFrame(data)\\nrawData.to_csv(fileExport, sep=\\',\\')\\n    \\nrawData=rawData[7:]\\n    \\npriceandvolume=pd.DataFrame()\\n\\npriceandvolume[\\'High\\']=[d.get(\\'2. high\\') for d in rawData[\\'Time Series (Daily)\\']]\\npriceandvolume[\\'Low\\']=[d.get(\\'3. low\\') for d in rawData[\\'Time Series (Daily)\\']]\\npriceandvolume[\\'Close\\']=[d.get(\\'4. close\\') for d in rawData[\\'Time Series (Daily)\\']]\\npriceandvolume[\\'Volume\\']=[d.get(\\'5. volume\\') for d in rawData[\\'Time Series (Daily)\\']]\\n\\npriceandvolume.to_csv(\\'Data\\'+symbol+\\'daily\\'+\\'.csv\\', sep=\\';\\', index=False)\\n'"
      ]
     },
     "execution_count": 88,
     "metadata": {},
     "output_type": "execute_result"
    }
   ],
   "source": [
    "'''\n",
    "#url = 'https://www.alphavantage.co/query?function=TIME_SERIES_DAILY&symbol='+symbol+'&outputsize=full&apikey=FUU1SOYI000781S9'\n",
    "r = requests.get(url)\n",
    "data = r.json()\n",
    "\n",
    "fileExport=\"WTI_daily\"\n",
    "\n",
    "rawData = pd.DataFrame(data)\n",
    "rawData.to_csv(fileExport, sep=',')\n",
    "    \n",
    "rawData=rawData[7:]\n",
    "    \n",
    "priceandvolume=pd.DataFrame()\n",
    "\n",
    "priceandvolume['High']=[d.get('2. high') for d in rawData['Time Series (Daily)']]\n",
    "priceandvolume['Low']=[d.get('3. low') for d in rawData['Time Series (Daily)']]\n",
    "priceandvolume['Close']=[d.get('4. close') for d in rawData['Time Series (Daily)']]\n",
    "priceandvolume['Volume']=[d.get('5. volume') for d in rawData['Time Series (Daily)']]\n",
    "\n",
    "priceandvolume.to_csv('Data'+symbol+'daily'+'.csv', sep=';', index=False)\n",
    "'''\n"
   ]
  },
  {
   "cell_type": "code",
   "execution_count": 1,
   "id": "6b19ed14",
   "metadata": {},
   "outputs": [
    {
     "name": "stdout",
     "output_type": "stream",
     "text": [
      "librerias cargadas\n"
     ]
    }
   ],
   "source": [
    "## importar librerias\n",
    "import pandas as pd\n",
    "import numpy as np \n",
    "import matplotlib.pyplot as plt\n",
    "import networkx as nx\n",
    "import torch\n",
    "import torch.nn as nn\n",
    "from torch.utils.data import Dataset , DataLoader\n",
    "import matplotlib.pyplot as plt\n",
    "\n",
    "print(\"librerias cargadas\")"
   ]
  },
  {
   "cell_type": "code",
   "execution_count": 2,
   "id": "9be7f967",
   "metadata": {},
   "outputs": [
    {
     "data": {
      "text/plain": [
       "Index(['High', 'Low', 'Close', 'Volume'], dtype='object')"
      ]
     },
     "execution_count": 2,
     "metadata": {},
     "output_type": "execute_result"
    }
   ],
   "source": [
    "csv_file=\"DataWTI.csv\"\n",
    "file = pd.read_csv('./DataWTIdaily.csv',sep=';')\n",
    "#file = pd.read_csv('./DataMSFTdaily.csv',sep=';')\n",
    "df1 = file.head(150000)\n",
    "#df1.columns\n",
    "df1.keys()"
   ]
  },
  {
   "cell_type": "markdown",
   "id": "0b7fec1d",
   "metadata": {},
   "source": [
    "### nuestra idea es crear etiquetas para el entrenamiento, siguiento la logica de un trader \n",
    "logica trader -> mantener riesgo acotado, asi que la mayoria de estrategias \n",
    "suelen tener un limite de perdidad o \"stop loss\" y una ganancia esperada \"take profit\"\n",
    "seran el stop loss y el take profit lo que usaremos para determinar las etiquetas o \"labels\"\n",
    "que usara nuestra maquina para entrenar\n",
    "\n",
    "Definicion de la etiquita: si hubieramos abierto una posicion en compra/venta, hubieramos acertado?"
   ]
  },
  {
   "cell_type": "code",
   "execution_count": 3,
   "id": "a6588562",
   "metadata": {},
   "outputs": [],
   "source": [
    "## vamos a crear las etiquetas\n",
    "\n",
    "# tp_st_rel = proporcion ganancia esperada, perdida asumible = 2\n",
    "tp_st_rel = 3\n",
    "\n",
    "# desplazamiento esperado del mercado, \n",
    "m_esp = 1\n",
    "#se espera que el mercado llegue a (precio_actual + m_esp*tp_st_rel) \n",
    "# si el precio llega a (precio_actual - m_esp) lo daremos como fallo\n",
    "\n",
    "\n",
    "## vamos a mirar las posiciones siguientes para determinar si hubieramos acertado o no\n",
    "\n",
    "price_up = np.array(df1['High'])\n",
    "price_low = np.array(df1['Low'])\n",
    "price_close = np.array(df1['Close'])\n",
    "\n",
    "# si buscamos señales compra +1, si buscamos señales venta -1\n",
    "buy_or_sell = +1 # -1\n",
    "etiquetas = []"
   ]
  },
  {
   "cell_type": "code",
   "execution_count": 4,
   "id": "2ef0667e",
   "metadata": {},
   "outputs": [
    {
     "data": {
      "text/plain": [
       "4712"
      ]
     },
     "execution_count": 4,
     "metadata": {},
     "output_type": "execute_result"
    }
   ],
   "source": [
    "etiquetas = []\n",
    "for index,row in df1.iterrows():\n",
    "    #print(index)\n",
    "    price_actual = row['Close']\n",
    "    #print(price_actual)\n",
    "    for index_2,row2 in df1[(index+1):].iterrows():\n",
    "        if buy_or_sell==1:\n",
    "            #print(index,index_2)\n",
    "            if row2['High'] > (price_actual+m_esp*tp_st_rel) and row2['Low'] < (price_actual-m_esp):\n",
    "                label = 0 #None \n",
    "                #print(\"111111\")\n",
    "                #existe la posibiliad\n",
    "                etiquetas.append(label)\n",
    "                #continue\n",
    "                break\n",
    "            elif row2['High'] > (price_actual+m_esp*tp_st_rel):\n",
    "                label = 1\n",
    "                etiquetas.append(label)\n",
    "                #continue\n",
    "                break\n",
    "            elif row2['Low'] < (price_actual-m_esp):\n",
    "                label = 0\n",
    "                etiquetas.append(label)\n",
    "                #continue\n",
    "                break\n",
    "            # ultima data no tendra etiquetas\n",
    "        if index_2 == len(df1['Low'])-1:\n",
    "            label = 0 #None\n",
    "            etiquetas.append(label)\n",
    "                \n",
    "etiquetas = np.array(etiquetas)\n",
    "len(etiquetas)"
   ]
  },
  {
   "cell_type": "code",
   "execution_count": 5,
   "id": "0bbe4c03",
   "metadata": {},
   "outputs": [],
   "source": [
    "#etiquetas "
   ]
  },
  {
   "cell_type": "code",
   "execution_count": 6,
   "id": "9e9d7be1",
   "metadata": {
    "scrolled": true
   },
   "outputs": [
    {
     "data": {
      "image/png": "[encoded data removed]",
      "text/plain": [
       "<Figure size 1000x500 with 1 Axes>"
      ]
     },
     "metadata": {},
     "output_type": "display_data"
    }
   ],
   "source": [
    "fig, ax = plt.subplots( figsize=(10, 5))\n",
    "ax.plot(price_close)\n",
    "#ax.plot(etiquetas,\"-\")\n",
    "import matplotlib.transforms as mtransforms\n",
    "x = np.array(range(0, len(etiquetas), 1))\n",
    "trans = mtransforms.blended_transform_factory(ax.transData, ax.transAxes)\n",
    "tras = False\n",
    "#trans =ax.get_xaxis_transform()\n",
    "''' \n",
    "ax.fill_between(x, 9*np.ones(len(x)), 13*np.ones(len(x)), where=etiquetas > 9.6 ,\n",
    "                facecolor='green', alpha=0.5,interpolate=True)\n",
    "ax.fill_between(x, 9*np.ones(len(x)), 13*np.ones(len(x)), where=etiquetas < 9.5,\n",
    "                facecolor='red', alpha=0.5,interpolate=True)\n",
    "ax.fill_between(x, 9*np.ones(len(x)), 13*np.ones(len(x)), where=etiquetas == 9.6 ,\n",
    "                facecolor='orange', alpha=0.5,interpolate=True)\n",
    "ax.fill_between(x, 9*np.ones(len(x)), 13*np.ones(len(x)), where=etiquetas == 9.5,\n",
    "                facecolor='orange', alpha=0.5,interpolate=True)\n",
    "'''\n",
    "ax.fill_between(x, 0, 15, where=etiquetas > 0.6 ,\n",
    "                facecolor='green', alpha=0.5,interpolate=True, transform=trans)\n",
    "ax.fill_between(x, 0, 15, where=etiquetas < 0.5,\n",
    "                facecolor='red', alpha=0.5,interpolate=True, transform=trans)\n",
    "ax.fill_between(x, 0, 15, where=etiquetas == 9.6 ,\n",
    "                facecolor='orange', alpha=0.5,interpolate=True, transform=trans)\n",
    "ax.fill_between(x, 0, 15, where=etiquetas == 9.5,\n",
    "                facecolor='black', alpha=0.5,interpolate=True, transform=trans)\n",
    "#'''\n",
    "#ax.set_xlim([xmin, xmax])\n",
    "ax.set_ylim([0, 80])\n",
    "plt.show()"
   ]
  },
  {
   "cell_type": "markdown",
   "id": "c5971619",
   "metadata": {},
   "source": [
    "## Los datos no tendran vida pero igual necesitan algo de amor <3\n",
    "\n",
    "## Es momento de preparar la data!\n",
    "\n",
    "### ¿Porque?: \n",
    "Los algoritmos sueles funcionar mejor cuando los datos estan normalizados y no tienen valores demasiado alejados entre si.\n",
    "Es decir, si tuvieras por ejemplo como entrada en la red neuronal el valor del precio 4000 y el indicador RSI que esta en el intervalo 0 a 1 entonces el algoritmo no funcionara bien."
   ]
  },
  {
   "cell_type": "code",
   "execution_count": 7,
   "id": "9d0595bf",
   "metadata": {},
   "outputs": [],
   "source": [
    "## temporalidades usadas para mies indicadores\n",
    "SMA_TEMP1 = 14\n",
    "SMA_TEMP2 = 25\n",
    "std_temp_1 = 14\n",
    "num_temp = 8\n",
    "\n",
    "SMA_1_array = []\n",
    "SMA_2_array = []\n",
    "std_1_array = []\n",
    "MACD_1_array = []\n",
    "\n",
    "opcionA = True\n",
    "\n",
    "\n",
    "max_time = np.max([SMA_TEMP1,SMA_TEMP2,std_temp_1,num_temp])\n",
    "\n",
    "\n",
    "#for idx,row in df1.iterrows():\n",
    "for idx in range(max_time,len(df1)):   \n",
    "        \n",
    "    if opcionA:\n",
    "        SMA_1 = np.mean(df1['Close'][(idx-SMA_TEMP1):(idx)]) - df1['Close'][idx]\n",
    "        SMA_2 = np.mean(df1['Close'][(idx-SMA_TEMP2):(idx)]) - df1['Close'][idx]\n",
    "    else:\n",
    "        SMA_1 = np.mean(df1['Close'][(idx-SMA_TEMP1):(idx)]) - np.mean(df1['Close'][(idx-SMA_TEMP2-1):(idx-1)])\n",
    "        SMA_2 = np.mean(df1['Close'][(idx-SMA_TEMP2):(idx)]) - np.mean(df1['Close'][(idx-SMA_TEMP2-1):(idx-1)])\n",
    "    \n",
    "    std_1 = np.std(df1['Close'][(idx-std_temp_1):(idx)])#[idx:(idx+std_temp_1)])\n",
    "    MACD_1 = (0.15*df1['Close'][idx] + 0.85*SMA_1) - (0.075*df1['Close'][idx] + 0.925*SMA_2)\n",
    "\n",
    "    SMA_1_array.append(SMA_1)\n",
    "    SMA_2_array.append(SMA_2)\n",
    "    std_1_array.append(std_1)\n",
    "    MACD_1_array.append(MACD_1)\n",
    "    \n",
    "data_close = df1['Close'][max_time:]\n",
    "etiquetas = etiquetas[(max_time-1):]\n",
    "#print(MACD_1_array)"
   ]
  },
  {
   "cell_type": "code",
   "execution_count": 8,
   "id": "7ff0fb98",
   "metadata": {},
   "outputs": [
    {
     "name": "stdout",
     "output_type": "stream",
     "text": [
      "dataset len: 4713\n",
      "data_close len: 4688\n",
      "etiquetas len: 4688\n",
      "SMA len: 4688\n"
     ]
    }
   ],
   "source": [
    "print(\"dataset len:\",len(df1))\n",
    "print(\"data_close len:\",len(data_close))\n",
    "print(\"etiquetas len:\",len(etiquetas))\n",
    "print(\"SMA len:\",len(SMA_2_array))"
   ]
  },
  {
   "cell_type": "markdown",
   "id": "cd623e8c",
   "metadata": {},
   "source": [
    "Se realizara una normalizacion de los datos para aumentar la estabilidad de la red, esto significa que a cad conjunto de datos se le restara el promedio y se dividira por la desviacion estandar. "
   ]
  },
  {
   "cell_type": "code",
   "execution_count": 9,
   "id": "bac4ff4e",
   "metadata": {
    "scrolled": false
   },
   "outputs": [],
   "source": [
    "def Normalization_vec(vec):\n",
    "    vec = ( vec - np.mean(vec) ) / np.std(vec)  \n",
    "    return vec\n",
    "\n",
    "SMA_1_array = Normalization_vec(SMA_1_array)\n",
    "SMA_2_array = Normalization_vec(SMA_2_array)\n",
    "std_1_array = Normalization_vec(std_1_array)\n",
    "MACD_1_array = Normalization_vec(MACD_1_array)\n",
    "\n",
    "\n",
    "## creacion del dicconario conteniendo las entradas que usaremos en las redes neuronales\n",
    "\n",
    "Dictionary_data ={\n",
    "    \"0\": SMA_1_array,\n",
    "    \"1\": SMA_2_array,\n",
    "    \"2\": std_1_array,\n",
    "    \"3\": MACD_1_array,\n",
    "    \"data_close\": data_close,\n",
    "    \"label\": etiquetas\n",
    "}"
   ]
  },
  {
   "cell_type": "code",
   "execution_count": 10,
   "id": "e707405a",
   "metadata": {},
   "outputs": [],
   "source": [
    "class MyDataSet_train(torch.utils.data.Dataset):\n",
    "    def __init__(self, Dictionary_data, initial_dic):\n",
    "        #self.filename = filename\n",
    "        self.EM14 = 1\n",
    "        self.max_time = max_time\n",
    "        #self.num_serie = 10\n",
    "        \n",
    "    def __len__(self):\n",
    "        return len(Dictionary_data[\"1\"]) - self.max_time\n",
    "    \n",
    "    def __getitem__(self, idx):\n",
    "\n",
    "        features = []\n",
    "        \n",
    "        for i in range (0,len(Dictionary_data)-2):\n",
    "            features.append(Dictionary_data[str(i)][idx])  \n",
    "        \n",
    "        idx_aux = idx+max_time\n",
    "        data_serie = df1['Close'][(idx_aux-num_temp):(idx_aux)]\n",
    "        data_serie = np.array(data_serie,dtype=\"float32\" )\n",
    "        data_serie = data_serie - df1['Close'][(idx_aux-num_temp)]\n",
    "        data_serie = data_serie[1:]\n",
    "        \n",
    "        if idx<25:\n",
    "            print(\"idx_aux->\",idx_aux,\"   \",\"idx->\",idx)\n",
    "            print(\"........\",data_serie)\n",
    "        \n",
    "        #for i in range (0,len(Dictionary_data)-1):\n",
    "        #    features.append(Dictionary_data[str(i)][idx])\n",
    "        #    #print(len(features) )\n",
    "            \n",
    "        return np.array(features,dtype=\"float32\" ), np.array( Dictionary_data[\"label\"][idx],dtype=\"float32\"), data_serie\n"
   ]
  },
  {
   "cell_type": "code",
   "execution_count": 11,
   "id": "fe4c2e86",
   "metadata": {},
   "outputs": [
    {
     "name": "stdout",
     "output_type": "stream",
     "text": [
      "idx_aux-> 32     idx-> 7\n",
      "........ [-0.11999989  0.10000038 -0.13999987  0.         -0.00999975  0.0800004\n",
      "  0.03000021]\n",
      "idx_aux-> 26     idx-> 1\n",
      "........ [-0.02999973 -0.01999998  0.07999992  0.03999996  0.03999996  0.07999992\n",
      " -0.03999996]\n",
      "idx_aux-> 46     idx-> 21\n",
      "........ [0.11000013 0.21999979 0.27999973 0.3199997  0.23999977 0.0999999\n",
      " 0.1500001 ]\n",
      "idx_aux-> 41     idx-> 16\n",
      "........ [ 0.03000021 -0.06999969 -0.08999991 -0.11999989 -0.17999983 -0.06999969\n",
      "  0.03999996]\n",
      "idx_aux-> 49     idx-> 24\n",
      "........ [ 0.03999996 -0.03999996 -0.17999983 -0.12999964 -0.06999969 -0.05999994\n",
      " -0.13999987]\n",
      "idx_aux-> 40     idx-> 15\n",
      "........ [-0.30999994 -0.27999973 -0.37999964 -0.39999986 -0.42999983 -0.48999977\n",
      " -0.37999964]\n",
      "idx_aux-> 31     idx-> 6\n",
      "........ [ 0.03999996 -0.07999992  0.14000034 -0.0999999   0.03999996  0.03000021\n",
      "  0.12000036]\n",
      "idx_aux-> 29     idx-> 4\n",
      "........ [-0.03999996 -0.03999996  0.         -0.11999989  0.10000038 -0.13999987\n",
      "  0.        ]\n",
      "idx_aux-> 34     idx-> 9\n",
      "........ [-0.24000025 -0.10000038 -0.11000013 -0.01999998 -0.07000017  0.08999968\n",
      " -0.22000027]\n",
      "idx_aux-> 33     idx-> 8\n",
      "........ [ 0.22000027 -0.01999998  0.11999989  0.11000013  0.20000029  0.1500001\n",
      "  0.30999994]\n",
      "idx_aux-> 45     idx-> 20\n",
      "........ [-0.05999994  0.05000019  0.15999985  0.21999979  0.25999975  0.17999983\n",
      "  0.03999996]\n",
      "idx_aux-> 28     idx-> 3\n",
      "........ [ 0.0999999   0.05999994  0.05999994  0.0999999  -0.01999998  0.20000029\n",
      " -0.03999996]\n",
      "idx_aux-> 39     idx-> 14\n",
      "........ [ 0.15999985 -0.1500001  -0.11999989 -0.21999979 -0.24000001 -0.26999998\n",
      " -0.32999992]\n",
      "idx_aux-> 47     idx-> 22\n",
      "........ [ 0.10999966  0.1699996   0.20999956  0.12999964 -0.01000023  0.03999996\n",
      "  0.0999999 ]\n",
      "idx_aux-> 43     idx-> 18\n",
      "........ [-0.02000022 -0.05000019 -0.11000013  0.          0.10999966  0.1699996\n",
      "  0.20999956]\n",
      "idx_aux-> 36     idx-> 11\n",
      "........ [-0.00999975  0.0800004   0.03000021  0.19000006 -0.11999989 -0.08999968\n",
      " -0.18999958]\n",
      "idx_aux-> 42     idx-> 17\n",
      "........ [-0.0999999  -0.12000012 -0.1500001  -0.21000004 -0.0999999   0.00999975\n",
      "  0.06999969]\n",
      "idx_aux-> 27     idx-> 2\n",
      "........ [ 0.00999975  0.10999966  0.06999969  0.06999969  0.10999966 -0.01000023\n",
      "  0.21000004]\n",
      "idx_aux-> 48     idx-> 23\n",
      "........ [ 0.05999994  0.0999999   0.01999998 -0.11999989 -0.06999969 -0.00999975\n",
      "  0.        ]\n",
      "idx_aux-> 38     idx-> 13\n",
      "........ [-0.05000019  0.10999966 -0.20000029 -0.17000008 -0.26999998 -0.2900002\n",
      " -0.32000017]\n",
      "idx_aux-> 35     idx-> 10\n",
      "........ [0.13999987 0.13000011 0.22000027 0.17000008 0.32999992 0.01999998\n",
      " 0.05000019]\n",
      "idx_aux-> 25     idx-> 0\n",
      "........ [-0.14000034 -0.17000008 -0.16000032 -0.06000042 -0.10000038 -0.10000038\n",
      " -0.06000042]\n",
      "idx_aux-> 44     idx-> 19\n",
      "........ [-0.02999997 -0.08999991  0.02000022  0.12999988  0.18999982  0.22999978\n",
      "  0.14999986]\n",
      "idx_aux-> 37     idx-> 12\n",
      "........ [ 0.09000015  0.03999996  0.19999981 -0.11000013 -0.07999992 -0.17999983\n",
      " -0.20000005]\n",
      "idx_aux-> 30     idx-> 5\n",
      "........ [ 0.          0.03999996 -0.07999992  0.14000034 -0.0999999   0.03999996\n",
      "  0.03000021]\n"
     ]
    }
   ],
   "source": [
    "Data_set = MyDataSet_train( Dictionary_data, df1 )\n",
    "Batch_number = 128\n",
    "\n",
    "size_train = 0.2\n",
    "\n",
    "from sklearn.model_selection import train_test_split\n",
    "Data_train,Data_test = train_test_split(Data_set, test_size = size_train )#, random_state = 14)\n"
   ]
  },
  {
   "cell_type": "code",
   "execution_count": 12,
   "id": "43449538",
   "metadata": {},
   "outputs": [],
   "source": [
    "# Let's go to use an simple Neural Network :3 :3 :3\n",
    "\n",
    "N_layer1 = 10\n",
    "N_layer2 = 16\n",
    "N_layer3 = 10\n",
    "\n",
    "do_dropout = False\n",
    "Drop_rate = 0.2\n",
    "\n",
    "class NN_simple(nn.Module):\n",
    "    def __init__(self):\n",
    "        super(NN_simple,self).__init__()\n",
    "\n",
    "        self.Drop = nn.Dropout( Drop_rate ) \n",
    "        \n",
    "        self.layer1 = nn.Linear(len(Dictionary_data)-2 ,N_layer1)   \n",
    "        self.layer2 = nn.Linear(N_layer1,N_layer2) \n",
    "        self.layer3 = nn.Linear(N_layer2,N_layer3) \n",
    "        self.layer4 = nn.Linear(N_layer3,1) \n",
    "        #self.layer5 = nn.Linear(N_layer4,1)  \n",
    "        \n",
    "        self.activationReLU = nn.ReLU()\n",
    "        self.activationLeaky = nn.LeakyReLU()\n",
    "        self.activation = nn.Sigmoid()\n",
    "        self.softmax = nn.Softmax(dim=1)\n",
    "\n",
    "    def  forward(self,x): \n",
    "        x = self.layer1(x)\n",
    "        x = self.activationReLU(x)\n",
    "        if do_dropout ==True:\n",
    "            x = self.Drop(x)   ###!!!!!!!!!!!!\n",
    "        \n",
    "        x = self.layer2(x)\n",
    "        x = self.activationReLU(x)\n",
    "        if do_dropout ==True:\n",
    "            x = self.Drop(x)   ###!!!!!!!!!!!!\n",
    "        \n",
    "        x = self.layer3(x)\n",
    "        x = self.activationReLU(x)\n",
    "\n",
    "        if do_dropout ==True:\n",
    "            x = self.Drop(x)   ###!!!!!!!!!!!!\n",
    "        \n",
    "        x = self.layer4(x)\n",
    "\n",
    "        x = nn.functional.sigmoid(x)\n",
    "\n",
    "        return x"
   ]
  },
  {
   "cell_type": "code",
   "execution_count": 13,
   "id": "f4164690",
   "metadata": {},
   "outputs": [
    {
     "data": {
      "text/plain": [
       "CrossEntropyLoss()"
      ]
     },
     "execution_count": 13,
     "metadata": {},
     "output_type": "execute_result"
    }
   ],
   "source": [
    "train_loader = DataLoader(Data_train,batch_size=Batch_number, shuffle=True)\n",
    "test_loader = DataLoader(Data_test,batch_size=Batch_number, shuffle=True)\n",
    "\n",
    "model = NN_simple()\n",
    "\n",
    "learning_ratio = 0.002\n",
    "\n",
    "optimizer = torch.optim.Adam(model.parameters(), lr=learning_ratio ) \n",
    "criterion = nn.CrossEntropyLoss()\n",
    "\n",
    "\n",
    "#torch.nn.functional.binary_cross_entropy\n",
    "\n",
    "device = torch.device('cuda' if torch.cuda.is_available() else 'cpu')\n",
    "model.to(device)\n",
    "criterion.to(device)"
   ]
  },
  {
   "cell_type": "code",
   "execution_count": 14,
   "id": "0acefede",
   "metadata": {},
   "outputs": [
    {
     "name": "stdout",
     "output_type": "stream",
     "text": [
      "Epoch [1/12], Loss_train: 21.4202\n",
      "Epoch [1/12], Loss_test: 5.3956\n",
      "Epoch [2/12], Loss_train: 19.1395\n",
      "Epoch [2/12], Loss_test: 5.1462\n",
      "Epoch [3/12], Loss_train: 18.4673\n",
      "Epoch [3/12], Loss_test: 5.1407\n",
      "Epoch [4/12], Loss_train: 18.4547\n",
      "Epoch [4/12], Loss_test: 5.1063\n",
      "Epoch [5/12], Loss_train: 18.2506\n",
      "Epoch [5/12], Loss_test: 5.1308\n",
      "Epoch [6/12], Loss_train: 18.1834\n",
      "Epoch [6/12], Loss_test: 5.0889\n",
      "Epoch [7/12], Loss_train: 18.2254\n",
      "Epoch [7/12], Loss_test: 5.1597\n",
      "Epoch [8/12], Loss_train: 18.1894\n",
      "Epoch [8/12], Loss_test: 5.0948\n",
      "Epoch [9/12], Loss_train: 18.2581\n",
      "Epoch [9/12], Loss_test: 5.0927\n",
      "Epoch [10/12], Loss_train: 18.2652\n",
      "Epoch [10/12], Loss_test: 5.0704\n",
      "Epoch [11/12], Loss_train: 18.1388\n",
      "Epoch [11/12], Loss_test: 5.0324\n",
      "Epoch [12/12], Loss_train: 18.1902\n",
      "Epoch [12/12], Loss_test: 5.0631\n"
     ]
    }
   ],
   "source": [
    "model.train()\n",
    "epoch_loss=0\n",
    "num_epochs= 12\n",
    "for epoch in range(num_epochs):\n",
    "    epoch_loss = 0.0\n",
    "    for data in train_loader:\n",
    "        #data = data.to(device)\n",
    "        model.train()\n",
    "        \n",
    "        optimizer.zero_grad()\n",
    "        out = model(data[0])\n",
    "        out = out.view(-1, out.shape[-1])\n",
    "        \n",
    "        #labels = torch.tensor(data.y, dtype=torch.long).to(device) \n",
    "        labels = data[1]\n",
    "        #print(out.shape)\n",
    "        labels = torch.reshape(labels, (int(list(labels.shape)[0]),1))\n",
    "        \n",
    "        loss = torch.nn.functional.binary_cross_entropy(out, labels)\n",
    "        #print(loss)\n",
    "        loss.backward()\n",
    "        optimizer.step()\n",
    "        \n",
    "        \n",
    "        \n",
    "        epoch_loss += loss.item()\n",
    "    print(f'Epoch [{epoch+1}/{num_epochs}], Loss_train: {epoch_loss:.4f}')\n",
    "\n",
    "    \n",
    "    epoch_loss = 0.0\n",
    "    #model.eval()\n",
    "    nodes_out = torch.tensor([])\n",
    "    labels_test = torch.tensor([])\n",
    "    if (epoch+1)%1==0:\n",
    "        for data in test_loader:\n",
    "            model.eval()\n",
    "            #data = data.to(device)  # Move batch data to the same device as model\n",
    "            out = model(data[0])\n",
    "            out = out.view(-1, out.shape[-1])\n",
    "            labels = data[1] \n",
    "            labels = torch.reshape(labels, (int(list(labels.shape)[0]),1))\n",
    "            loss = torch.nn.functional.binary_cross_entropy(out, labels)\n",
    "    \n",
    "            nodes_out = torch.cat((nodes_out, out), 0)\n",
    "            labels_test = torch.cat((labels_test, labels), 0)    \n",
    "    \n",
    "            epoch_loss += loss.item()\n",
    "        #model.train()\n",
    "        print(f'Epoch [{epoch+1}/{num_epochs}], Loss_test: {epoch_loss:.4f}')\n"
   ]
  },
  {
   "cell_type": "code",
   "execution_count": 15,
   "id": "a0cbbc84",
   "metadata": {},
   "outputs": [
    {
     "name": "stdout",
     "output_type": "stream",
     "text": [
      "Epoch [12/12], Loss_test: 5.0574\n"
     ]
    }
   ],
   "source": [
    "epoch_loss = 0.0\n",
    "model.eval()\n",
    "nodes_out = torch.tensor([])\n",
    "labels_test = torch.tensor([])\n",
    "#for data in train_loader:\n",
    "for data in test_loader:\n",
    "    #data = data.to(device)  # Move batch data to the same device as model\n",
    "    out = model(data[0])\n",
    "    out = out.view(-1, out.shape[-1])\n",
    "    labels = data[1] \n",
    "    labels = torch.reshape(labels, (int(list(labels.shape)[0]),1))\n",
    "    loss = torch.nn.functional.binary_cross_entropy(out, labels)\n",
    "    \n",
    "    nodes_out = torch.cat((nodes_out.clone().detach(), out.clone().detach()), 0)\n",
    "    labels_test = torch.cat((labels_test.clone().detach(), labels.clone().detach()), 0)    \n",
    "    \n",
    "    epoch_loss += loss.item()\n",
    "model.train()\n",
    "\n",
    "\n",
    "nodes_out = torch.squeeze(nodes_out)\n",
    "labels_test = torch.squeeze(labels_test)\n",
    "\n",
    "print(f'Epoch [{epoch+1}/{num_epochs}], Loss_test: {epoch_loss:.4f}')\n"
   ]
  },
  {
   "cell_type": "code",
   "execution_count": 16,
   "id": "d6ffac17",
   "metadata": {},
   "outputs": [
    {
     "name": "stdout",
     "output_type": "stream",
     "text": [
      "media score buena prediccion-> tensor(0.3880) \n",
      " media score mala prediccion-> tensor(0.3370)\n",
      "------------------------------------------\n",
      "------------------------------------------\n",
      "cantidad original up-> 338 \n",
      " cantidad original down-> 595\n",
      "------------------------------------------\n",
      "cantidad escogida up-> 298 \n",
      " cantidad escogida down-> 446\n"
     ]
    }
   ],
   "source": [
    "print(\"media score buena prediccion->\",torch.mean(nodes_out[labels_test>0.5]), \"\\n\" , \"media score mala prediccion->\",torch.mean(nodes_out[labels_test<0.5]))\n",
    "print(\"------------------------------------------\")\n",
    "print(\"------------------------------------------\")\n",
    "\n",
    "print(\"cantidad original up->\",len(labels_test[labels_test>0.5]), \"\\n\" , \"cantidad original down->\",len(labels_test[labels_test<0.5]))\n",
    "print(\"------------------------------------------\")\n",
    "Seleccion_NN = labels_test[nodes_out>0.25]\n",
    "print(\"cantidad escogida up->\",len(Seleccion_NN[Seleccion_NN>0.5]), \"\\n\" , \"cantidad escogida down->\",len(Seleccion_NN[Seleccion_NN<0.5]))\n"
   ]
  },
  {
   "cell_type": "code",
   "execution_count": null,
   "id": "8b546f06",
   "metadata": {},
   "outputs": [],
   "source": []
  },
  {
   "cell_type": "code",
   "execution_count": 17,
   "id": "32511c26",
   "metadata": {},
   "outputs": [
    {
     "name": "stdout",
     "output_type": "stream",
     "text": [
      "cantidad escogidas up-> 110 \n",
      " cantidad escogidas down-> 117\n"
     ]
    }
   ],
   "source": [
    "Seleccion_NN = labels_test[nodes_out>0.45]\n",
    "\n",
    "print(\"cantidad escogidas up->\",len(Seleccion_NN[Seleccion_NN>0.5]), \"\\n\" , \"cantidad escogidas down->\",len(Seleccion_NN[Seleccion_NN<0.5])) \n"
   ]
  },
  {
   "cell_type": "code",
   "execution_count": 18,
   "id": "c8e50695",
   "metadata": {},
   "outputs": [],
   "source": [
    "#labels_test[nodes_out>0.45]"
   ]
  },
  {
   "cell_type": "markdown",
   "id": "dfb977a0",
   "metadata": {},
   "source": [
    "## Funcionaaaaa!!!\n",
    "\n",
    "### ¿Y ahora que?\n",
    "\n",
    "Veamos ni se puede mejor el resultado :D :D\n",
    "\n"
   ]
  },
  {
   "cell_type": "code",
   "execution_count": 19,
   "id": "1337b83d",
   "metadata": {},
   "outputs": [],
   "source": [
    "# Let's go to use an simple Neural Network :3 :3 :3\n",
    "\n",
    "N_layer1 = 10\n",
    "N_layer2 = 16\n",
    "N_layer3 = 10\n",
    "\n",
    "do_dropout = False\n",
    "Drop_rate = 0.2\n",
    "\n",
    "class NN_plus_LSTM(nn.Module):\n",
    "    def __init__(self):\n",
    "        super(NN_plus_LSTM,self).__init__()\n",
    "\n",
    "        self.Drop = nn.Dropout( Drop_rate ) \n",
    "        \n",
    "        self.layer1 = nn.Linear(len(Dictionary_data)-2 ,N_layer1)   \n",
    "        self.layer2 = nn.Linear(N_layer1,N_layer2) \n",
    "        self.layer3 = nn.Linear(N_layer2+8,N_layer3) \n",
    "        self.layer4 = nn.Linear(N_layer3,1) \n",
    "        #self.layer5 = nn.Linear(N_layer4,1)  \n",
    "        \n",
    "        self.LSTM = nn.LSTM(input_size=8, hidden_size=64, num_layers=1, batch_first=True)\n",
    "        #self.LSTM = nn.LSTM(input_size=1, hidden_dim=32, num_layers=1)\n",
    "        #self.LSTM = nn.LSTM(1, 32, num_layers=1)\n",
    "        # recuerda que num_temp esta definido arriba!\n",
    "        # self.lstm = nn.LSTM(embedding_dim, hidden_dim) # ejemplo de pytorch\n",
    "        self.LinearLayer_lstm = nn.Linear(64,8)\n",
    "        \n",
    "        self.activationReLU = nn.ReLU()\n",
    "        self.activationLeaky = nn.LeakyReLU()\n",
    "        self.activation = nn.Sigmoid()\n",
    "        self.softmax = nn.Softmax(dim=1) \n",
    "        \n",
    "    def  forward(self, x , serie_data):   \n",
    "        \n",
    "        #for i in range(0,len(serie_data)):\n",
    "        #    print(serie_data[i])\n",
    "        \n",
    "        series_out, (a,b) = self.LSTM(serie_data)\n",
    "        #print(\"000\",series_out[0])\n",
    "\n",
    "        series_out = self.LinearLayer_lstm(series_out)\n",
    "        \n",
    "        x = self.layer1(x)\n",
    "        x = self.activationReLU(x)\n",
    "        if do_dropout ==True:\n",
    "            x = self.Drop(x)   ###!!!!!!!!!!!!\n",
    "                \n",
    "        x = self.layer2(x)\n",
    "        x = self.activationReLU(x)\n",
    "        if do_dropout ==True:\n",
    "            x = self.Drop(x)   ###!!!!!!!!!!!!\n",
    "\n",
    "        x = torch.cat(( x, series_out ), dim=1)\n",
    "\n",
    "        #print(\"111\",series_out)\n",
    "\n",
    "        x = self.layer3(x)\n",
    "        x = self.activationReLU(x)\n",
    "\n",
    "        if do_dropout ==True:\n",
    "            x = self.Drop(x)   ###!!!!!!!!!!!!\n",
    "        \n",
    "        x = self.layer4(x)\n",
    "\n",
    "        x = nn.functional.sigmoid(x)\n",
    "        \n",
    "        #print(\"222\",x)\n",
    "\n",
    "        return x\n"
   ]
  },
  {
   "cell_type": "code",
   "execution_count": 20,
   "id": "366482c0",
   "metadata": {},
   "outputs": [
    {
     "data": {
      "text/plain": [
       "NN_plus_LSTM(\n",
       "  (Drop): Dropout(p=0.2, inplace=False)\n",
       "  (layer1): Linear(in_features=4, out_features=10, bias=True)\n",
       "  (layer2): Linear(in_features=10, out_features=16, bias=True)\n",
       "  (layer3): Linear(in_features=24, out_features=10, bias=True)\n",
       "  (layer4): Linear(in_features=10, out_features=1, bias=True)\n",
       "  (LSTM): LSTM(8, 64, batch_first=True)\n",
       "  (LinearLayer_lstm): Linear(in_features=64, out_features=8, bias=True)\n",
       "  (activationReLU): ReLU()\n",
       "  (activationLeaky): LeakyReLU(negative_slope=0.01)\n",
       "  (activation): Sigmoid()\n",
       "  (softmax): Softmax(dim=1)\n",
       ")"
      ]
     },
     "execution_count": 20,
     "metadata": {},
     "output_type": "execute_result"
    }
   ],
   "source": [
    "model = NN_plus_LSTM()\n",
    "\n",
    "learning_ratio = 0.003\n",
    "optimizer = torch.optim.Adam(model.parameters(), lr=learning_ratio ) \n",
    "criterion = nn.CrossEntropyLoss()\n",
    "\n",
    "device = torch.device('cuda' if torch.cuda.is_available() else 'cpu')\n",
    "model.to(device)"
   ]
  },
  {
   "cell_type": "code",
   "execution_count": 21,
   "id": "01422864",
   "metadata": {},
   "outputs": [
    {
     "name": "stdout",
     "output_type": "stream",
     "text": [
      "Epoch [1/15], Loss_train: 20.0520\n",
      "Epoch [1/15], Loss_test: 5.1960\n",
      "Epoch [2/15], Loss_train: 18.7335\n",
      "Epoch [2/15], Loss_test: 5.1081\n",
      "Epoch [3/15], Loss_train: 18.2062\n",
      "Epoch [3/15], Loss_test: 5.0787\n",
      "Epoch [4/15], Loss_train: 18.0863\n",
      "Epoch [4/15], Loss_test: 5.0642\n",
      "Epoch [5/15], Loss_train: 17.9557\n",
      "Epoch [5/15], Loss_test: 5.1007\n",
      "Epoch [6/15], Loss_train: 18.0812\n",
      "Epoch [6/15], Loss_test: 4.9975\n",
      "Epoch [7/15], Loss_train: 17.8147\n",
      "Epoch [7/15], Loss_test: 5.1070\n",
      "Epoch [8/15], Loss_train: 17.9602\n",
      "Epoch [8/15], Loss_test: 4.9302\n",
      "Epoch [9/15], Loss_train: 17.7478\n",
      "Epoch [9/15], Loss_test: 5.0118\n",
      "Epoch [10/15], Loss_train: 17.5548\n",
      "Epoch [10/15], Loss_test: 4.9751\n",
      "Epoch [11/15], Loss_train: 17.6250\n",
      "Epoch [11/15], Loss_test: 5.0077\n",
      "Epoch [12/15], Loss_train: 17.5505\n",
      "Epoch [12/15], Loss_test: 5.0139\n",
      "Epoch [13/15], Loss_train: 17.5471\n",
      "Epoch [13/15], Loss_test: 4.9624\n",
      "Epoch [14/15], Loss_train: 17.3419\n",
      "Epoch [14/15], Loss_test: 4.9256\n",
      "Epoch [15/15], Loss_train: 17.4984\n",
      "Epoch [15/15], Loss_test: 4.8915\n"
     ]
    }
   ],
   "source": [
    "model.train()\n",
    "epoch_loss=0\n",
    "num_epochs= 15\n",
    "for epoch in range(num_epochs):\n",
    "    epoch_loss = 0.0\n",
    "    for data in train_loader:\n",
    "        #data = data.to(device)\n",
    "        \n",
    "        model.train()\n",
    "        \n",
    "        optimizer.zero_grad()\n",
    "        #out = model(data[0])#,data[2])\n",
    "        out = model(data[0],data[2])\n",
    "        out = out.view(-1, out.shape[-1])\n",
    "        \n",
    "        #labels = torch.tensor(data.y, dtype=torch.long).to(device) \n",
    "        labels = data[1]\n",
    "        #print(out.shape)\n",
    "        labels = torch.reshape(labels, (int(list(labels.shape)[0]),1))\n",
    "        \n",
    "        loss = torch.nn.functional.binary_cross_entropy(out, labels)\n",
    "        #print(loss)\n",
    "        loss.backward()\n",
    "        optimizer.step()\n",
    "        \n",
    "        \n",
    "        epoch_loss += loss.item()\n",
    "    print(f'Epoch [{epoch+1}/{num_epochs}], Loss_train: {epoch_loss:.4f}')\n",
    "\n",
    "    \n",
    "    epoch_loss = 0.0\n",
    "    #model.eval()\n",
    "    nodes_out = torch.tensor([])\n",
    "    labels_test = torch.tensor([])\n",
    "    if (epoch+1)%1==0:\n",
    "        for data in test_loader:\n",
    "            model.eval()\n",
    "            #data = data.to(device)  # Move batch data to the same device as model\n",
    "            #out = model(data[0])#,data[2])\n",
    "            out = model(data[0],data[2])\n",
    "            out = out.view(-1, out.shape[-1])\n",
    "            labels = data[1] \n",
    "            labels = torch.reshape(labels, (int(list(labels.shape)[0]),1))\n",
    "            loss = torch.nn.functional.binary_cross_entropy(out, labels)\n",
    "    \n",
    "            nodes_out = torch.cat((nodes_out, out), 0)\n",
    "            labels_test = torch.cat((labels_test, labels), 0)    \n",
    "    \n",
    "            epoch_loss += loss.item()\n",
    "        #model.train()\n",
    "        print(f'Epoch [{epoch+1}/{num_epochs}], Loss_test: {epoch_loss:.4f}')\n"
   ]
  },
  {
   "cell_type": "code",
   "execution_count": 22,
   "id": "c82e8c52",
   "metadata": {},
   "outputs": [
    {
     "name": "stdout",
     "output_type": "stream",
     "text": [
      "Epoch [15/15], Loss_test: 4.9797\n"
     ]
    }
   ],
   "source": [
    "epoch_loss = 0.0\n",
    "model.eval()\n",
    "nodes_out = torch.tensor([])\n",
    "labels_test = torch.tensor([])\n",
    "#for data in train_loader:\n",
    "for data in test_loader:\n",
    "    #data = data.to(device)  # Move batch data to the same device as model\n",
    "    \n",
    "    #out = model(data[0])#,data[2])\n",
    "    out = model(data[0],data[2])\n",
    "    out = out.view(-1, out.shape[-1])\n",
    "    labels = data[1] \n",
    "    labels = torch.reshape(labels, (int(list(labels.shape)[0]),1))\n",
    "    loss = torch.nn.functional.binary_cross_entropy(out, labels)\n",
    "    \n",
    "    nodes_out = torch.cat((nodes_out.clone().detach(), out.clone().detach()), 0)\n",
    "    labels_test = torch.cat((labels_test.clone().detach(), labels.clone().detach()), 0)    \n",
    "    \n",
    "    epoch_loss += loss.item()\n",
    "model.train()\n",
    "\n",
    "\n",
    "nodes_out = torch.squeeze(nodes_out)\n",
    "labels_test = torch.squeeze(labels_test)\n",
    "\n",
    "print(f'Epoch [{epoch+1}/{num_epochs}], Loss_test: {epoch_loss:.4f}')\n"
   ]
  },
  {
   "cell_type": "code",
   "execution_count": 23,
   "id": "ff94f14a",
   "metadata": {},
   "outputs": [
    {
     "name": "stdout",
     "output_type": "stream",
     "text": [
      "media score buena prediccion-> tensor(0.4289) \n",
      " media score mala prediccion-> tensor(0.3346)\n",
      "------------------------------------------\n",
      "------------------------------------------\n",
      "cantidad original up-> 338 \n",
      " cantidad original down-> 595\n",
      "------------------------------------------\n",
      "cantidad escogida up-> 291 \n",
      " cantidad escogida down-> 396\n"
     ]
    }
   ],
   "source": [
    "print(\"media score buena prediccion->\",torch.mean(nodes_out[labels_test>0.5]), \"\\n\" , \"media score mala prediccion->\",torch.mean(nodes_out[labels_test<0.5]))\n",
    "print(\"------------------------------------------\")\n",
    "print(\"------------------------------------------\")\n",
    "\n",
    "print(\"cantidad original up->\",len(labels_test[labels_test>0.5]), \"\\n\" , \"cantidad original down->\",len(labels_test[labels_test<0.5]))\n",
    "print(\"------------------------------------------\")\n",
    "Seleccion_NN = labels_test[nodes_out>0.25]\n",
    "print(\"cantidad escogida up->\",len(Seleccion_NN[Seleccion_NN>0.5]), \"\\n\" , \"cantidad escogida down->\",len(Seleccion_NN[Seleccion_NN<0.5]))\n"
   ]
  },
  {
   "cell_type": "code",
   "execution_count": null,
   "id": "ae033ec0",
   "metadata": {},
   "outputs": [],
   "source": []
  },
  {
   "cell_type": "code",
   "execution_count": null,
   "id": "4fe3df35",
   "metadata": {},
   "outputs": [],
   "source": []
  },
  {
   "cell_type": "code",
   "execution_count": null,
   "id": "576b5c17",
   "metadata": {},
   "outputs": [],
   "source": []
  },
  {
   "cell_type": "code",
   "execution_count": null,
   "id": "ac12afe2",
   "metadata": {},
   "outputs": [],
   "source": []
  },
  {
   "cell_type": "code",
   "execution_count": 204,
   "id": "acd58c1a",
   "metadata": {},
   "outputs": [
    {
     "name": "stdout",
     "output_type": "stream",
     "text": [
      "dict_keys(['items', 'sentiment_score_definition', 'relevance_score_definition', 'feed'])\n"
     ]
    }
   ],
   "source": [
    "import requests\n",
    "url = 'https://www.alphavantage.co/query?function=NEWS_SENTIMENT&tickers=AAPL&apikey=demo'\n",
    "r = requests.get(url)\n",
    "data = r.json()\n",
    "\n",
    "print(data.keys())"
   ]
  },
  {
   "cell_type": "code",
   "execution_count": 205,
   "id": "4cbe4d2c",
   "metadata": {},
   "outputs": [
    {
     "name": "stdout",
     "output_type": "stream",
     "text": [
      "[{'title': 'Gaming Market size to grow by USD 102.13 billion from 2022 to 2027, Activision Blizzard Inc., Apple Inc., Bandai ... - PR Newswire', 'url': 'https://www.prnewswire.com/news-releases/gaming-market-size-to-grow-by-usd-102-13-billion-from-2022-to-2027--activision-blizzard-inc-apple-inc-bandai-namco-holdings-inc-bowlmor-amf-and-more-among-the-prominent-companies-in-the-market---technavio-301963195.html', 'time_published': '20231022T010000', 'authors': [], 'summary': 'Gaming Market size to grow by USD 102.13 billion from 2022 to 2027, Activision Blizzard Inc., Apple Inc., Bandai ... PR ...', 'banner_image': None, 'source': 'PR Newswire', 'category_within_source': 'n/a', 'source_domain': 'www.prnewswire.com', 'topics': [{'topic': 'Technology', 'relevance_score': '1.0'}], 'overall_sentiment_score': 0.251031, 'overall_sentiment_label': 'Somewhat-Bullish', 'ticker_sentiment': [{'ticker': 'MSFT', 'relevance_score': '0.05833', 'ticker_sentiment_score': '0.081979', 'ticker_sentiment_label': 'Neutral'}, {'ticker': 'NTES', 'relevance_score': '0.05833', 'ticker_sentiment_score': '0.081979', 'ticker_sentiment_label': 'Neutral'}, {'ticker': 'SNEJF', 'relevance_score': '0.05833', 'ticker_sentiment_score': '0.081979', 'ticker_sentiment_label': 'Neutral'}, {'ticker': 'AAPL', 'relevance_score': '0.05833', 'ticker_sentiment_score': '0.081979', 'ticker_sentiment_label': 'Neutral'}, {'ticker': 'NCBDF', 'relevance_score': '0.05833', 'ticker_sentiment_score': '0.081979', 'ticker_sentiment_label': 'Neutral'}, {'ticker': 'NTDOF', 'relevance_score': '0.05833', 'ticker_sentiment_score': '0.081979', 'ticker_sentiment_label': 'Neutral'}, {'ticker': 'ATVI', 'relevance_score': '0.05833', 'ticker_sentiment_score': '0.081979', 'ticker_sentiment_label': 'Neutral'}, {'ticker': 'DNACF', 'relevance_score': '0.05833', 'ticker_sentiment_score': '0.081979', 'ticker_sentiment_label': 'Neutral'}, {'ticker': 'SQNXF', 'relevance_score': '0.05833', 'ticker_sentiment_score': '0.081979', 'ticker_sentiment_label': 'Neutral'}, {'ticker': 'UBSFF', 'relevance_score': '0.05833', 'ticker_sentiment_score': '0.081979', 'ticker_sentiment_label': 'Neutral'}, {'ticker': 'EA', 'relevance_score': '0.05833', 'ticker_sentiment_score': '0.081979', 'ticker_sentiment_label': 'Neutral'}, {'ticker': 'DIS', 'relevance_score': '0.05833', 'ticker_sentiment_score': '0.081979', 'ticker_sentiment_label': 'Neutral'}]}, {'title': '3 Stocks That Turned $1,000 Into $1.1 Million  ( or More ) ', 'url': 'https://www.fool.com/investing/2023/10/21/3-stocks-that-turned-1000-into-11-million-or-more/', 'time_published': '20231021T140000', 'authors': ['Will Healy'], 'summary': 'Yes, 1,100-fold returns are possible in consumer stocks.', 'banner_image': 'https://media.ycharts.com/charts/dca134c720a30fe7baa50f86d53fbc67.png', 'source': 'Motley Fool', 'category_within_source': 'n/a', 'source_domain': 'www.fool.com', 'topics': [{'topic': 'Life Sciences', 'relevance_score': '0.25'}, {'topic': 'IPO', 'relevance_score': '0.576289'}, {'topic': 'Retail & Wholesale', 'relevance_score': '0.25'}, {'topic': 'Financial Markets', 'relevance_score': '0.503496'}, {'topic': 'Manufacturing', 'relevance_score': '0.25'}, {'topic': 'Technology', 'relevance_score': '0.25'}], 'overall_sentiment_score': 0.285804, 'overall_sentiment_label': 'Somewhat-Bullish', 'ticker_sentiment': [{'ticker': 'MSFT', 'relevance_score': '0.058188', 'ticker_sentiment_score': '0.106984', 'ticker_sentiment_label': 'Neutral'}, {'ticker': 'AAPL', 'relevance_score': '0.488777', 'ticker_sentiment_score': '0.296035', 'ticker_sentiment_label': 'Somewhat-Bullish'}, {'ticker': 'KO', 'relevance_score': '0.116067', 'ticker_sentiment_score': '0.146226', 'ticker_sentiment_label': 'Neutral'}, {'ticker': 'AMZN', 'relevance_score': '0.284861', 'ticker_sentiment_score': '0.236699', 'ticker_sentiment_label': 'Somewhat-Bullish'}, {'ticker': 'MNST', 'relevance_score': '0.173333', 'ticker_sentiment_score': '0.268782', 'ticker_sentiment_label': 'Somewhat-Bullish'}, {'ticker': 'PG', 'relevance_score': '0.058188', 'ticker_sentiment_score': '0.22001', 'ticker_sentiment_label': 'Somewhat-Bullish'}]}, {'title': \"Nearly $212 Billion of Warren Buffett's Portfolio Is Invested in These 3 Super-Reliable Dividend Stocks\", 'url': 'https://www.fool.com/investing/2023/10/21/warren-buffetts-portfolio-reliable-dividend-stocks/', 'time_published': '20231021T095200', 'authors': ['Keith Speights'], 'summary': 'You can count on these Buffett stocks to keep the dividends coming.', 'banner_image': 'https://g.foolcdn.com/misc-assets/hp-sa-cumulative-growth-chart.png', 'source': 'Motley Fool', 'category_within_source': 'n/a', 'source_domain': 'www.fool.com', 'topics': [{'topic': 'Financial Markets', 'relevance_score': '0.54554'}, {'topic': 'Manufacturing', 'relevance_score': '0.333333'}, {'topic': 'Earnings', 'relevance_score': '0.451494'}, {'topic': 'Technology', 'relevance_score': '0.333333'}, {'topic': 'Finance', 'relevance_score': '0.333333'}], 'overall_sentiment_score': 0.217304, 'overall_sentiment_label': 'Somewhat-Bullish', 'ticker_sentiment': [{'ticker': 'AAPL', 'relevance_score': '0.483111', 'ticker_sentiment_score': '0.441108', 'ticker_sentiment_label': 'Bullish'}, {'ticker': 'BAC', 'relevance_score': '0.288893', 'ticker_sentiment_score': '0.244518', 'ticker_sentiment_label': 'Somewhat-Bullish'}, {'ticker': 'KO', 'relevance_score': '0.356609', 'ticker_sentiment_score': '0.379928', 'ticker_sentiment_label': 'Bullish'}, {'ticker': 'BRK-A', 'relevance_score': '0.146916', 'ticker_sentiment_score': '0.058097', 'ticker_sentiment_label': 'Neutral'}]}, {'title': 'This Stock-Split Stock Is Beating Both Apple and Microsoft in 2023 -- With No Artificial Intelligence  ( AI )  Tailwind at All', 'url': 'https://www.fool.com/investing/2023/10/21/stock-split-beating-apple-microsoft-ai/', 'time_published': '20231021T095000', 'authors': ['Keith Speights'], 'summary': 'This big pharma stock has been a big winner, thanks to two blockbuster drugs.', 'banner_image': 'https://g.foolcdn.com/misc-assets/hp-sa-cumulative-growth-chart.png', 'source': 'Motley Fool', 'category_within_source': 'n/a', 'source_domain': 'www.fool.com', 'topics': [{'topic': 'Life Sciences', 'relevance_score': '0.5'}, {'topic': 'Financial Markets', 'relevance_score': '0.503496'}, {'topic': 'Earnings', 'relevance_score': '0.158519'}, {'topic': 'Technology', 'relevance_score': '0.5'}], 'overall_sentiment_score': 0.145391, 'overall_sentiment_label': 'Neutral', 'ticker_sentiment': [{'ticker': 'MSFT', 'relevance_score': '0.306963', 'ticker_sentiment_score': '0.134534', 'ticker_sentiment_label': 'Neutral'}, {'ticker': 'AAPL', 'relevance_score': '0.306963', 'ticker_sentiment_score': '0.134534', 'ticker_sentiment_label': 'Neutral'}, {'ticker': 'NVO', 'relevance_score': '0.614836', 'ticker_sentiment_score': '0.229189', 'ticker_sentiment_label': 'Somewhat-Bullish'}]}, {'title': \"Team Xi Jinping Willing To Provide Apple 'More Opportunities' As Battle With Homegrown Huawei Heats Up - Apple  ( NASDAQ:AAPL ) \", 'url': 'https://www.benzinga.com/news/23/10/35360968/team-xi-jinping-willing-to-provide-apple-more-opportunities-as-battle-with-homegrown-huawei-heats-up', 'time_published': '20231021T021606', 'authors': ['Ananya Gairola'], 'summary': \"iPhone 15 sales in China reportedly witnessed a 4.5% decline in the first 17 days compared to its predecessor. However, the country's vice premier, Ding Duexiang, has expressed China's willingness to provide Apple Inc.\", 'banner_image': 'https://cdn.benzinga.com/files/images/story/2023/Apple_iPhone_China_2.jpeg?width=1200&height=800&fit=crop', 'source': 'Benzinga', 'category_within_source': 'News', 'source_domain': 'www.benzinga.com', 'topics': [{'topic': 'Earnings', 'relevance_score': '0.360215'}, {'topic': 'Technology', 'relevance_score': '1.0'}], 'overall_sentiment_score': 0.091357, 'overall_sentiment_label': 'Neutral', 'ticker_sentiment': [{'ticker': 'AAPL', 'relevance_score': '0.749166', 'ticker_sentiment_score': '0.200564', 'ticker_sentiment_label': 'Somewhat-Bullish'}]}, {'title': 'Weekly Roundup', 'url': 'https://aap.thestreet.com/story/16136085/1/weekly-roundup.html', 'time_published': '20231020T223100', 'authors': [], 'summary': 'After a week of challenges on all fronts, we appear poised for only more uncertainties ahead. As we enter the weekend, the war in Israel looks ready to escalate further -- while in the background we still have the ongoing Russia-Ukraine fighting and lingering China-Taiwan tensions.', 'banner_image': 'https://s.thestreet.com/files/tsc/v2008/photos/contrib/uploads/207ec4a9-6f8b-11ee-9691-b74f6be56a4e.png', 'source': 'The Street', 'category_within_source': 'GoogleRSS', 'source_domain': 'aap.thestreet.com', 'topics': [{'topic': 'Life Sciences', 'relevance_score': '0.166667'}, {'topic': 'Energy & Transportation', 'relevance_score': '0.166667'}, {'topic': 'Technology', 'relevance_score': '0.166667'}, {'topic': 'Finance', 'relevance_score': '0.166667'}, {'topic': 'Economy - Monetary', 'relevance_score': '0.9545'}, {'topic': 'Economy - Fiscal', 'relevance_score': '0.158519'}, {'topic': 'Retail & Wholesale', 'relevance_score': '0.166667'}, {'topic': 'Financial Markets', 'relevance_score': '1.0'}, {'topic': 'Manufacturing', 'relevance_score': '0.166667'}, {'topic': 'Earnings', 'relevance_score': '1.0'}], 'overall_sentiment_score': 0.184467, 'overall_sentiment_label': 'Somewhat-Bullish', 'ticker_sentiment': [{'ticker': 'AMAT', 'relevance_score': '0.007694', 'ticker_sentiment_score': '0.058086', 'ticker_sentiment_label': 'Neutral'}, {'ticker': 'CVS', 'relevance_score': '0.003847', 'ticker_sentiment_score': '-0.017186', 'ticker_sentiment_label': 'Neutral'}, {'ticker': 'AAPL', 'relevance_score': '0.015387', 'ticker_sentiment_score': '0.109823', 'ticker_sentiment_label': 'Neutral'}, {'ticker': 'C', 'relevance_score': '0.003847', 'ticker_sentiment_score': '0.015939', 'ticker_sentiment_label': 'Neutral'}, {'ticker': 'CSCO', 'relevance_score': '0.011541', 'ticker_sentiment_score': '0.008906', 'ticker_sentiment_label': 'Neutral'}, {'ticker': 'MDNDF', 'relevance_score': '0.026924', 'ticker_sentiment_score': '0.057636', 'ticker_sentiment_label': 'Neutral'}, {'ticker': 'TRIN', 'relevance_score': '0.011541', 'ticker_sentiment_score': '0.058205', 'ticker_sentiment_label': 'Neutral'}, {'ticker': 'AXON', 'relevance_score': '0.007694', 'ticker_sentiment_score': '0.071414', 'ticker_sentiment_label': 'Neutral'}, {'ticker': 'URI', 'relevance_score': '0.026924', 'ticker_sentiment_score': '0.075848', 'ticker_sentiment_label': 'Neutral'}, {'ticker': 'ELV', 'relevance_score': '0.015387', 'ticker_sentiment_score': '0.043362', 'ticker_sentiment_label': 'Neutral'}, {'ticker': 'MSFT', 'relevance_score': '0.030769', 'ticker_sentiment_score': '0.125521', 'ticker_sentiment_label': 'Neutral'}, {'ticker': 'SSNLF', 'relevance_score': '0.007694', 'ticker_sentiment_score': '0.086508', 'ticker_sentiment_label': 'Neutral'}, {'ticker': 'COST', 'relevance_score': '0.023079', 'ticker_sentiment_score': '0.092739', 'ticker_sentiment_label': 'Neutral'}, {'ticker': 'STT', 'relevance_score': '0.003847', 'ticker_sentiment_score': '-0.019231', 'ticker_sentiment_label': 'Neutral'}, {'ticker': 'MA', 'relevance_score': '0.019234', 'ticker_sentiment_score': '0.085522', 'ticker_sentiment_label': 'Neutral'}, {'ticker': 'SBUX', 'relevance_score': '0.003847', 'ticker_sentiment_score': '0.09614', 'ticker_sentiment_label': 'Neutral'}, {'ticker': 'QCOM', 'relevance_score': '0.034613', 'ticker_sentiment_score': '0.107989', 'ticker_sentiment_label': 'Neutral'}, {'ticker': 'OLED', 'relevance_score': '0.042298', 'ticker_sentiment_score': '0.086992', 'ticker_sentiment_label': 'Neutral'}, {'ticker': 'SPGI', 'relevance_score': '0.003847', 'ticker_sentiment_score': '0.0', 'ticker_sentiment_label': 'Neutral'}, {'ticker': 'CMG', 'relevance_score': '0.026924', 'ticker_sentiment_score': '-0.007439', 'ticker_sentiment_label': 'Neutral'}, {'ticker': 'NUE', 'relevance_score': '0.003847', 'ticker_sentiment_score': '-0.231686', 'ticker_sentiment_label': 'Somewhat-Bearish'}, {'ticker': 'GOOG', 'relevance_score': '0.019234', 'ticker_sentiment_score': '0.138608', 'ticker_sentiment_label': 'Neutral'}, {'ticker': 'HUM', 'relevance_score': '0.003847', 'ticker_sentiment_score': '-0.017186', 'ticker_sentiment_label': 'Neutral'}, {'ticker': 'NVDA', 'relevance_score': '0.003847', 'ticker_sentiment_score': '0.028354', 'ticker_sentiment_label': 'Neutral'}, {'ticker': 'BAC', 'relevance_score': '0.030769', 'ticker_sentiment_score': '0.139276', 'ticker_sentiment_label': 'Neutral'}, {'ticker': 'MS', 'relevance_score': '0.003847', 'ticker_sentiment_score': '0.057225', 'ticker_sentiment_label': 'Neutral'}, {'ticker': 'USEG', 'relevance_score': '0.003847', 'ticker_sentiment_score': '0.039338', 'ticker_sentiment_label': 'Neutral'}, {'ticker': 'ICNB', 'relevance_score': '0.003847', 'ticker_sentiment_score': '0.178289', 'ticker_sentiment_label': 'Somewhat-Bullish'}, {'ticker': 'VMC', 'relevance_score': '0.011541', 'ticker_sentiment_score': '0.078347', 'ticker_sentiment_label': 'Neutral'}, {'ticker': 'LMT', 'relevance_score': '0.026924', 'ticker_sentiment_score': '0.101935', 'ticker_sentiment_label': 'Neutral'}, {'ticker': 'CNHI', 'relevance_score': '0.003847', 'ticker_sentiment_score': '-0.030076', 'ticker_sentiment_label': 'Neutral'}, {'ticker': 'BACHY', 'relevance_score': '0.003847', 'ticker_sentiment_score': '-0.006406', 'ticker_sentiment_label': 'Neutral'}, {'ticker': 'PG', 'relevance_score': '0.003847', 'ticker_sentiment_score': '-0.231686', 'ticker_sentiment_label': 'Somewhat-Bearish'}, {'ticker': 'ATVI', 'relevance_score': '0.007694', 'ticker_sentiment_score': '0.124664', 'ticker_sentiment_label': 'Neutral'}, {'ticker': 'MCO', 'relevance_score': '0.003847', 'ticker_sentiment_score': '0.107863', 'ticker_sentiment_label': 'Neutral'}, {'ticker': 'AXP', 'relevance_score': '0.015387', 'ticker_sentiment_score': '0.077278', 'ticker_sentiment_label': 'Neutral'}, {'ticker': 'PEP', 'relevance_score': '0.019234', 'ticker_sentiment_score': '0.093949', 'ticker_sentiment_label': 'Neutral'}, {'ticker': 'CLF', 'relevance_score': '0.003847', 'ticker_sentiment_score': '-0.231686', 'ticker_sentiment_label': 'Somewhat-Bearish'}, {'ticker': 'STLD', 'relevance_score': '0.007694', 'ticker_sentiment_score': '0.158751', 'ticker_sentiment_label': 'Somewhat-Bullish'}, {'ticker': 'FOREX:USD', 'relevance_score': '0.015387', 'ticker_sentiment_score': '0.056749', 'ticker_sentiment_label': 'Neutral'}]}, {'title': 'Stock Market Outlook Clouded With Amazon, Microsoft, Meta, Alphabet Set To Report', 'url': 'https://www.investors.com/research/investing-action-plan/middle-east-house-leadership-cloud-stock-market-outlook-with-amazon-microsoft-meta-and-alphabet-to-report/', 'time_published': '20231020T222200', 'authors': [\"Investor's Business Daily\", 'IBD STAFF'], 'summary': \"Stock Market Outlook Clouded With Amazon, Microsoft, Meta ... Investor's Business Daily ...\", 'banner_image': 'https://www.investors.com/wp-content/uploads/2023/10/Stock-naturecyclone-01-adobe.jpg', 'source': 'Investors Business Daily', 'category_within_source': 'n/a', 'source_domain': 'www.investors.com', 'topics': [{'topic': 'Life Sciences', 'relevance_score': '0.166667'}, {'topic': 'Energy & Transportation', 'relevance_score': '0.166667'}, {'topic': 'Technology', 'relevance_score': '0.166667'}, {'topic': 'Finance', 'relevance_score': '0.166667'}, {'topic': 'Economy - Monetary', 'relevance_score': '0.451494'}, {'topic': 'Economy - Fiscal', 'relevance_score': '0.158519'}, {'topic': 'Retail & Wholesale', 'relevance_score': '0.166667'}, {'topic': 'Financial Markets', 'relevance_score': '1.0'}, {'topic': 'Manufacturing', 'relevance_score': '0.166667'}, {'topic': 'Earnings', 'relevance_score': '1.0'}], 'overall_sentiment_score': 0.076855, 'overall_sentiment_label': 'Neutral', 'ticker_sentiment': [{'ticker': 'UAL', 'relevance_score': '0.030661', 'ticker_sentiment_score': '-0.118727', 'ticker_sentiment_label': 'Neutral'}, {'ticker': 'AAPL', 'relevance_score': '0.030661', 'ticker_sentiment_score': '0.010408', 'ticker_sentiment_label': 'Neutral'}, {'ticker': 'RRC', 'relevance_score': '0.030661', 'ticker_sentiment_score': '-0.095211', 'ticker_sentiment_label': 'Neutral'}, {'ticker': 'CVX', 'relevance_score': '0.076553', 'ticker_sentiment_score': '-0.042143', 'ticker_sentiment_label': 'Neutral'}, {'ticker': 'LOGI', 'relevance_score': '0.045977', 'ticker_sentiment_score': '-0.017872', 'ticker_sentiment_label': 'Neutral'}, {'ticker': 'SLB', 'relevance_score': '0.061276', 'ticker_sentiment_score': '0.113125', 'ticker_sentiment_label': 'Neutral'}, {'ticker': 'AWON', 'relevance_score': '0.015333', 'ticker_sentiment_score': '-0.069586', 'ticker_sentiment_label': 'Neutral'}, {'ticker': 'ADP', 'relevance_score': '0.045977', 'ticker_sentiment_score': '0.115268', 'ticker_sentiment_label': 'Neutral'}, {'ticker': 'URI', 'relevance_score': '0.045977', 'ticker_sentiment_score': '0.169244', 'ticker_sentiment_label': 'Somewhat-Bullish'}, {'ticker': 'UNH', 'relevance_score': '0.076553', 'ticker_sentiment_score': '0.047895', 'ticker_sentiment_label': 'Neutral'}, {'ticker': 'FICO', 'relevance_score': '0.061276', 'ticker_sentiment_score': '0.113125', 'ticker_sentiment_label': 'Neutral'}, {'ticker': 'MSFT', 'relevance_score': '0.076553', 'ticker_sentiment_score': '-0.034681', 'ticker_sentiment_label': 'Neutral'}, {'ticker': 'COST', 'relevance_score': '0.045977', 'ticker_sentiment_score': '0.112098', 'ticker_sentiment_label': 'Neutral'}, {'ticker': 'SPR', 'relevance_score': '0.030661', 'ticker_sentiment_score': '-0.118727', 'ticker_sentiment_label': 'Neutral'}, {'ticker': 'V', 'relevance_score': '0.045977', 'ticker_sentiment_score': '0.201244', 'ticker_sentiment_label': 'Somewhat-Bullish'}, {'ticker': 'ALSN', 'relevance_score': '0.045977', 'ticker_sentiment_score': '-0.064877', 'ticker_sentiment_label': 'Neutral'}, {'ticker': 'SPGI', 'relevance_score': '0.015333', 'ticker_sentiment_score': '0.0', 'ticker_sentiment_label': 'Neutral'}, {'ticker': 'CME', 'relevance_score': '0.045977', 'ticker_sentiment_score': '0.145294', 'ticker_sentiment_label': 'Neutral'}, {'ticker': 'GD', 'relevance_score': '0.045977', 'ticker_sentiment_score': '-0.024903', 'ticker_sentiment_label': 'Neutral'}, {'ticker': 'GE', 'relevance_score': '0.107016', 'ticker_sentiment_score': '0.053966', 'ticker_sentiment_label': 'Neutral'}, {'ticker': 'GOOG', 'relevance_score': '0.061276', 'ticker_sentiment_score': '0.011018', 'ticker_sentiment_label': 'Neutral'}, {'ticker': 'BSX', 'relevance_score': '0.030661', 'ticker_sentiment_score': '0.086828', 'ticker_sentiment_label': 'Neutral'}, {'ticker': 'GM', 'relevance_score': '0.061276', 'ticker_sentiment_score': '-0.075961', 'ticker_sentiment_label': 'Neutral'}, {'ticker': 'MOH', 'relevance_score': '0.045977', 'ticker_sentiment_score': '-0.075751', 'ticker_sentiment_label': 'Neutral'}, {'ticker': 'ABBV', 'relevance_score': '0.045977', 'ticker_sentiment_score': '0.00496', 'ticker_sentiment_label': 'Neutral'}, {'ticker': 'EW', 'relevance_score': '0.030661', 'ticker_sentiment_score': '0.152251', 'ticker_sentiment_label': 'Somewhat-Bullish'}, {'ticker': 'HAL', 'relevance_score': '0.061276', 'ticker_sentiment_score': '0.168708', 'ticker_sentiment_label': 'Somewhat-Bullish'}, {'ticker': 'NOW', 'relevance_score': '0.015333', 'ticker_sentiment_score': '0.065017', 'ticker_sentiment_label': 'Neutral'}, {'ticker': 'XOM', 'relevance_score': '0.076553', 'ticker_sentiment_score': '-0.036109', 'ticker_sentiment_label': 'Neutral'}, {'ticker': 'ADBE', 'relevance_score': '0.061276', 'ticker_sentiment_score': '0.113125', 'ticker_sentiment_label': 'Neutral'}, {'ticker': 'ATVI', 'relevance_score': '0.015333', 'ticker_sentiment_score': '0.049468', 'ticker_sentiment_label': 'Neutral'}, {'ticker': 'CDNS', 'relevance_score': '0.030661', 'ticker_sentiment_score': '0.056562', 'ticker_sentiment_label': 'Neutral'}, {'ticker': 'PXD', 'relevance_score': '0.030661', 'ticker_sentiment_score': '-0.026954', 'ticker_sentiment_label': 'Neutral'}, {'ticker': 'AMZN', 'relevance_score': '0.076553', 'ticker_sentiment_score': '-0.007191', 'ticker_sentiment_label': 'Neutral'}, {'ticker': 'BA', 'relevance_score': '0.030661', 'ticker_sentiment_score': '-0.118727', 'ticker_sentiment_label': 'Neutral'}, {'ticker': 'ODFL', 'relevance_score': '0.045977', 'ticker_sentiment_score': '-0.005982', 'ticker_sentiment_label': 'Neutral'}]}, {'title': 'Cyber insurance market size to grow by USD 42,812.64 million between 2022 and 2027 | The lack of standardization ... - PR Newswire', 'url': 'https://www.prnewswire.com/news-releases/cyber-insurance-market-size-to-grow-by-usd-42-812-64-million-between-2022-and-2027--the-lack-of-standardization-may-hinder-the--market-growth---technavio-301963107.html', 'time_published': '20231020T222000', 'authors': [], 'summary': 'Cyber insurance market size to grow by USD 42,812.64 million between 2022 and 2027 | The lack of standardization ... PR ...', 'banner_image': None, 'source': 'PR Newswire', 'category_within_source': 'n/a', 'source_domain': 'www.prnewswire.com', 'topics': [{'topic': 'Technology', 'relevance_score': '0.5'}, {'topic': 'Finance', 'relevance_score': '0.5'}], 'overall_sentiment_score': 0.186228, 'overall_sentiment_label': 'Somewhat-Bullish', 'ticker_sentiment': [{'ticker': 'AON', 'relevance_score': '0.049629', 'ticker_sentiment_score': '0.0', 'ticker_sentiment_label': 'Neutral'}, {'ticker': 'AAPL', 'relevance_score': '0.049629', 'ticker_sentiment_score': '0.0', 'ticker_sentiment_label': 'Neutral'}, {'ticker': 'THG', 'relevance_score': '0.049629', 'ticker_sentiment_score': '0.0', 'ticker_sentiment_label': 'Neutral'}, {'ticker': 'CSCO', 'relevance_score': '0.049629', 'ticker_sentiment_score': '0.0', 'ticker_sentiment_label': 'Neutral'}, {'ticker': 'CNA', 'relevance_score': '0.049629', 'ticker_sentiment_score': '0.0', 'ticker_sentiment_label': 'Neutral'}, {'ticker': 'LYG', 'relevance_score': '0.049629', 'ticker_sentiment_score': '0.0', 'ticker_sentiment_label': 'Neutral'}, {'ticker': 'AXS', 'relevance_score': '0.049629', 'ticker_sentiment_score': '0.0', 'ticker_sentiment_label': 'Neutral'}, {'ticker': 'BZLYF', 'relevance_score': '0.049629', 'ticker_sentiment_score': '0.0', 'ticker_sentiment_label': 'Neutral'}, {'ticker': 'AIG', 'relevance_score': '0.049629', 'ticker_sentiment_score': '0.0', 'ticker_sentiment_label': 'Neutral'}, {'ticker': 'CB', 'relevance_score': '0.049629', 'ticker_sentiment_score': '0.0', 'ticker_sentiment_label': 'Neutral'}]}, {'title': 'Top Stock Reports for Apple, Amgen & Becton, Dickinson', 'url': 'https://www.zacks.com/research-daily/2169481/top-stock-reports-for-apple-amgen-becton-dickinson', 'time_published': '20231020T184100', 'authors': ['Sheraz Mian'], 'summary': \"Today's Research Daily features new research reports on 12 major stocks, including Apple Inc. (AAPL), Amgen Inc. (AMGN) and Becton, Dickinson and Company (BDX).\", 'banner_image': 'https://staticx-tuner.zacks.com/images/default_article_images/default241.jpg', 'source': 'Zacks Commentary', 'category_within_source': 'n/a', 'source_domain': 'www.zacks.com', 'topics': [{'topic': 'Life Sciences', 'relevance_score': '0.5'}, {'topic': 'Technology', 'relevance_score': '0.5'}], 'overall_sentiment_score': 0.263228, 'overall_sentiment_label': 'Somewhat-Bullish', 'ticker_sentiment': [{'ticker': 'AAPL', 'relevance_score': '0.464633', 'ticker_sentiment_score': '0.551641', 'ticker_sentiment_label': 'Bullish'}, {'ticker': 'AMGN', 'relevance_score': '0.195814', 'ticker_sentiment_score': '0.239288', 'ticker_sentiment_label': 'Somewhat-Bullish'}, {'ticker': 'HZNP', 'relevance_score': '0.098659', 'ticker_sentiment_score': '0.190454', 'ticker_sentiment_label': 'Somewhat-Bullish'}, {'ticker': 'BDX', 'relevance_score': '0.098659', 'ticker_sentiment_score': '0.294338', 'ticker_sentiment_label': 'Somewhat-Bullish'}]}, {'title': 'Wearable Market Expected to Soar to $89.48 Billion by 2023, Fueled by Versatile Applications and Real-Time Connectivity', 'url': 'https://www.prnewswire.com/news-releases/wearable-market-expected-to-soar-to-89-48-billion-by-2023--fueled-by-versatile-applications-and-real-time-connectivity-301963247.html', 'time_published': '20231020T181500', 'authors': ['Research and Markets'], 'summary': 'Wearable Market Expected to Soar to $89.48 Billion by 2023, Fueled by Versatile Applications and Real-Time ... PR ...', 'banner_image': 'https://mma.prnewswire.com/media/539438/Research_and_Markets_Logo.jpg?p=facebook', 'source': 'PR Newswire', 'category_within_source': 'n/a', 'source_domain': 'www.prnewswire.com', 'topics': [{'topic': 'Life Sciences', 'relevance_score': '0.333333'}, {'topic': 'Technology', 'relevance_score': '0.333333'}, {'topic': 'Manufacturing', 'relevance_score': '0.333333'}], 'overall_sentiment_score': 0.304956, 'overall_sentiment_label': 'Somewhat-Bullish', 'ticker_sentiment': [{'ticker': 'MSFT', 'relevance_score': '0.043499', 'ticker_sentiment_score': '0.078232', 'ticker_sentiment_label': 'Neutral'}, {'ticker': 'SNEJF', 'relevance_score': '0.043499', 'ticker_sentiment_score': '0.078232', 'ticker_sentiment_label': 'Neutral'}, {'ticker': 'SSNLF', 'relevance_score': '0.043499', 'ticker_sentiment_score': '0.078232', 'ticker_sentiment_label': 'Neutral'}, {'ticker': 'GOOG', 'relevance_score': '0.08687', 'ticker_sentiment_score': '0.082302', 'ticker_sentiment_label': 'Neutral'}, {'ticker': 'AAPL', 'relevance_score': '0.043499', 'ticker_sentiment_score': '0.078232', 'ticker_sentiment_label': 'Neutral'}, {'ticker': 'FOSL', 'relevance_score': '0.043499', 'ticker_sentiment_score': '0.078232', 'ticker_sentiment_label': 'Neutral'}, {'ticker': 'CSIOF', 'relevance_score': '0.043499', 'ticker_sentiment_score': '0.078232', 'ticker_sentiment_label': 'Neutral'}, {'ticker': 'WLDS', 'relevance_score': '0.297404', 'ticker_sentiment_score': '0.282971', 'ticker_sentiment_label': 'Somewhat-Bullish'}, {'ticker': 'GRMN', 'relevance_score': '0.043499', 'ticker_sentiment_score': '0.078232', 'ticker_sentiment_label': 'Neutral'}]}, {'title': 'Is Tesla starting to look like just any old carmaker?', 'url': 'https://www.marketwatch.com/story/is-tesla-starting-to-look-like-just-any-old-carmaker-b715ac26', 'time_published': '20231020T165700', 'authors': ['Philip van Doorn'], 'summary': \"Also: Medicare timing, Apple's bonds, Nvidia and a semiconductor stock screen and numbers for prospective home buyers as mortgage-loan rates near 8%.\", 'banner_image': 'https://images.mktw.net/im-870437?width=700&height=466', 'source': 'MarketWatch', 'category_within_source': 'Top Stories', 'source_domain': 'www.marketwatch.com', 'topics': [{'topic': 'Technology', 'relevance_score': '0.25'}, {'topic': 'Finance', 'relevance_score': '0.25'}, {'topic': 'Economy - Monetary', 'relevance_score': '0.310843'}, {'topic': 'IPO', 'relevance_score': '0.158519'}, {'topic': 'Retail & Wholesale', 'relevance_score': '0.25'}, {'topic': 'Financial Markets', 'relevance_score': '0.998333'}, {'topic': 'Manufacturing', 'relevance_score': '0.25'}, {'topic': 'Earnings', 'relevance_score': '0.818451'}], 'overall_sentiment_score': 0.060085, 'overall_sentiment_label': 'Neutral', 'ticker_sentiment': [{'ticker': 'NFLX', 'relevance_score': '0.029363', 'ticker_sentiment_score': '0.0', 'ticker_sentiment_label': 'Neutral'}, {'ticker': 'NVDA', 'relevance_score': '0.058687', 'ticker_sentiment_score': '0.031982', 'ticker_sentiment_label': 'Neutral'}, {'ticker': 'AAPL', 'relevance_score': '0.058687', 'ticker_sentiment_score': '0.0', 'ticker_sentiment_label': 'Neutral'}, {'ticker': 'TSLA', 'relevance_score': '0.231608', 'ticker_sentiment_score': '-0.010931', 'ticker_sentiment_label': 'Neutral'}, {'ticker': 'RAD', 'relevance_score': '0.058687', 'ticker_sentiment_score': '-0.145088', 'ticker_sentiment_label': 'Neutral'}, {'ticker': 'WFC', 'relevance_score': '0.029363', 'ticker_sentiment_score': '0.113887', 'ticker_sentiment_label': 'Neutral'}, {'ticker': 'BIRK', 'relevance_score': '0.029363', 'ticker_sentiment_score': '0.007662', 'ticker_sentiment_label': 'Neutral'}]}, {'title': 'Dow Jones Falls As Gold Jumps; Solar Stocks Melt As Student Loan Repayment Misfires', 'url': 'https://www.investors.com/market-trend/stock-market-today/dow-jones-falls-as-gold-rises-trump-ally-jordan-fails-speaker-bid-as-student-loans-repayment-misfires/', 'time_published': '20231020T165000', 'authors': [\"Investor's Business Daily\", 'VIDYA RAMAKRISHNAN'], 'summary': \"Dow Jones Falls As Gold Rises. Trump Ally Jordan Fails Speaker Bid Investor's Business Daily ...\", 'banner_image': 'https://www.investors.com/wp-content/uploads/2019/02/stock-capital-hill-redSky-01-shutter.jpg', 'source': 'Investors Business Daily', 'category_within_source': 'n/a', 'source_domain': 'www.investors.com', 'topics': [{'topic': 'Life Sciences', 'relevance_score': '0.2'}, {'topic': 'Energy & Transportation', 'relevance_score': '0.2'}, {'topic': 'Technology', 'relevance_score': '0.2'}, {'topic': 'Finance', 'relevance_score': '0.2'}, {'topic': 'Financial Markets', 'relevance_score': '0.999862'}, {'topic': 'Manufacturing', 'relevance_score': '0.2'}, {'topic': 'Earnings', 'relevance_score': '0.972476'}], 'overall_sentiment_score': -0.118879, 'overall_sentiment_label': 'Neutral', 'ticker_sentiment': [{'ticker': 'MSFT', 'relevance_score': '0.127119', 'ticker_sentiment_score': '-0.205204', 'ticker_sentiment_label': 'Somewhat-Bearish'}, {'ticker': 'ENPH', 'relevance_score': '0.127119', 'ticker_sentiment_score': '-0.215069', 'ticker_sentiment_label': 'Somewhat-Bearish'}, {'ticker': 'AAPL', 'relevance_score': '0.127119', 'ticker_sentiment_score': '-0.205204', 'ticker_sentiment_label': 'Somewhat-Bearish'}, {'ticker': 'FSLR', 'relevance_score': '0.127119', 'ticker_sentiment_score': '-0.215069', 'ticker_sentiment_label': 'Somewhat-Bearish'}, {'ticker': 'SEDG', 'relevance_score': '0.127119', 'ticker_sentiment_score': '-0.215069', 'ticker_sentiment_label': 'Somewhat-Bearish'}, {'ticker': 'INTC', 'relevance_score': '0.127119', 'ticker_sentiment_score': '-0.205204', 'ticker_sentiment_label': 'Somewhat-Bearish'}, {'ticker': 'DDOG', 'relevance_score': '0.127119', 'ticker_sentiment_score': '0.057891', 'ticker_sentiment_label': 'Neutral'}, {'ticker': 'ADBE', 'relevance_score': '0.18967', 'ticker_sentiment_score': '0.07525', 'ticker_sentiment_label': 'Neutral'}, {'ticker': 'BKR', 'relevance_score': '0.127119', 'ticker_sentiment_score': '0.045158', 'ticker_sentiment_label': 'Neutral'}, {'ticker': 'SLB', 'relevance_score': '0.18967', 'ticker_sentiment_score': '-0.003284', 'ticker_sentiment_label': 'Neutral'}, {'ticker': 'AXP', 'relevance_score': '0.127119', 'ticker_sentiment_score': '-0.034407', 'ticker_sentiment_label': 'Neutral'}, {'ticker': 'ISRG', 'relevance_score': '0.18967', 'ticker_sentiment_score': '-0.003284', 'ticker_sentiment_label': 'Neutral'}]}, {'title': \"Apple's stock drops toward longest losing streak in almost 21 months\", 'url': 'https://www.marketwatch.com/story/apples-stock-drops-toward-longest-losing-streak-in-almost-21-months-3c5dc3f6', 'time_published': '20231020T162300', 'authors': ['Emily Bary'], 'summary': 'Apple shares were falling toward their longest losing streak in nearly 21 months Friday as analysts continued to look for nuggets about iPhone 15 sales trends.', 'banner_image': 'https://images.mktw.net/im-872621/social', 'source': 'MarketWatch', 'category_within_source': 'Top Stories', 'source_domain': 'www.marketwatch.com', 'topics': [{'topic': 'Financial Markets', 'relevance_score': '0.266143'}, {'topic': 'Earnings', 'relevance_score': '0.158519'}, {'topic': 'Technology', 'relevance_score': '0.5'}, {'topic': 'Finance', 'relevance_score': '0.5'}], 'overall_sentiment_score': 0.029043, 'overall_sentiment_label': 'Neutral', 'ticker_sentiment': [{'ticker': 'EVR', 'relevance_score': '0.120431', 'ticker_sentiment_score': '0.06445', 'ticker_sentiment_label': 'Neutral'}, {'ticker': 'AAPL', 'relevance_score': '0.551295', 'ticker_sentiment_score': '0.04101', 'ticker_sentiment_label': 'Neutral'}]}, {'title': 'Best Stocks To Invest In Right Now? 3 Tech Stocks To Watch', 'url': 'https://stockmarket.com/featured/best-stocks-to-invest-in-right-now-3-tech-stocks-to-watch-2023-10-20', 'time_published': '20231020T154034', 'authors': ['Brett David'], 'summary': 'When we talk about the modern world and its driving forces, the tech sector stands out as a major player. This sector encompasses companies that create and sell electronic devices, software, computers, artificial intelligence, and other innovations that power our daily lives.', 'banner_image': 'https://u3j7m9h7.rocketcdn.me/wp-content/uploads/2023/10/MSFT-stock.jpg', 'source': 'StockMarket.com', 'category_within_source': 'n/a', 'source_domain': 'stockmarket.com', 'topics': [{'topic': 'Earnings', 'relevance_score': '0.796627'}, {'topic': 'Technology', 'relevance_score': '1.0'}, {'topic': 'Financial Markets', 'relevance_score': '0.999999'}], 'overall_sentiment_score': 0.288239, 'overall_sentiment_label': 'Somewhat-Bullish', 'ticker_sentiment': [{'ticker': 'MSFT', 'relevance_score': '0.424521', 'ticker_sentiment_score': '0.160157', 'ticker_sentiment_label': 'Somewhat-Bullish'}, {'ticker': 'NFLX', 'relevance_score': '0.424521', 'ticker_sentiment_score': '0.200323', 'ticker_sentiment_label': 'Somewhat-Bullish'}, {'ticker': 'AAPL', 'relevance_score': '0.127119', 'ticker_sentiment_score': '0.199342', 'ticker_sentiment_label': 'Somewhat-Bullish'}, {'ticker': 'PLTR', 'relevance_score': '0.310843', 'ticker_sentiment_score': '0.455543', 'ticker_sentiment_label': 'Bullish'}]}, {'title': 'Take A Clue From Powell And Biden - Prepare Now To Prosper In The New Era - Meta Platforms  ( NASDAQ:META ) ', 'url': 'https://www.benzinga.com/economics/23/10/35353163/take-a-clue-from-powell-and-biden-prepare-now-to-prosper-in-the-new-era', 'time_published': '20231020T153633', 'authors': ['The Arora Report'], 'summary': 'To gain an edge, this is what you need to know today. Please click here for a 46 year chart of the 30-year U.S. Treasury yield. One of the four megatrends behind the Arora call was the end of the 40 year bond bull market.', 'banner_image': 'https://cdn.benzinga.com/files/governor_powell_150209.jpg?width=1200&height=800&fit=crop', 'source': 'Benzinga', 'category_within_source': 'Trading', 'source_domain': 'www.benzinga.com', 'topics': [{'topic': 'Economy - Monetary', 'relevance_score': '0.158519'}, {'topic': 'Financial Markets', 'relevance_score': '0.999763'}, {'topic': 'Manufacturing', 'relevance_score': '0.333333'}, {'topic': 'Technology', 'relevance_score': '0.333333'}, {'topic': 'Finance', 'relevance_score': '0.333333'}], 'overall_sentiment_score': 0.244614, 'overall_sentiment_label': 'Somewhat-Bullish', 'ticker_sentiment': [{'ticker': 'MSFT', 'relevance_score': '0.109956', 'ticker_sentiment_score': '0.238869', 'ticker_sentiment_label': 'Somewhat-Bullish'}, {'ticker': 'GOOG', 'relevance_score': '0.109956', 'ticker_sentiment_score': '-0.164677', 'ticker_sentiment_label': 'Somewhat-Bearish'}, {'ticker': 'META', 'relevance_score': '0.109956', 'ticker_sentiment_score': '0.238869', 'ticker_sentiment_label': 'Somewhat-Bullish'}, {'ticker': 'NVDA', 'relevance_score': '0.109956', 'ticker_sentiment_score': '-0.164677', 'ticker_sentiment_label': 'Somewhat-Bearish'}, {'ticker': 'AAPL', 'relevance_score': '0.109956', 'ticker_sentiment_score': '-0.164677', 'ticker_sentiment_label': 'Somewhat-Bearish'}, {'ticker': 'TSLA', 'relevance_score': '0.109956', 'ticker_sentiment_score': '-0.164677', 'ticker_sentiment_label': 'Somewhat-Bearish'}, {'ticker': 'IVZ', 'relevance_score': '0.055109', 'ticker_sentiment_score': '0.099599', 'ticker_sentiment_label': 'Neutral'}, {'ticker': 'CRYPTO:BTC', 'relevance_score': '0.217834', 'ticker_sentiment_score': '0.241679', 'ticker_sentiment_label': 'Somewhat-Bullish'}]}, {'title': \"AT&T's Optimistic Wireless and Broadband Trends Show Growth, Analyst Upgrades Stock\", 'url': 'https://markets.businessinsider.com/news/stocks/at-t-s-optimistic-wireless-and-broadband-trends-show-growth-analyst-upgrades-stock-1032724882', 'time_published': '20231020T153619', 'authors': ['Anusuya Lahiri'], 'summary': 'AT&T Inc ( NYSE:T ) reported third-quarter FY23 operating revenues of $30.35 billion, up 1% year-over-year, beating the consensus of $28.69 billion. Adjusted EPS of $0.64 beat the consensus of $0.59. Scotiabank analyst Jeff Fan upgraded AT&T from Sector Perform to Sector Outperform and an $18.5 ...', 'banner_image': 'https://cdn.benzinga.com/files/imagecache/1024x768xUP/images/story/2023/10/20/att_logo_in_dallas_tx.jpeg', 'source': 'Business Insider', 'category_within_source': 'RSS', 'source_domain': 'markets.businessinsider.com', 'topics': [{'topic': 'Earnings', 'relevance_score': '0.858979'}, {'topic': 'Technology', 'relevance_score': '0.5'}, {'topic': 'Finance', 'relevance_score': '0.5'}], 'overall_sentiment_score': 0.226492, 'overall_sentiment_label': 'Somewhat-Bullish', 'ticker_sentiment': [{'ticker': 'T', 'relevance_score': '0.087503', 'ticker_sentiment_score': '-0.106205', 'ticker_sentiment_label': 'Neutral'}, {'ticker': 'AAPL', 'relevance_score': '0.087503', 'ticker_sentiment_score': '-0.061752', 'ticker_sentiment_label': 'Neutral'}, {'ticker': 'BNS', 'relevance_score': '0.087503', 'ticker_sentiment_score': '0.386804', 'ticker_sentiment_label': 'Bullish'}]}, {'title': \"AT&T's Optimistic Wireless and Broadband Trends Show Growth, Analyst Upgrades Stock - AT&T  ( NYSE:T ) \", 'url': 'https://www.benzinga.com/news/23/10/35350395/at-ts-optimistic-wireless-and-broadband-trends-show-growth-analyst-upgrades-stock', 'time_published': '20231020T153619', 'authors': ['Anusuya Lahiri'], 'summary': 'AT&T Inc T reported third-quarter FY23 operating revenues of $30.35 billion, up 1% year-over-year, beating the consensus of $28.69 billion. Adjusted EPS of $0.64 beat the consensus of $0.59. Scotiabank analyst Jeff Fan upgraded AT&T from Sector Perform to Sector Outperform and an $18.5 price target.', 'banner_image': 'https://cdn.benzinga.com/files/images/story/2023/10/20/att_logo_in_dallas_tx.jpeg?width=1200&height=800&fit=crop', 'source': 'Benzinga', 'category_within_source': 'Trading', 'source_domain': 'www.benzinga.com', 'topics': [{'topic': 'Financial Markets', 'relevance_score': '0.108179'}, {'topic': 'Earnings', 'relevance_score': '0.858979'}, {'topic': 'Technology', 'relevance_score': '0.5'}, {'topic': 'Finance', 'relevance_score': '0.5'}], 'overall_sentiment_score': 0.217053, 'overall_sentiment_label': 'Somewhat-Bullish', 'ticker_sentiment': [{'ticker': 'T', 'relevance_score': '0.250386', 'ticker_sentiment_score': '0.0', 'ticker_sentiment_label': 'Neutral'}, {'ticker': 'AAPL', 'relevance_score': '0.16849', 'ticker_sentiment_score': '-0.079088', 'ticker_sentiment_label': 'Neutral'}, {'ticker': 'BNS', 'relevance_score': '0.084722', 'ticker_sentiment_score': '0.38457', 'ticker_sentiment_label': 'Bullish'}]}, {'title': 'Dow Jones Falls As Gold Heads Higher; Student Loans Repayment Misfires', 'url': 'https://www.investors.com/market-trend/stock-market-today/dow-jones-falls-as-gold-rises-trump-ally-makes-speaker-bid-as-student-loans-repayment-misfires/', 'time_published': '20231020T145500', 'authors': ['VIDYA RAMAKRISHNAN', \"Investor's Business Daily\"], 'summary': \"Dow Jones Falls As Gold Rises. Trump Ally Makes Speaker Bid Investor's Business Daily ...\", 'banner_image': 'https://www.investors.com/wp-content/uploads/2019/02/stock-capital-hill-redSky-01-shutter.jpg', 'source': 'Investors Business Daily', 'category_within_source': 'n/a', 'source_domain': 'www.investors.com', 'topics': [{'topic': 'Life Sciences', 'relevance_score': '0.2'}, {'topic': 'Energy & Transportation', 'relevance_score': '0.2'}, {'topic': 'Technology', 'relevance_score': '0.2'}, {'topic': 'Finance', 'relevance_score': '0.2'}, {'topic': 'Financial Markets', 'relevance_score': '0.999606'}, {'topic': 'Manufacturing', 'relevance_score': '0.2'}, {'topic': 'Earnings', 'relevance_score': '0.972476'}], 'overall_sentiment_score': -0.054056, 'overall_sentiment_label': 'Neutral', 'ticker_sentiment': [{'ticker': 'MSFT', 'relevance_score': '0.15347', 'ticker_sentiment_score': '-0.275633', 'ticker_sentiment_label': 'Somewhat-Bearish'}, {'ticker': 'AAPL', 'relevance_score': '0.15347', 'ticker_sentiment_score': '-0.275633', 'ticker_sentiment_label': 'Somewhat-Bearish'}, {'ticker': 'SEDG', 'relevance_score': '0.15347', 'ticker_sentiment_score': '-0.386135', 'ticker_sentiment_label': 'Bearish'}, {'ticker': 'INTC', 'relevance_score': '0.15347', 'ticker_sentiment_score': '-0.275633', 'ticker_sentiment_label': 'Somewhat-Bearish'}, {'ticker': 'DDOG', 'relevance_score': '0.228431', 'ticker_sentiment_score': '0.297147', 'ticker_sentiment_label': 'Somewhat-Bullish'}, {'ticker': 'ADBE', 'relevance_score': '0.228431', 'ticker_sentiment_score': '0.145706', 'ticker_sentiment_label': 'Neutral'}, {'ticker': 'BKR', 'relevance_score': '0.15347', 'ticker_sentiment_score': '0.207114', 'ticker_sentiment_label': 'Somewhat-Bullish'}, {'ticker': 'SLB', 'relevance_score': '0.228431', 'ticker_sentiment_score': '-0.003787', 'ticker_sentiment_label': 'Neutral'}, {'ticker': 'AXP', 'relevance_score': '0.15347', 'ticker_sentiment_score': '0.099422', 'ticker_sentiment_label': 'Neutral'}, {'ticker': 'ISRG', 'relevance_score': '0.228431', 'ticker_sentiment_score': '-0.003787', 'ticker_sentiment_label': 'Neutral'}]}, {'title': 'Market Clubhouse Morning Memo - October 20th, 2023  ( Trade Strategy For SPY, QQQ, AAPL, MSFT, TSLA, NVDA, And META )  - Invesco QQQ Trust, Series 1  ( NASDAQ:QQQ ) ', 'url': 'https://www.benzinga.com/markets/23/10/35351754/market-clubhouse-morning-memo-october-20th-2023-trade-strategy-for-spy-qqq-aapl-msft-tsla-nvda-and-m', 'time_published': '20231020T144853', 'authors': ['RIPS'], 'summary': \"Good Morning Traders! In today's Market Clubhouse Morning Memo, we will discuss SPY, QQQ, AAPL, MSFT, TSLA, NVDA, and META. Our proprietary formula, exclusive to Market Clubhouse, dictates these price levels. This dynamic equation takes into account price, volume, and options flow.\", 'banner_image': 'https://cdn.benzinga.com/files/market-clubhouse-morning-memo_91.png?width=1200&height=800&fit=crop', 'source': 'Benzinga', 'category_within_source': 'Trading', 'source_domain': 'www.benzinga.com', 'topics': [{'topic': 'Technology', 'relevance_score': '0.5'}, {'topic': 'Financial Markets', 'relevance_score': '0.692272'}, {'topic': 'Manufacturing', 'relevance_score': '0.5'}], 'overall_sentiment_score': 0.227298, 'overall_sentiment_label': 'Somewhat-Bullish', 'ticker_sentiment': [{'ticker': 'MSFT', 'relevance_score': '0.114682', 'ticker_sentiment_score': '0.191961', 'ticker_sentiment_label': 'Somewhat-Bullish'}, {'ticker': 'GOOG', 'relevance_score': '0.038345', 'ticker_sentiment_score': '0.079795', 'ticker_sentiment_label': 'Neutral'}, {'ticker': 'NVDA', 'relevance_score': '0.114682', 'ticker_sentiment_score': '0.261671', 'ticker_sentiment_label': 'Somewhat-Bullish'}, {'ticker': 'AAPL', 'relevance_score': '0.114682', 'ticker_sentiment_score': '0.261671', 'ticker_sentiment_label': 'Somewhat-Bullish'}, {'ticker': 'TSLA', 'relevance_score': '0.114682', 'ticker_sentiment_score': '0.243683', 'ticker_sentiment_label': 'Somewhat-Bullish'}]}, {'title': 'When Will Killers Of The Flower Moon Stream On Apple TV+? - Apple  ( NASDAQ:AAPL ) ', 'url': 'https://www.benzinga.com/general/entertainment/23/10/35350843/heres-when-martin-scorsese-leonardo-dicaprios-killers-of-the-flower-moon-could-stream-on-ap', 'time_published': '20231020T140825', 'authors': ['Rounak Jain'], 'summary': \"Apple TV+ is marking its first wide theatrical release today with Martin Scorsese's Killers of the Flower Moon. It stars Leonardo DiCaprio, Robert DeNiro, and Lily Gladstone. However, the three-and-a-half-hour crime epic is not streaming on Apple TV+ just yet. What Happened: Apple Inc.\", 'banner_image': 'https://cdn.benzinga.com/files/images/story/2023/Killers_Of_The_Flower_Moon_Photo_0110.jpg.photo_modal_show_home_large_2x.jpeg?width=1200&height=800&fit=crop', 'source': 'Benzinga', 'category_within_source': 'News', 'source_domain': 'www.benzinga.com', 'topics': [{'topic': 'Technology', 'relevance_score': '1.0'}], 'overall_sentiment_score': -0.097476, 'overall_sentiment_label': 'Neutral', 'ticker_sentiment': [{'ticker': 'AAPL', 'relevance_score': '0.889109', 'ticker_sentiment_score': '-0.400136', 'ticker_sentiment_label': 'Bearish'}]}, {'title': 'Human Augmentation Market worth $545.1 billion by 2028 - Exclusive Report by MarketsandMarkets™', 'url': 'https://www.prnewswire.com/news-releases/human-augmentation-market-worth-545-1-billion-by-2028---exclusive-report-by-marketsandmarkets-301962942.html', 'time_published': '20231020T140500', 'authors': ['MarketsandMarkets'], 'summary': 'CHICAGO, Oct. 20, 2023 /PRNewswire/ -- The global human augmentation market is expected to be valued at USD 253.6 billion in 2023 and is projected to reach USD 545.1 billion by 2028. it is expected to grow at a CAGR of 16.5% from 2023 to 2028 according to a new report by MarketsandMarkets™.', 'banner_image': 'https://mma.prnewswire.com/media/660509/MarketsandMarkets_Logo.jpg?p=facebook', 'source': 'PR Newswire', 'category_within_source': 'n/a', 'source_domain': 'www.prnewswire.com', 'topics': [{'topic': 'Earnings', 'relevance_score': '0.161647'}, {'topic': 'Technology', 'relevance_score': '1.0'}], 'overall_sentiment_score': 0.320913, 'overall_sentiment_label': 'Somewhat-Bullish', 'ticker_sentiment': [{'ticker': 'MSFT', 'relevance_score': '0.042571', 'ticker_sentiment_score': '0.069188', 'ticker_sentiment_label': 'Neutral'}, {'ticker': 'SSNLF', 'relevance_score': '0.042571', 'ticker_sentiment_score': '0.069188', 'ticker_sentiment_label': 'Neutral'}, {'ticker': 'META', 'relevance_score': '0.042571', 'ticker_sentiment_score': '0.0', 'ticker_sentiment_label': 'Neutral'}, {'ticker': 'AAPL', 'relevance_score': '0.042571', 'ticker_sentiment_score': '0.069188', 'ticker_sentiment_label': 'Neutral'}]}, {'title': '\"Magnificent Seven\" Earnings Underway: ETFs in Spotlight', 'url': 'https://www.zacks.com/stock/news/2169704/magnificent-seven-earnings-underway-etfs-in-spotlight', 'time_published': '20231020T140500', 'authors': ['Sweta Killa'], 'summary': 'The big seven companies are a big contributor to S&P earnings. Third-quarter earnings of this group of companies are expected to grow 34.9% from the same period last year on 11.2% higher revenues ...', 'banner_image': 'https://staticx-tuner.zacks.com/images/articles/main/8f/501.jpg', 'source': 'Zacks Commentary', 'category_within_source': 'n/a', 'source_domain': 'www.zacks.com', 'topics': [{'topic': 'Retail & Wholesale', 'relevance_score': '0.25'}, {'topic': 'Financial Markets', 'relevance_score': '0.999996'}, {'topic': 'Manufacturing', 'relevance_score': '0.25'}, {'topic': 'Earnings', 'relevance_score': '1.0'}, {'topic': 'Technology', 'relevance_score': '0.25'}, {'topic': 'Finance', 'relevance_score': '0.25'}], 'overall_sentiment_score': 0.264006, 'overall_sentiment_label': 'Somewhat-Bullish', 'ticker_sentiment': [{'ticker': 'MSFT', 'relevance_score': '0.161494', 'ticker_sentiment_score': '0.081844', 'ticker_sentiment_label': 'Neutral'}, {'ticker': 'META', 'relevance_score': '0.161494', 'ticker_sentiment_score': '0.176791', 'ticker_sentiment_label': 'Somewhat-Bullish'}, {'ticker': 'NVDA', 'relevance_score': '0.129516', 'ticker_sentiment_score': '0.155798', 'ticker_sentiment_label': 'Somewhat-Bullish'}, {'ticker': 'AAPL', 'relevance_score': '0.161494', 'ticker_sentiment_score': '0.176791', 'ticker_sentiment_label': 'Somewhat-Bullish'}, {'ticker': 'TSLA', 'relevance_score': '0.129516', 'ticker_sentiment_score': '-0.062813', 'ticker_sentiment_label': 'Neutral'}, {'ticker': 'IVZ', 'relevance_score': '0.097325', 'ticker_sentiment_score': '0.1769', 'ticker_sentiment_label': 'Somewhat-Bullish'}, {'ticker': 'AMZN', 'relevance_score': '0.097325', 'ticker_sentiment_score': '0.030861', 'ticker_sentiment_label': 'Neutral'}]}, {'title': 'Is Nvidia Benefiting From US Sanctions On China? - NVIDIA  ( NASDAQ:NVDA ) ', 'url': 'https://www.benzinga.com/government/23/10/35345164/is-nvidia-benefiting-from-us-sanctions-on-china', 'time_published': '20231020T132253', 'authors': ['Anusuya Lahiri'], 'summary': \"Nvidia Corp NVDA might benefit from the U.S. advanced artificial intelligence technology embargo on China. Chinese gamers will now have to dole out more than double the list price of Nvidia's flagship consumer graphics card.\", 'banner_image': 'https://cdn.benzinga.com/files/images/story/2023/10/20/nvda_chip.png?width=1200&height=800&fit=crop', 'source': 'Benzinga', 'category_within_source': 'News', 'source_domain': 'www.benzinga.com', 'topics': [{'topic': 'Technology', 'relevance_score': '0.5'}, {'topic': 'Manufacturing', 'relevance_score': '0.5'}], 'overall_sentiment_score': 0.236454, 'overall_sentiment_label': 'Somewhat-Bullish', 'ticker_sentiment': [{'ticker': 'BABA', 'relevance_score': '0.22595', 'ticker_sentiment_score': '0.0', 'ticker_sentiment_label': 'Neutral'}, {'ticker': 'NVDA', 'relevance_score': '0.610896', 'ticker_sentiment_score': '0.414643', 'ticker_sentiment_label': 'Bullish'}, {'ticker': 'AAPL', 'relevance_score': '0.22595', 'ticker_sentiment_score': '0.012297', 'ticker_sentiment_label': 'Neutral'}, {'ticker': 'HNHPF', 'relevance_score': '0.22595', 'ticker_sentiment_score': '0.012297', 'ticker_sentiment_label': 'Neutral'}]}, {'title': 'Grab $1,000 Discount On 16-inch MacBook Pro With M1 Pro Chip - Apple  ( NASDAQ:AAPL ) ', 'url': 'https://www.benzinga.com/news/23/10/35349585/grab-1-000-discount-on-16-inch-macbook-pro-with-m1-pro-chip', 'time_published': '20231020T131558', 'authors': ['Rounak Jain'], 'summary': \"Apple Inc.'s AAPL 16-inch MacBook Pro powered by the M1 Pro chip is now available at a massive discount of $1,000 on Adorama. What Is The Deal: The 16-inch MacBook Pro with M1 Pro chip is available at $1,899 on Adorama, after a massive discount of $1,000. The deal comes with no strings attached.\", 'banner_image': 'https://cdn.benzinga.com/files/images/story/2023/Macbook_pro_16_0.jpeg?width=1200&height=800&fit=crop', 'source': 'Benzinga', 'category_within_source': 'News', 'source_domain': 'www.benzinga.com', 'topics': [{'topic': 'Technology', 'relevance_score': '1.0'}], 'overall_sentiment_score': 0.418637, 'overall_sentiment_label': 'Bullish', 'ticker_sentiment': [{'ticker': 'AAPL', 'relevance_score': '0.397098', 'ticker_sentiment_score': '0.552231', 'ticker_sentiment_label': 'Bullish'}]}, {'title': 'Futures Extend Losses; This Solar Stock Crashes', 'url': 'https://www.investors.com/market-trend/stock-market-today/dow-jones-futures-extend-losses-from-market-sell-off-solaredge-crashes-on-warning/', 'time_published': '20231020T121100', 'authors': ['SCOTT LEHTONEN', \"Investor's Business Daily\"], 'summary': \"Dow Jones Futures Extend Losses From Market Sell-Off. SolarEdge ... Investor's Business Daily ...\", 'banner_image': 'https://www.investors.com/wp-content/uploads/2017/10/stock-eclipse-solar-shutter.jpg', 'source': 'Investors Business Daily', 'category_within_source': 'n/a', 'source_domain': 'www.investors.com', 'topics': [{'topic': 'Life Sciences', 'relevance_score': '0.2'}, {'topic': 'Energy & Transportation', 'relevance_score': '0.2'}, {'topic': 'Technology', 'relevance_score': '0.2'}, {'topic': 'Finance', 'relevance_score': '0.2'}, {'topic': 'Financial Markets', 'relevance_score': '1.0'}, {'topic': 'Manufacturing', 'relevance_score': '0.2'}, {'topic': 'Earnings', 'relevance_score': '0.857896'}], 'overall_sentiment_score': -0.002432, 'overall_sentiment_label': 'Neutral', 'ticker_sentiment': [{'ticker': 'ENPH', 'relevance_score': '0.067919', 'ticker_sentiment_score': '0.077381', 'ticker_sentiment_label': 'Neutral'}, {'ticker': 'META', 'relevance_score': '0.101725', 'ticker_sentiment_score': '0.101858', 'ticker_sentiment_label': 'Neutral'}, {'ticker': 'NVDA', 'relevance_score': '0.067919', 'ticker_sentiment_score': '-0.172678', 'ticker_sentiment_label': 'Somewhat-Bearish'}, {'ticker': 'AAPL', 'relevance_score': '0.168726', 'ticker_sentiment_score': '0.001457', 'ticker_sentiment_label': 'Neutral'}, {'ticker': 'ANET', 'relevance_score': '0.101725', 'ticker_sentiment_score': '0.073962', 'ticker_sentiment_label': 'Neutral'}, {'ticker': 'JPM', 'relevance_score': '0.168726', 'ticker_sentiment_score': '0.016968', 'ticker_sentiment_label': 'Neutral'}, {'ticker': 'SLB', 'relevance_score': '0.101725', 'ticker_sentiment_score': '-0.044764', 'ticker_sentiment_label': 'Neutral'}, {'ticker': 'IVZ', 'relevance_score': '0.03399', 'ticker_sentiment_score': '0.008803', 'ticker_sentiment_label': 'Neutral'}, {'ticker': 'MSFT', 'relevance_score': '0.101725', 'ticker_sentiment_score': '0.001111', 'ticker_sentiment_label': 'Neutral'}, {'ticker': 'LULU', 'relevance_score': '0.101725', 'ticker_sentiment_score': '0.042585', 'ticker_sentiment_label': 'Neutral'}, {'ticker': 'SEDG', 'relevance_score': '0.168726', 'ticker_sentiment_score': '-0.177213', 'ticker_sentiment_label': 'Somewhat-Bearish'}, {'ticker': 'TSLA', 'relevance_score': '0.101725', 'ticker_sentiment_score': '0.001111', 'ticker_sentiment_label': 'Neutral'}, {'ticker': 'AXP', 'relevance_score': '0.101725', 'ticker_sentiment_score': '-0.044764', 'ticker_sentiment_label': 'Neutral'}, {'ticker': 'REGN', 'relevance_score': '0.101725', 'ticker_sentiment_score': '0.079746', 'ticker_sentiment_label': 'Neutral'}, {'ticker': 'ISRG', 'relevance_score': '0.135347', 'ticker_sentiment_score': '0.034724', 'ticker_sentiment_label': 'Neutral'}]}, {'title': \"Jon Stewart's Apple TV+ show is reportedly getting the axe\", 'url': 'https://www.marketwatch.com/story/jon-stewarts-apple-tv-show-is-reportedly-getting-the-axe-838c608a', 'time_published': '20231020T120300', 'authors': ['Charles Passy'], 'summary': 'Jon Stewart tackled controversial issues, including topics related to China and AI. That may have been one reason his show was canceled.', 'banner_image': 'https://images.mktw.net/im-872445/horizontal', 'source': 'MarketWatch', 'category_within_source': 'Top Stories', 'source_domain': 'www.marketwatch.com', 'topics': [{'topic': 'Technology', 'relevance_score': '0.5'}, {'topic': 'Manufacturing', 'relevance_score': '0.5'}], 'overall_sentiment_score': 0.057822, 'overall_sentiment_label': 'Neutral', 'ticker_sentiment': [{'ticker': 'NYT', 'relevance_score': '0.12546', 'ticker_sentiment_score': '-0.054239', 'ticker_sentiment_label': 'Neutral'}, {'ticker': 'AAPL', 'relevance_score': '0.656549', 'ticker_sentiment_score': '-0.089248', 'ticker_sentiment_label': 'Neutral'}]}, {'title': 'Earnings Preview of \"Magnificent Seven\": ETFs in Focus', 'url': 'https://www.zacks.com/stock/news/2169414/earnings-preview-of-magnificent-seven-etfs-in-focus', 'time_published': '20231020T120000', 'authors': ['Sanghamitra Saha'], 'summary': 'Six of seven big tech stocks, known as, Magnificent Seven, are likely to report in the coming days. One tech behemoth of the group, Tesla, has already reported.', 'banner_image': 'https://staticx-tuner.zacks.com/images/articles/main/b6/2622.jpg', 'source': 'Zacks Commentary', 'category_within_source': 'n/a', 'source_domain': 'www.zacks.com', 'topics': [{'topic': 'Retail & Wholesale', 'relevance_score': '0.333333'}, {'topic': 'Financial Markets', 'relevance_score': '0.999819'}, {'topic': 'Manufacturing', 'relevance_score': '0.333333'}, {'topic': 'Earnings', 'relevance_score': '0.999937'}, {'topic': 'Technology', 'relevance_score': '0.333333'}], 'overall_sentiment_score': 0.098793, 'overall_sentiment_label': 'Neutral', 'ticker_sentiment': [{'ticker': 'MSFT', 'relevance_score': '0.242285', 'ticker_sentiment_score': '-0.003702', 'ticker_sentiment_label': 'Neutral'}, {'ticker': 'META', 'relevance_score': '0.122581', 'ticker_sentiment_score': '0.037535', 'ticker_sentiment_label': 'Neutral'}, {'ticker': 'NVDA', 'relevance_score': '0.30021', 'ticker_sentiment_score': '-0.006646', 'ticker_sentiment_label': 'Neutral'}, {'ticker': 'AAPL', 'relevance_score': '0.242285', 'ticker_sentiment_score': '0.084483', 'ticker_sentiment_label': 'Neutral'}, {'ticker': 'TSLA', 'relevance_score': '0.356438', 'ticker_sentiment_score': '-0.082987', 'ticker_sentiment_label': 'Neutral'}, {'ticker': 'AMZN', 'relevance_score': '0.30021', 'ticker_sentiment_score': '-0.006592', 'ticker_sentiment_label': 'Neutral'}]}, {'title': 'Big Relief For Google, Meta, And Apple As US Regulatory Green-lights Mobile VR Devices - Alphabet  ( NASDAQ:GOOG ) , Alphabet  ( NASDAQ:GOOGL ) , Meta Platforms  ( NASDAQ:META ) ', 'url': 'https://www.benzinga.com/news/23/10/35346254/big-relief-for-google-meta-and-apple-as-us-regulatory-green-lights-mobile-vr-devices', 'time_published': '20231020T102925', 'authors': ['Benzinga Neuro'], 'summary': 'The U.S. Federal Communications Commission or FCC has given the nod to Google, part of Alphabet Inc. GOOG GOOGL, Apple Inc. AAPL, and Meta Platforms Inc. META for the distribution of their new mobile virtual and augmented reality devices.', 'banner_image': 'https://cdn.benzinga.com/files/images/story/2023/Meta_VR_headset_Photo_by_Boumen_Japet_on_Shutterstock_3.jpeg?width=1200&height=800&fit=crop', 'source': 'Benzinga', 'category_within_source': 'News', 'source_domain': 'www.benzinga.com', 'topics': [{'topic': 'Technology', 'relevance_score': '1.0'}, {'topic': 'Financial Markets', 'relevance_score': '0.360215'}], 'overall_sentiment_score': 0.151753, 'overall_sentiment_label': 'Somewhat-Bullish', 'ticker_sentiment': [{'ticker': 'GOOG', 'relevance_score': '0.312158', 'ticker_sentiment_score': '0.0', 'ticker_sentiment_label': 'Neutral'}, {'ticker': 'META', 'relevance_score': '0.211191', 'ticker_sentiment_score': '0.0', 'ticker_sentiment_label': 'Neutral'}, {'ticker': 'AAPL', 'relevance_score': '0.312158', 'ticker_sentiment_score': '0.208494', 'ticker_sentiment_label': 'Somewhat-Bullish'}]}, {'title': 'Should Fidelity Quality Factor ETF  ( FQAL )  Be on Your Investing Radar?', 'url': 'https://www.zacks.com/stock/news/2169362/should-fidelity-quality-factor-etf-fqal-be-on-your-investing-radar', 'time_published': '20231020T102006', 'authors': ['Zacks Equity Research'], 'summary': 'Style Box ETF report for ...', 'banner_image': 'https://staticx-tuner.zacks.com/images/default_article_images/default347.jpg', 'source': 'Zacks Commentary', 'category_within_source': 'n/a', 'source_domain': 'www.zacks.com', 'topics': [{'topic': 'Technology', 'relevance_score': '1.0'}, {'topic': 'Financial Markets', 'relevance_score': '1.0'}], 'overall_sentiment_score': 0.179812, 'overall_sentiment_label': 'Somewhat-Bullish', 'ticker_sentiment': [{'ticker': 'MSFT', 'relevance_score': '0.131643', 'ticker_sentiment_score': '0.064788', 'ticker_sentiment_label': 'Neutral'}, {'ticker': 'GOOG', 'relevance_score': '0.066047', 'ticker_sentiment_score': '0.055066', 'ticker_sentiment_label': 'Neutral'}, {'ticker': 'AAPL', 'relevance_score': '0.131643', 'ticker_sentiment_score': '0.064788', 'ticker_sentiment_label': 'Neutral'}]}, {'title': 'Should WisdomTree U.S. Total Dividend ETF  ( DTD )  Be on Your Investing Radar?', 'url': 'https://www.zacks.com/stock/news/2169367/should-wisdomtree-us-total-dividend-etf-dtd-be-on-your-investing-radar', 'time_published': '20231020T102005', 'authors': ['Zacks Equity Research'], 'summary': 'Style Box ETF report for DTD ...', 'banner_image': 'https://staticx-tuner.zacks.com/images/default_article_images/default316.jpg', 'source': 'Zacks Commentary', 'category_within_source': 'n/a', 'source_domain': 'www.zacks.com', 'topics': [{'topic': 'Financial Markets', 'relevance_score': '1.0'}, {'topic': 'Earnings', 'relevance_score': '0.451494'}, {'topic': 'Energy & Transportation', 'relevance_score': '0.5'}, {'topic': 'Technology', 'relevance_score': '0.5'}], 'overall_sentiment_score': 0.199044, 'overall_sentiment_label': 'Somewhat-Bullish', 'ticker_sentiment': [{'ticker': 'MSFT', 'relevance_score': '0.122894', 'ticker_sentiment_score': '0.068464', 'ticker_sentiment_label': 'Neutral'}, {'ticker': 'AAPL', 'relevance_score': '0.122894', 'ticker_sentiment_score': '0.068464', 'ticker_sentiment_label': 'Neutral'}, {'ticker': 'WT', 'relevance_score': '0.300946', 'ticker_sentiment_score': '0.161358', 'ticker_sentiment_label': 'Somewhat-Bullish'}, {'ticker': 'XOM', 'relevance_score': '0.122894', 'ticker_sentiment_score': '0.068464', 'ticker_sentiment_label': 'Neutral'}]}, {'title': 'Apple TV+ Pulls The Plug On Jon Stewart Show After AI & China Episode: Report - Apple  ( NASDAQ:AAPL ) ', 'url': 'https://www.benzinga.com/news/23/10/35345508/apple-tv-pulls-the-plug-on-jon-stewart-show-after-ai-china-episode-report', 'time_published': '20231020T092516', 'authors': ['Ananya Gairola'], 'summary': 'Apple Inc.\\'s AAPL streaming platform, Apple TV+, has ended \"The Problem With Jon Stewart\" over reported \"creative differences,\" specifically concerning the show\\'s coverage of artificial intelligence and China.', 'banner_image': 'https://cdn.benzinga.com/files/images/story/2023/Jon_Stewart.jpeg?width=1200&height=800&fit=crop', 'source': 'Benzinga', 'category_within_source': 'News', 'source_domain': 'www.benzinga.com', 'topics': [{'topic': 'Technology', 'relevance_score': '0.5'}, {'topic': 'Manufacturing', 'relevance_score': '0.5'}], 'overall_sentiment_score': -0.055454, 'overall_sentiment_label': 'Neutral', 'ticker_sentiment': [{'ticker': 'NYT', 'relevance_score': '0.124164', 'ticker_sentiment_score': '-0.003615', 'ticker_sentiment_label': 'Neutral'}, {'ticker': 'AAPL', 'relevance_score': '0.651499', 'ticker_sentiment_score': '-0.056402', 'ticker_sentiment_label': 'Neutral'}]}, {'title': 'Warren Buffett Could Have Bought Any of 60 Nasdaq 100 Companies With $71 Billion. Instead, He Piled It All Into 1 Stock.', 'url': 'https://www.fool.com/investing/2023/10/20/warren-buffett-71-billion-piled-all-into-1-stock/', 'time_published': '20231020T090600', 'authors': ['Sean Williams'], 'summary': 'The Oracle of Omaha has purchased shares of this company for 20 consecutive quarters.', 'banner_image': 'https://g.foolcdn.com/image/?url=https%3A%2F%2Fg.foolcdn.com%2Feditorial%2Fimages%2F751007%2Fbuffett2-tmf.jpg&op=resize&w=700', 'source': 'Motley Fool', 'category_within_source': 'n/a', 'source_domain': 'www.fool.com', 'topics': [{'topic': 'Economy - Monetary', 'relevance_score': '0.310843'}, {'topic': 'Financial Markets', 'relevance_score': '0.999897'}, {'topic': 'Earnings', 'relevance_score': '0.310843'}, {'topic': 'Energy & Transportation', 'relevance_score': '0.333333'}, {'topic': 'Technology', 'relevance_score': '0.333333'}, {'topic': 'Finance', 'relevance_score': '0.333333'}], 'overall_sentiment_score': 0.243798, 'overall_sentiment_label': 'Somewhat-Bullish', 'ticker_sentiment': [{'ticker': 'AAPL', 'relevance_score': '0.202932', 'ticker_sentiment_score': '0.18145', 'ticker_sentiment_label': 'Somewhat-Bullish'}, {'ticker': 'BAC', 'relevance_score': '0.169676', 'ticker_sentiment_score': '0.20086', 'ticker_sentiment_label': 'Somewhat-Bullish'}, {'ticker': 'CVX', 'relevance_score': '0.202932', 'ticker_sentiment_score': '0.049054', 'ticker_sentiment_label': 'Neutral'}, {'ticker': 'BRK-A', 'relevance_score': '0.202932', 'ticker_sentiment_score': '0.264951', 'ticker_sentiment_label': 'Somewhat-Bullish'}]}, {'title': \"Tim Cook Hobnobs With Martin Scorsese At Special 'Killers Of The Flower Moon' Screening As Apple Expands Into Cinematic Limelight - Netflix  ( NASDAQ:NFLX ) \", 'url': 'https://www.benzinga.com/general/entertainment/23/10/35344309/tim-cook-hobnobs-with-martin-scorsese-at-special-killers-of-the-flower-moon-screening-as-ap', 'time_published': '20231020T062008', 'authors': ['Ananya Gairola'], 'summary': 'Renowned filmmaker Martin Scorsese attended a special screening of his latest film, \"Killers of the Flower Moon\" alongside Apple Inc. AAPL CEO Tim Cook.', 'banner_image': 'https://cdn.benzinga.com/files/images/story/2023/Apple_CEO_Tim_Cook.jpeg?width=1200&height=800&fit=crop', 'source': 'Benzinga', 'category_within_source': 'News', 'source_domain': 'www.benzinga.com', 'topics': [{'topic': 'Technology', 'relevance_score': '1.0'}, {'topic': 'Financial Markets', 'relevance_score': '0.108179'}], 'overall_sentiment_score': 0.014604, 'overall_sentiment_label': 'Neutral', 'ticker_sentiment': [{'ticker': 'NFLX', 'relevance_score': '0.150592', 'ticker_sentiment_score': '0.151507', 'ticker_sentiment_label': 'Somewhat-Bullish'}, {'ticker': 'AAPL', 'relevance_score': '0.657566', 'ticker_sentiment_score': '0.254777', 'ticker_sentiment_label': 'Somewhat-Bullish'}]}, {'title': \"Netflix price increase: Here's how much the major streaming services are set to cost\", 'url': 'https://www.marketwatch.com/story/netflix-price-increase-heres-how-much-all-streaming-services-are-set-to-cost-e9a277f8', 'time_published': '20231019T192900', 'authors': ['Weston Blasi'], 'summary': \"Disney+ and Netflix have both raised their prices in the last month. Here's how they compare to other streamers.\", 'banner_image': 'https://images.mktw.net/im-871888/social', 'source': 'MarketWatch', 'category_within_source': 'Top Stories', 'source_domain': 'www.marketwatch.com', 'topics': [{'topic': 'Earnings', 'relevance_score': '0.310843'}, {'topic': 'Retail & Wholesale', 'relevance_score': '0.5'}, {'topic': 'Technology', 'relevance_score': '0.5'}], 'overall_sentiment_score': 0.08695, 'overall_sentiment_label': 'Neutral', 'ticker_sentiment': [{'ticker': 'NFLX', 'relevance_score': '0.375722', 'ticker_sentiment_score': '0.070496', 'ticker_sentiment_label': 'Neutral'}, {'ticker': 'WBD', 'relevance_score': '0.097457', 'ticker_sentiment_score': '0.0706', 'ticker_sentiment_label': 'Neutral'}, {'ticker': 'AAPL', 'relevance_score': '0.28664', 'ticker_sentiment_score': '0.154046', 'ticker_sentiment_label': 'Somewhat-Bullish'}, {'ticker': 'CCZ', 'relevance_score': '0.04882', 'ticker_sentiment_score': '0.044448', 'ticker_sentiment_label': 'Neutral'}, {'ticker': 'AMZN', 'relevance_score': '0.193465', 'ticker_sentiment_score': '-0.010741', 'ticker_sentiment_label': 'Neutral'}, {'ticker': 'DIS', 'relevance_score': '0.097457', 'ticker_sentiment_score': '0.094748', 'ticker_sentiment_label': 'Neutral'}]}, {'title': 'Dow Jones Dives Amid Powell Pledge; Tesla Sinks After Elon Musk Warning', 'url': 'https://www.investors.com/market-trend/stock-market-today/dow-jones-falls-as-jerome-powell-says-this-netflix-stock-explodes-tesla-stock-sinks-after-elon-musk-warning-cybertruck/', 'time_published': '20231019T192300', 'authors': ['MICHAEL LARKIN', \"Investor's Business Daily\"], 'summary': \"Dow Jones Dives Amid Powell Pledge. Tesla Sinks After Elon Musk ... Investor's Business Daily ...\", 'banner_image': 'https://www.investors.com/wp-content/uploads/2018/10/stock-Jerome-Powell-03-fed.jpg', 'source': 'Investors Business Daily', 'category_within_source': 'n/a', 'source_domain': 'www.investors.com', 'topics': [{'topic': 'Energy & Transportation', 'relevance_score': '0.2'}, {'topic': 'Technology', 'relevance_score': '0.2'}, {'topic': 'Finance', 'relevance_score': '0.2'}, {'topic': 'Economy - Monetary', 'relevance_score': '0.682689'}, {'topic': 'Financial Markets', 'relevance_score': '0.999864'}, {'topic': 'Manufacturing', 'relevance_score': '0.2'}, {'topic': 'Earnings', 'relevance_score': '0.938238'}, {'topic': 'Real Estate & Construction', 'relevance_score': '0.2'}], 'overall_sentiment_score': 0.031826, 'overall_sentiment_label': 'Neutral', 'ticker_sentiment': [{'ticker': 'MSFT', 'relevance_score': '0.184176', 'ticker_sentiment_score': '0.295812', 'ticker_sentiment_label': 'Somewhat-Bullish'}, {'ticker': 'NFLX', 'relevance_score': '0.147818', 'ticker_sentiment_score': '0.098393', 'ticker_sentiment_label': 'Neutral'}, {'ticker': 'HQY', 'relevance_score': '0.147818', 'ticker_sentiment_score': '0.323464', 'ticker_sentiment_label': 'Somewhat-Bullish'}, {'ticker': 'AAPL', 'relevance_score': '0.07423', 'ticker_sentiment_score': '0.034703', 'ticker_sentiment_label': 'Neutral'}, {'ticker': 'TSLA', 'relevance_score': '0.147818', 'ticker_sentiment_score': '-0.259267', 'ticker_sentiment_label': 'Somewhat-Bearish'}, {'ticker': 'VZ', 'relevance_score': '0.07423', 'ticker_sentiment_score': '0.015373', 'ticker_sentiment_label': 'Neutral'}, {'ticker': 'MS', 'relevance_score': '0.037155', 'ticker_sentiment_score': '0.255336', 'ticker_sentiment_label': 'Somewhat-Bullish'}, {'ticker': 'VST', 'relevance_score': '0.147818', 'ticker_sentiment_score': '0.252856', 'ticker_sentiment_label': 'Somewhat-Bullish'}, {'ticker': 'CAT', 'relevance_score': '0.111144', 'ticker_sentiment_score': '-0.266466', 'ticker_sentiment_label': 'Somewhat-Bearish'}, {'ticker': 'COR', 'relevance_score': '0.111144', 'ticker_sentiment_score': '0.267578', 'ticker_sentiment_label': 'Somewhat-Bullish'}, {'ticker': 'LRCX', 'relevance_score': '0.07423', 'ticker_sentiment_score': '-0.201235', 'ticker_sentiment_label': 'Somewhat-Bearish'}]}, {'title': 'Citizens grows coast-to-coast reach with private-banking unit', 'url': 'https://www.marketwatch.com/story/citizens-grows-coast-to-coast-reach-with-private-banking-unit-12e2c874', 'time_published': '20231019T191400', 'authors': ['Steve Gelsi'], 'summary': 'Citizens Financial Group launches private-banking unit centered around New York, Palm Beach, San Francisco and Boston with ex-First Republic bankers.', 'banner_image': 'https://images.mktw.net/im-872028?width=700&height=159', 'source': 'MarketWatch', 'category_within_source': 'Top Stories', 'source_domain': 'www.marketwatch.com', 'topics': [{'topic': 'Financial Markets', 'relevance_score': '0.99793'}, {'topic': 'Earnings', 'relevance_score': '0.158519'}, {'topic': 'Mergers & Acquisitions', 'relevance_score': '0.310843'}, {'topic': 'Technology', 'relevance_score': '0.5'}, {'topic': 'Finance', 'relevance_score': '0.5'}], 'overall_sentiment_score': 0.173655, 'overall_sentiment_label': 'Somewhat-Bullish', 'ticker_sentiment': [{'ticker': 'AAPL', 'relevance_score': '0.127795', 'ticker_sentiment_score': '0.0', 'ticker_sentiment_label': 'Neutral'}, {'ticker': 'CFG', 'relevance_score': '0.312423', 'ticker_sentiment_score': '0.229937', 'ticker_sentiment_label': 'Somewhat-Bullish'}, {'ticker': 'FRC', 'relevance_score': '0.190667', 'ticker_sentiment_score': '0.1715', 'ticker_sentiment_label': 'Somewhat-Bullish'}, {'ticker': 'JPM', 'relevance_score': '0.127795', 'ticker_sentiment_score': '0.0', 'ticker_sentiment_label': 'Neutral'}]}, {'title': 'Number of women in blue-collar jobs increasing across manufacturing sector', 'url': 'https://www.business-standard.com/economy/news/number-of-women-in-blue-collar-jobs-increasing-across-manufacturing-sector-123102000012_1.html', 'time_published': '20231019T184626', 'authors': ['Shine Jacob', 'Ishita Ayan Dutt', 'Sohini Das'], 'summary': '\"Lady candidates need not apply.\" So read the postscript in a job notice from Telco ( now Tata Motors ) on a notice board in the corridors of the Indian Institute of Science, Bangalore ( now Bengaluru ) , in 1974.', 'banner_image': 'https://bsmedia.business-standard.com/_media/bs/img/article/2023-10/20/full/1697740924-3744.jpg', 'source': 'Business Standard', 'category_within_source': 'GoogleRSS', 'source_domain': 'www.business-standard.com', 'topics': [{'topic': 'Technology', 'relevance_score': '0.5'}, {'topic': 'Manufacturing', 'relevance_score': '0.5'}], 'overall_sentiment_score': 0.107767, 'overall_sentiment_label': 'Neutral', 'ticker_sentiment': [{'ticker': 'AAPL', 'relevance_score': '0.030216', 'ticker_sentiment_score': '0.0', 'ticker_sentiment_label': 'Neutral'}, {'ticker': 'CVGI', 'relevance_score': '0.030216', 'ticker_sentiment_score': '0.0', 'ticker_sentiment_label': 'Neutral'}, {'ticker': 'TATLY', 'relevance_score': '0.120431', 'ticker_sentiment_score': '0.006912', 'ticker_sentiment_label': 'Neutral'}, {'ticker': 'JBL', 'relevance_score': '0.030216', 'ticker_sentiment_score': '0.0', 'ticker_sentiment_label': 'Neutral'}, {'ticker': 'MT', 'relevance_score': '0.030216', 'ticker_sentiment_score': '0.0', 'ticker_sentiment_label': 'Neutral'}, {'ticker': 'NISTF', 'relevance_score': '0.030216', 'ticker_sentiment_score': '0.0', 'ticker_sentiment_label': 'Neutral'}]}, {'title': 'AVGO: 3 Semiconductor Stocks Promoting Momentum', 'url': 'https://stocknews.com/news/avgo-qcom-crus-aapl-vmw-3-semiconductor-stocks-promoting-momentum/', 'time_published': '20231019T170328', 'authors': ['StockNews.com Staff'], 'summary': \"The semiconductor sector's expansion finds its impetus in escalating demand for its products, technological progress, and substantial governmental funding. Consequently, it seems wise to invest in Cirrus Logic, Inc. ( CRUS ) , Broadcom Inc. ( AVGO ) , and QUALCOMM Incorporated ( QCOM ) , which ...\", 'banner_image': 'https://stocknews.com/wp-content/uploads/2022/06/shutterstock_1196754286-1-scaled.jpg', 'source': 'Stocknews.com', 'category_within_source': 'n/a', 'source_domain': 'stocknews.com', 'topics': [{'topic': 'Financial Markets', 'relevance_score': '0.998356'}, {'topic': 'Manufacturing', 'relevance_score': '0.5'}, {'topic': 'Earnings', 'relevance_score': '1.0'}, {'topic': 'Technology', 'relevance_score': '0.5'}], 'overall_sentiment_score': 0.344562, 'overall_sentiment_label': 'Somewhat-Bullish', 'ticker_sentiment': [{'ticker': 'VMW', 'relevance_score': '0.059711', 'ticker_sentiment_score': '0.368466', 'ticker_sentiment_label': 'Bullish'}, {'ticker': 'AAPL', 'relevance_score': '0.059711', 'ticker_sentiment_score': '0.182023', 'ticker_sentiment_label': 'Somewhat-Bullish'}, {'ticker': 'CRUS', 'relevance_score': '0.373665', 'ticker_sentiment_score': '0.445051', 'ticker_sentiment_label': 'Bullish'}, {'ticker': 'AVGO', 'relevance_score': '0.263942', 'ticker_sentiment_score': '0.372528', 'ticker_sentiment_label': 'Bullish'}, {'ticker': 'QCOM', 'relevance_score': '0.263942', 'ticker_sentiment_score': '0.284803', 'ticker_sentiment_label': 'Somewhat-Bullish'}]}, {'title': \"Microsoft's acquisition of Activision makes Big Tech even bigger - and harder to rein in\", 'url': 'https://www.marketwatch.com/story/microsofts-acquisition-of-activision-makes-big-tech-even-bigger-and-harder-to-rein-in-cea3044b', 'time_published': '20231019T162500', 'authors': ['Jon Swartz'], 'summary': 'Microsoft made concessions to appease regulators, but acquisition shows that so-called vertical deals can still be approved.', 'banner_image': 'https://images.mktw.net/im-809005/social', 'source': 'MarketWatch', 'category_within_source': 'Top Stories', 'source_domain': 'www.marketwatch.com', 'topics': [{'topic': 'Mergers & Acquisitions', 'relevance_score': '0.158519'}, {'topic': 'Technology', 'relevance_score': '0.5'}, {'topic': 'Retail & Wholesale', 'relevance_score': '0.5'}], 'overall_sentiment_score': -0.02636, 'overall_sentiment_label': 'Neutral', 'ticker_sentiment': [{'ticker': 'MSFT', 'relevance_score': '0.258743', 'ticker_sentiment_score': '-0.019776', 'ticker_sentiment_label': 'Neutral'}, {'ticker': 'SNEJF', 'relevance_score': '0.037622', 'ticker_sentiment_score': '0.066425', 'ticker_sentiment_label': 'Neutral'}, {'ticker': 'GOOG', 'relevance_score': '0.075161', 'ticker_sentiment_score': '0.0', 'ticker_sentiment_label': 'Neutral'}, {'ticker': 'META', 'relevance_score': '0.149656', 'ticker_sentiment_score': '0.043396', 'ticker_sentiment_label': 'Neutral'}, {'ticker': 'AAPL', 'relevance_score': '0.112532', 'ticker_sentiment_score': '0.039011', 'ticker_sentiment_label': 'Neutral'}, {'ticker': 'NTDOF', 'relevance_score': '0.037622', 'ticker_sentiment_score': '0.066425', 'ticker_sentiment_label': 'Neutral'}, {'ticker': 'ATVI', 'relevance_score': '0.222838', 'ticker_sentiment_score': '0.02094', 'ticker_sentiment_label': 'Neutral'}, {'ticker': 'AMZN', 'relevance_score': '0.112532', 'ticker_sentiment_score': '0.021381', 'ticker_sentiment_label': 'Neutral'}]}, {'title': 'Netflix  ( NFLX )  Q3 Earnings Beat, Revenues Rise Y/Y on User Gain', 'url': 'https://www.zacks.com/stock/news/2169055/netflix-nflx-q3-earnings-beat-revenues-rise-yy-on-user-gain', 'time_published': '20231019T155200', 'authors': ['Zacks Equity Research'], 'summary': 'Netflix (NFLX) gains 8.76 million subscribers in the third quarter of 2023. The company is benefiting from a strong content portfolio amid stiff competition.', 'banner_image': 'https://staticx-tuner.zacks.com/images/articles/main/23/20486.jpg', 'source': 'Zacks Commentary', 'category_within_source': 'n/a', 'source_domain': 'www.zacks.com', 'topics': [{'topic': 'Retail & Wholesale', 'relevance_score': '0.5'}, {'topic': 'Financial Markets', 'relevance_score': '0.904684'}, {'topic': 'Earnings', 'relevance_score': '0.495866'}, {'topic': 'Technology', 'relevance_score': '0.5'}], 'overall_sentiment_score': 0.214178, 'overall_sentiment_label': 'Somewhat-Bullish', 'ticker_sentiment': [{'ticker': 'NFLX', 'relevance_score': '0.512287', 'ticker_sentiment_score': '0.418494', 'ticker_sentiment_label': 'Bullish'}, {'ticker': 'AAPL', 'relevance_score': '0.169081', 'ticker_sentiment_score': '0.149499', 'ticker_sentiment_label': 'Neutral'}, {'ticker': 'AMZN', 'relevance_score': '0.169081', 'ticker_sentiment_score': '0.149499', 'ticker_sentiment_label': 'Neutral'}]}, {'title': 'Tesla Hurt By Interest Rates, Buying Opportunity In Semiconductors, Important Powell Speech Ahead - Tesla  ( NASDAQ:TSLA ) ', 'url': 'https://www.benzinga.com/markets/23/10/35333354/tesla-hurt-by-interest-rates-buying-opportunity-in-semiconductors-important-powell-speech-ahead', 'time_published': '20231019T152906', 'authors': ['The Arora Report'], 'summary': 'To gain an edge, this is what you need to know today. Please click here for a chart of Tesla Inc TSLA. The Morning Capsule is about the big picture, not an individual stock. The chart of TSLA is being used to illustrate the point. TSLA is a very important stock because it is part of the ...', 'banner_image': 'https://cdn.benzinga.com/files/austin-ramsey-9x3dmoem64k-unsplash_5.jpg?width=1200&height=800&fit=crop', 'source': 'Benzinga', 'category_within_source': 'Markets', 'source_domain': 'www.benzinga.com', 'topics': [{'topic': 'Economy - Monetary', 'relevance_score': '0.451494'}, {'topic': 'Financial Markets', 'relevance_score': '1.0'}, {'topic': 'Manufacturing', 'relevance_score': '0.333333'}, {'topic': 'Earnings', 'relevance_score': '0.310843'}, {'topic': 'Technology', 'relevance_score': '0.333333'}, {'topic': 'Finance', 'relevance_score': '0.333333'}], 'overall_sentiment_score': 0.227461, 'overall_sentiment_label': 'Somewhat-Bullish', 'ticker_sentiment': [{'ticker': 'MSFT', 'relevance_score': '0.068016', 'ticker_sentiment_score': '0.141496', 'ticker_sentiment_label': 'Neutral'}, {'ticker': 'GOOG', 'relevance_score': '0.068016', 'ticker_sentiment_score': '0.141496', 'ticker_sentiment_label': 'Neutral'}, {'ticker': 'META', 'relevance_score': '0.068016', 'ticker_sentiment_score': '0.141496', 'ticker_sentiment_label': 'Neutral'}, {'ticker': 'NVDA', 'relevance_score': '0.068016', 'ticker_sentiment_score': '0.141496', 'ticker_sentiment_label': 'Neutral'}, {'ticker': 'AAPL', 'relevance_score': '0.068016', 'ticker_sentiment_score': '0.0', 'ticker_sentiment_label': 'Neutral'}, {'ticker': 'TSLA', 'relevance_score': '0.391413', 'ticker_sentiment_score': '0.22219', 'ticker_sentiment_label': 'Somewhat-Bullish'}, {'ticker': 'NOK', 'relevance_score': '0.068016', 'ticker_sentiment_score': '-0.020402', 'ticker_sentiment_label': 'Neutral'}, {'ticker': 'IVZ', 'relevance_score': '0.034039', 'ticker_sentiment_score': '0.240382', 'ticker_sentiment_label': 'Somewhat-Bullish'}, {'ticker': 'CRYPTO:BTC', 'relevance_score': '0.101869', 'ticker_sentiment_score': '0.20929', 'ticker_sentiment_label': 'Somewhat-Bullish'}]}, {'title': 'Market Clubhouse Morning Memo - October 19th, 2023  ( Trade Strategy For SPY, QQQ, AAPL, MSFT, NVDA, TSLA, And NFLX )  - Invesco QQQ Trust, Series 1  ( NASDAQ:QQQ ) ', 'url': 'https://www.benzinga.com/markets/23/10/35331865/market-clubhouse-morning-memo-october-19th-2023-trade-strategy-for-spy-qqq-aapl-msft-nvda-tsla-and-n', 'time_published': '20231019T144545', 'authors': ['RIPS'], 'summary': \"Good Morning Traders! In today's Market Clubhouse Morning Memo, we will discuss SPY, QQQ, AAPL, MSFT, NVDA, TSLA, and NFLX. Our proprietary formula, exclusive to Market Clubhouse, dictates these price levels. This dynamic equation takes into account price, volume, and options flow.\", 'banner_image': 'https://cdn.benzinga.com/files/market-clubhouse-morning-memo_90.png?width=1200&height=800&fit=crop', 'source': 'Benzinga', 'category_within_source': 'Trading', 'source_domain': 'www.benzinga.com', 'topics': [{'topic': 'Economy - Monetary', 'relevance_score': '0.158519'}, {'topic': 'Financial Markets', 'relevance_score': '0.865346'}, {'topic': 'Manufacturing', 'relevance_score': '0.5'}, {'topic': 'Earnings', 'relevance_score': '0.576289'}, {'topic': 'Technology', 'relevance_score': '0.5'}], 'overall_sentiment_score': 0.1457, 'overall_sentiment_label': 'Neutral', 'ticker_sentiment': [{'ticker': 'MSFT', 'relevance_score': '0.104683', 'ticker_sentiment_score': '0.188138', 'ticker_sentiment_label': 'Somewhat-Bullish'}, {'ticker': 'NFLX', 'relevance_score': '0.104683', 'ticker_sentiment_score': '0.24266', 'ticker_sentiment_label': 'Somewhat-Bullish'}, {'ticker': 'GOOG', 'relevance_score': '0.034984', 'ticker_sentiment_score': '0.078909', 'ticker_sentiment_label': 'Neutral'}, {'ticker': 'NVDA', 'relevance_score': '0.104683', 'ticker_sentiment_score': '0.188138', 'ticker_sentiment_label': 'Somewhat-Bullish'}, {'ticker': 'AAPL', 'relevance_score': '0.104683', 'ticker_sentiment_score': '0.200559', 'ticker_sentiment_label': 'Somewhat-Bullish'}, {'ticker': 'TSLA', 'relevance_score': '0.104683', 'ticker_sentiment_score': '0.164933', 'ticker_sentiment_label': 'Somewhat-Bullish'}]}, {'title': 'Stocks Mixed After Jobless Claims', 'url': 'https://www.investors.com/market-trend/stock-market-today/dow-jones-futures-fall-jobless-claims-tesla-stock-dives-elon-musk-cybertruck-warnings/', 'time_published': '20231019T144200', 'authors': ['SCOTT LEHTONEN', \"Investor's Business Daily\"], 'summary': \"Dow Jones Falls On Jobless Claims. Tesla Stock Dives On Elon ... Investor's Business Daily ...\", 'banner_image': 'https://www.investors.com/wp-content/uploads/2017/03/stock-wallstreet-031317-shutter.jpg', 'source': 'Investors Business Daily', 'category_within_source': 'n/a', 'source_domain': 'www.investors.com', 'topics': [{'topic': 'Life Sciences', 'relevance_score': '0.25'}, {'topic': 'Financial Markets', 'relevance_score': '1.0'}, {'topic': 'Manufacturing', 'relevance_score': '0.25'}, {'topic': 'Earnings', 'relevance_score': '0.988787'}, {'topic': 'Technology', 'relevance_score': '0.25'}, {'topic': 'Finance', 'relevance_score': '0.25'}], 'overall_sentiment_score': 0.045744, 'overall_sentiment_label': 'Neutral', 'ticker_sentiment': [{'ticker': 'AA', 'relevance_score': '0.094143', 'ticker_sentiment_score': '0.057437', 'ticker_sentiment_label': 'Neutral'}, {'ticker': 'NFLX', 'relevance_score': '0.156258', 'ticker_sentiment_score': '-0.046992', 'ticker_sentiment_label': 'Neutral'}, {'ticker': 'META', 'relevance_score': '0.094143', 'ticker_sentiment_score': '0.099622', 'ticker_sentiment_label': 'Neutral'}, {'ticker': 'NVDA', 'relevance_score': '0.062843', 'ticker_sentiment_score': '0.115057', 'ticker_sentiment_label': 'Neutral'}, {'ticker': 'AAPL', 'relevance_score': '0.156258', 'ticker_sentiment_score': '-0.006918', 'ticker_sentiment_label': 'Neutral'}, {'ticker': 'ANET', 'relevance_score': '0.094143', 'ticker_sentiment_score': '0.098105', 'ticker_sentiment_label': 'Neutral'}, {'ticker': 'JPM', 'relevance_score': '0.156258', 'ticker_sentiment_score': '0.034863', 'ticker_sentiment_label': 'Neutral'}, {'ticker': 'IVZ', 'relevance_score': '0.031446', 'ticker_sentiment_score': '0.106306', 'ticker_sentiment_label': 'Neutral'}, {'ticker': 'MSFT', 'relevance_score': '0.094143', 'ticker_sentiment_score': '-0.00542', 'ticker_sentiment_label': 'Neutral'}, {'ticker': 'LULU', 'relevance_score': '0.125297', 'ticker_sentiment_score': '0.091192', 'ticker_sentiment_label': 'Neutral'}, {'ticker': 'TSLA', 'relevance_score': '0.186979', 'ticker_sentiment_score': '-0.055732', 'ticker_sentiment_label': 'Neutral'}, {'ticker': 'LRCX', 'relevance_score': '0.062843', 'ticker_sentiment_score': '0.0', 'ticker_sentiment_label': 'Neutral'}, {'ticker': 'REGN', 'relevance_score': '0.094143', 'ticker_sentiment_score': '0.062249', 'ticker_sentiment_label': 'Neutral'}]}, {'title': \"Charlie Munger Says This Investment is Getting 'More Hype Than It Deserves' - He's Not A Fan, But It's A Huge Part Of Berkshire Hathaway's $350 Billion Portfolio\", 'url': 'https://www.benzinga.com/general/23/10/35330614/charlie-munger-says-this-investment-is-getting-more-hype-than-it-deserves-hes-not-a-fan-but-its-a-hu', 'time_published': '20231019T140314', 'authors': ['Jeannine Mancini'], 'summary': 'Berkshire Hathaway Inc. Vice Chairman Charlie Munger has repeatedly expressed skepticism about the growing enthusiasm surrounding artificial intelligence ( AI ) . Speaking at the recent Zoomtopia conference, Munger said, \"I think it\\'s getting a huge amount of hype.', 'banner_image': 'https://cdn.benzinga.com/files/images/story/2023/Seattle,,Wa,-,United,States,-,Mar,14,2022:,Vector.jpeg?width=1200&height=800&fit=crop', 'source': 'Benzinga', 'category_within_source': 'General', 'source_domain': 'www.benzinga.com', 'topics': [{'topic': 'Financial Markets', 'relevance_score': '0.87644'}, {'topic': 'Manufacturing', 'relevance_score': '0.333333'}, {'topic': 'Technology', 'relevance_score': '0.333333'}, {'topic': 'Finance', 'relevance_score': '0.333333'}], 'overall_sentiment_score': 0.153873, 'overall_sentiment_label': 'Somewhat-Bullish', 'ticker_sentiment': [{'ticker': 'AXP', 'relevance_score': '0.065866', 'ticker_sentiment_score': '0.0719', 'ticker_sentiment_label': 'Neutral'}, {'ticker': 'AAPL', 'relevance_score': '0.065866', 'ticker_sentiment_score': '0.0', 'ticker_sentiment_label': 'Neutral'}, {'ticker': 'BAC', 'relevance_score': '0.195814', 'ticker_sentiment_score': '0.056462', 'ticker_sentiment_label': 'Neutral'}, {'ticker': 'KO', 'relevance_score': '0.131284', 'ticker_sentiment_score': '0.050535', 'ticker_sentiment_label': 'Neutral'}, {'ticker': 'BRK-A', 'relevance_score': '0.131284', 'ticker_sentiment_score': '0.087895', 'ticker_sentiment_label': 'Neutral'}]}, {'title': '3 Things You Need to Know If You Buy Berkshire Hathaway Today', 'url': 'https://www.fool.com/investing/2023/10/19/3-things-you-need-to-know-if-you-buy-berkshire-hat/', 'time_published': '20231019T134900', 'authors': ['Neil Patel'], 'summary': \"There's a lot going on as it relates to this megacap conglomerate.\", 'banner_image': 'https://g.foolcdn.com/misc-assets/hp-sa-cumulative-growth-chart.png', 'source': 'Motley Fool', 'category_within_source': 'n/a', 'source_domain': 'www.fool.com', 'topics': [{'topic': 'Financial Markets', 'relevance_score': '0.980922'}, {'topic': 'Manufacturing', 'relevance_score': '0.333333'}, {'topic': 'Technology', 'relevance_score': '0.333333'}, {'topic': 'Finance', 'relevance_score': '0.333333'}, {'topic': 'Blockchain', 'relevance_score': '0.158519'}], 'overall_sentiment_score': 0.269703, 'overall_sentiment_label': 'Somewhat-Bullish', 'ticker_sentiment': [{'ticker': 'AXP', 'relevance_score': '0.058188', 'ticker_sentiment_score': '0.0', 'ticker_sentiment_label': 'Neutral'}, {'ticker': 'AAPL', 'relevance_score': '0.058188', 'ticker_sentiment_score': '0.116987', 'ticker_sentiment_label': 'Neutral'}, {'ticker': 'BAC', 'relevance_score': '0.058188', 'ticker_sentiment_score': '0.0', 'ticker_sentiment_label': 'Neutral'}, {'ticker': 'KO', 'relevance_score': '0.058188', 'ticker_sentiment_score': '0.0', 'ticker_sentiment_label': 'Neutral'}, {'ticker': 'AHHLF', 'relevance_score': '0.058188', 'ticker_sentiment_score': '0.100981', 'ticker_sentiment_label': 'Neutral'}, {'ticker': 'BRK-A', 'relevance_score': '0.116067', 'ticker_sentiment_score': '0.164644', 'ticker_sentiment_label': 'Somewhat-Bullish'}]}, {'title': 'MultiversX eyes metaverse scalability as CEO sheds light on spatial computing', 'url': 'https://cointelegraph.com/news/multiverse-x-eyes-metaverse-scalability-ceo-spatial-computing', 'time_published': '20231019T133300', 'authors': ['Prashant Jha'], 'summary': 'The MultiversX CEO discussed the recent interest of Meta and Apple in the metaverse domain and analyzed their respective approaches.', 'banner_image': 'https://images.cointelegraph.com/cdn-cgi/image/format=auto,onerror=redirect,quality=90,width=1200/https://s3.cointelegraph.com/uploads/2023-10/d1de9d69-ccce-49c5-acd7-f1aaddc5a588.jpg', 'source': 'Cointelegraph', 'category_within_source': 'n/a', 'source_domain': 'cointelegraph.com', 'topics': [{'topic': 'Technology', 'relevance_score': '1.0'}, {'topic': 'Blockchain', 'relevance_score': '0.158519'}], 'overall_sentiment_score': 0.244157, 'overall_sentiment_label': 'Somewhat-Bullish', 'ticker_sentiment': [{'ticker': 'AAPL', 'relevance_score': '0.091162', 'ticker_sentiment_score': '0.217146', 'ticker_sentiment_label': 'Somewhat-Bullish'}, {'ticker': 'CRYPTO:EGLD', 'relevance_score': '0.091162', 'ticker_sentiment_score': '0.076082', 'ticker_sentiment_label': 'Neutral'}]}, {'title': '1 Reason to Buy This \"Magnificent Seven\" Stock, and 1 Reason to Avoid It Like the Plague', 'url': 'https://www.fool.com/investing/2023/10/19/1-reason-buy-and-sell-this-magnificent-seven-stock/', 'time_published': '20231019T130900', 'authors': ['Neil Patel'], 'summary': \"It's insightful to consider both a key bull and bear argument with this industry leader.\", 'banner_image': 'https://g.foolcdn.com/misc-assets/hp-sa-cumulative-growth-chart.png', 'source': 'Motley Fool', 'category_within_source': 'n/a', 'source_domain': 'www.fool.com', 'topics': [{'topic': 'Retail & Wholesale', 'relevance_score': '0.333333'}, {'topic': 'Financial Markets', 'relevance_score': '0.87644'}, {'topic': 'Manufacturing', 'relevance_score': '0.333333'}, {'topic': 'Earnings', 'relevance_score': '0.650727'}, {'topic': 'Technology', 'relevance_score': '0.333333'}], 'overall_sentiment_score': 0.300103, 'overall_sentiment_label': 'Somewhat-Bullish', 'ticker_sentiment': [{'ticker': 'MSFT', 'relevance_score': '0.066784', 'ticker_sentiment_score': '0.144386', 'ticker_sentiment_label': 'Neutral'}, {'ticker': 'META', 'relevance_score': '0.066784', 'ticker_sentiment_score': '0.144386', 'ticker_sentiment_label': 'Neutral'}, {'ticker': 'NVDA', 'relevance_score': '0.066784', 'ticker_sentiment_score': '0.144386', 'ticker_sentiment_label': 'Neutral'}, {'ticker': 'AAPL', 'relevance_score': '0.066784', 'ticker_sentiment_score': '0.144386', 'ticker_sentiment_label': 'Neutral'}, {'ticker': 'TSLA', 'relevance_score': '0.549265', 'ticker_sentiment_score': '0.441065', 'ticker_sentiment_label': 'Bullish'}, {'ticker': 'GM', 'relevance_score': '0.066784', 'ticker_sentiment_score': '0.0', 'ticker_sentiment_label': 'Neutral'}, {'ticker': 'UBER', 'relevance_score': '0.066784', 'ticker_sentiment_score': '0.122574', 'ticker_sentiment_label': 'Neutral'}, {'ticker': 'AMZN', 'relevance_score': '0.066784', 'ticker_sentiment_score': '0.144386', 'ticker_sentiment_label': 'Neutral'}]}, {'title': 'Find Those Hard-To-Borrow Stocks More Easily With Centerpoint.ca, The Service Helping Make Investing In US Markets Easier For Canadians - Microsoft  ( NASDAQ:MSFT ) , Amazon.com  ( NASDAQ:AMZN ) ', 'url': 'https://www.benzinga.com/general/movers-shakers/23/10/35328093/find-those-hard-to-borrow-stocks-more-easily-with-centerpoint-ca-the-service-helping-make-', 'time_published': '20231019T124345', 'authors': ['Meg Flippin'], 'summary': 'With interest rates still rising, a U.S. election on the horizon and an unpredictable job market, stock markets are volatile. That may spook some investors, but for more active traders, especially those residing in Canada, it could spell opportunity in good and bad times.', 'banner_image': 'https://cdn.benzinga.com/files/images/story/2023/10/19/screenshot_2023-10-19_at_6.11.52_pm.png?width=1200&height=800&fit=crop', 'source': 'Benzinga', 'category_within_source': 'General', 'source_domain': 'www.benzinga.com', 'topics': [{'topic': 'Technology', 'relevance_score': '0.5'}, {'topic': 'Financial Markets', 'relevance_score': '0.999966'}, {'topic': 'Manufacturing', 'relevance_score': '0.5'}], 'overall_sentiment_score': 0.266384, 'overall_sentiment_label': 'Somewhat-Bullish', 'ticker_sentiment': [{'ticker': 'MSFT', 'relevance_score': '0.128478', 'ticker_sentiment_score': '0.094818', 'ticker_sentiment_label': 'Neutral'}, {'ticker': 'NVDA', 'relevance_score': '0.128478', 'ticker_sentiment_score': '0.094818', 'ticker_sentiment_label': 'Neutral'}, {'ticker': 'AAPL', 'relevance_score': '0.064449', 'ticker_sentiment_score': '0.080214', 'ticker_sentiment_label': 'Neutral'}]}, {'title': \"TSMC Stock Gains After Q3 Performance - Here's Why - Taiwan Semiconductor  ( NYSE:TSM ) \", 'url': 'https://www.benzinga.com/news/earnings/23/10/35323506/tsmc-stock-gains-after-q3-performance-heres-why', 'time_published': '20231019T122206', 'authors': ['Anusuya Lahiri'], 'summary': 'Taiwan Semiconductor Manufacturing Company Ltd TSM reported a third-quarter revenue decline of 14.6% year-on-year to $17.28 billion, beating the consensus of $17.07 billion. EPS of $1.29 beat the consensus of $1.17. In Q3, shipments of 5 nm accounted for 37% of total wafer revenue, and 7- nm ...', 'banner_image': 'https://cdn.benzinga.com/files/images/story/2023/10/19/tsmc_fab5.jpg?width=1200&height=800&fit=crop', 'source': 'Benzinga', 'category_within_source': 'News', 'source_domain': 'www.benzinga.com', 'topics': [{'topic': 'Earnings', 'relevance_score': '0.266143'}, {'topic': 'Technology', 'relevance_score': '0.5'}, {'topic': 'Manufacturing', 'relevance_score': '0.5'}], 'overall_sentiment_score': -0.059635, 'overall_sentiment_label': 'Neutral', 'ticker_sentiment': [{'ticker': 'NVDA', 'relevance_score': '0.279015', 'ticker_sentiment_score': '-0.155051', 'ticker_sentiment_label': 'Somewhat-Bearish'}, {'ticker': 'AAPL', 'relevance_score': '0.279015', 'ticker_sentiment_score': '-0.155051', 'ticker_sentiment_label': 'Somewhat-Bearish'}, {'ticker': 'TSM', 'relevance_score': '0.407844', 'ticker_sentiment_score': '-0.208651', 'ticker_sentiment_label': 'Somewhat-Bearish'}]}, {'title': 'AAPL: 3 Tech Intelligence Stocks for Smart Investment Strategies', 'url': 'https://stocknews.com/news/aapl-njdcy-qmco-erj-3-tech-intelligence-stocks-for-smart-investment-strategies/', 'time_published': '20231019T113210', 'authors': ['StockNews.com Staff'], 'summary': \"Driven by robust demand for hardware solutions amid widespread digital transformation globally and growing implementation of cutting-edge technologies, the tech hardware's outlook appears promising.\", 'banner_image': 'https://stocknews.com/wp-content/uploads/2022/06/TechStock_FBOpt.jpg', 'source': 'Stocknews.com', 'category_within_source': 'n/a', 'source_domain': 'stocknews.com', 'topics': [{'topic': 'Financial Markets', 'relevance_score': '0.999976'}, {'topic': 'Manufacturing', 'relevance_score': '0.5'}, {'topic': 'Earnings', 'relevance_score': '1.0'}, {'topic': 'Technology', 'relevance_score': '0.5'}], 'overall_sentiment_score': 0.305334, 'overall_sentiment_label': 'Somewhat-Bullish', 'ticker_sentiment': [{'ticker': 'AAPL', 'relevance_score': '0.320835', 'ticker_sentiment_score': '0.433765', 'ticker_sentiment_label': 'Bullish'}, {'ticker': 'NNDNF', 'relevance_score': '0.043979', 'ticker_sentiment_score': '0.186221', 'ticker_sentiment_label': 'Somewhat-Bullish'}, {'ticker': 'ERJ', 'relevance_score': '0.043979', 'ticker_sentiment_score': '0.110955', 'ticker_sentiment_label': 'Neutral'}, {'ticker': 'ASCCF', 'relevance_score': '0.021998', 'ticker_sentiment_score': '0.109097', 'ticker_sentiment_label': 'Neutral'}]}]\n"
     ]
    }
   ],
   "source": [
    "print(data['feed'])"
   ]
  },
  {
   "cell_type": "code",
   "execution_count": 206,
   "id": "23f5fda6",
   "metadata": {},
   "outputs": [
    {
     "name": "stdout",
     "output_type": "stream",
     "text": [
      "{'name': 'Advance Retail Sales: Retail Trade', 'interval': 'monthly', 'unit': 'millions of dollars', 'data': [{'date': '2023-09-01', 'value': '592660.0'}, {'date': '2023-08-01', 'value': '628892.0'}, {'date': '2023-07-01', 'value': '605403.0'}, {'date': '2023-06-01', 'value': '612243.0'}, {'date': '2023-05-01', 'value': '631496.0'}, {'date': '2023-04-01', 'value': '588220.0'}, {'date': '2023-03-01', 'value': '604084.0'}, {'date': '2023-02-01', 'value': '529374'}, {'date': '2023-01-01', 'value': '547156'}, {'date': '2022-12-01', 'value': '654825'}, {'date': '2022-11-01', 'value': '605205'}, {'date': '2022-10-01', 'value': '597170'}, {'date': '2022-09-01', 'value': '577966'}, {'date': '2022-08-01', 'value': '613508'}, {'date': '2022-07-01', 'value': '599929'}, {'date': '2022-06-01', 'value': '609743'}, {'date': '2022-05-01', 'value': '616626'}, {'date': '2022-04-01', 'value': '596690'}, {'date': '2022-03-01', 'value': '598541'}, {'date': '2022-02-01', 'value': '507901'}, {'date': '2022-01-01', 'value': '516923'}, {'date': '2021-12-01', 'value': '627113'}, {'date': '2021-11-01', 'value': '574978'}, {'date': '2021-10-01', 'value': '553588'}, {'date': '2021-09-01', 'value': '529133'}, {'date': '2021-08-01', 'value': '550169'}, {'date': '2021-07-01', 'value': '552179'}, {'date': '2021-06-01', 'value': '557446'}, {'date': '2021-05-01', 'value': '565177'}, {'date': '2021-04-01', 'value': '554269'}, {'date': '2021-03-01', 'value': '560218'}, {'date': '2021-02-01', 'value': '437031'}, {'date': '2021-01-01', 'value': '461308'}, {'date': '2020-12-01', 'value': '557696'}, {'date': '2020-11-01', 'value': '490941'}, {'date': '2020-10-01', 'value': '493601'}, {'date': '2020-09-01', 'value': '474038'}, {'date': '2020-08-01', 'value': '487325'}, {'date': '2020-07-01', 'value': '492689'}, {'date': '2020-06-01', 'value': '479784'}, {'date': '2020-05-01', 'value': '461785'}, {'date': '2020-04-01', 'value': '376867'}, {'date': '2020-03-01', 'value': '426258'}, {'date': '2020-02-01', 'value': '413923'}, {'date': '2020-01-01', 'value': '417123'}, {'date': '2019-12-01', 'value': '518979'}, {'date': '2019-11-01', 'value': '467189'}, {'date': '2019-10-01', 'value': '454941'}, {'date': '2019-09-01', 'value': '428241'}, {'date': '2019-08-01', 'value': '472517'}, {'date': '2019-07-01', 'value': '461010'}, {'date': '2019-06-01', 'value': '447578'}, {'date': '2019-05-01', 'value': '474963'}, {'date': '2019-04-01', 'value': '441878'}, {'date': '2019-03-01', 'value': '446272'}, {'date': '2019-02-01', 'value': '384243'}, {'date': '2019-01-01', 'value': '398783'}, {'date': '2018-12-01', 'value': '493167'}, {'date': '2018-11-01', 'value': '459172'}, {'date': '2018-10-01', 'value': '441746'}, {'date': '2018-09-01', 'value': '417072'}, {'date': '2018-08-01', 'value': '455946'}, {'date': '2018-07-01', 'value': '441604'}, {'date': '2018-06-01', 'value': '443603'}, {'date': '2018-05-01', 'value': '464101'}, {'date': '2018-04-01', 'value': '420099'}, {'date': '2018-03-01', 'value': '444873'}, {'date': '2018-02-01', 'value': '380562'}, {'date': '2018-01-01', 'value': '389703'}, {'date': '2017-12-01', 'value': '496745'}, {'date': '2017-11-01', 'value': '441923'}, {'date': '2017-10-01', 'value': '417753'}, {'date': '2017-09-01', 'value': '412522'}, {'date': '2017-08-01', 'value': '431797'}, {'date': '2017-07-01', 'value': '416908'}, {'date': '2017-06-01', 'value': '423071'}, {'date': '2017-05-01', 'value': '434511'}, {'date': '2017-04-01', 'value': '407256'}, {'date': '2017-03-01', 'value': '423016'}, {'date': '2017-02-01', 'value': '365610'}, {'date': '2017-01-01', 'value': '369102'}, {'date': '2016-12-01', 'value': '482011'}, {'date': '2016-11-01', 'value': '413933'}, {'date': '2016-10-01', 'value': '397425'}, {'date': '2016-09-01', 'value': '394237'}, {'date': '2016-08-01', 'value': '416538'}, {'date': '2016-07-01', 'value': '406013'}, {'date': '2016-06-01', 'value': '410100'}, {'date': '2016-05-01', 'value': '413059'}, {'date': '2016-04-01', 'value': '394764'}, {'date': '2016-03-01', 'value': '405012'}, {'date': '2016-02-01', 'value': '363543'}, {'date': '2016-01-01', 'value': '351787'}, {'date': '2015-12-01', 'value': '464014'}, {'date': '2015-11-01', 'value': '396067'}, {'date': '2015-10-01', 'value': '392602'}, {'date': '2015-09-01', 'value': '381996'}, {'date': '2015-08-01', 'value': '404923'}, {'date': '2015-07-01', 'value': '406550'}, {'date': '2015-06-01', 'value': '397809'}, {'date': '2015-05-01', 'value': '409453'}, {'date': '2015-04-01', 'value': '387358'}, {'date': '2015-03-01', 'value': '393094'}, {'date': '2015-02-01', 'value': '341828'}, {'date': '2015-01-01', 'value': '350291'}, {'date': '2014-12-01', 'value': '451076'}, {'date': '2014-11-01', 'value': '391483'}, {'date': '2014-10-01', 'value': '388387'}, {'date': '2014-09-01', 'value': '374398'}, {'date': '2014-08-01', 'value': '401439'}, {'date': '2014-07-01', 'value': '394691'}, {'date': '2014-06-01', 'value': '385475'}, {'date': '2014-05-01', 'value': '408282'}, {'date': '2014-04-01', 'value': '383818'}, {'date': '2014-03-01', 'value': '383559'}, {'date': '2014-02-01', 'value': '337480'}, {'date': '2014-01-01', 'value': '340473'}, {'date': '2013-12-01', 'value': '430568'}, {'date': '2013-11-01', 'value': '378685'}, {'date': '2013-10-01', 'value': '369777'}, {'date': '2013-09-01', 'value': '352673'}, {'date': '2013-08-01', 'value': '388221'}, {'date': '2013-07-01', 'value': '376970'}, {'date': '2013-06-01', 'value': '369316'}, {'date': '2013-05-01', 'value': '389674'}, {'date': '2013-04-01', 'value': '362965'}, {'date': '2013-03-01', 'value': '374159'}, {'date': '2013-02-01', 'value': '332481'}, {'date': '2013-01-01', 'value': '333694'}, {'date': '2012-12-01', 'value': '416807'}, {'date': '2012-11-01', 'value': '368593'}, {'date': '2012-10-01', 'value': '355823'}, {'date': '2012-09-01', 'value': '342582'}, {'date': '2012-08-01', 'value': '372986'}, {'date': '2012-07-01', 'value': '351520'}, {'date': '2012-06-01', 'value': '356083'}, {'date': '2012-05-01', 'value': '373129'}, {'date': '2012-04-01', 'value': '349194'}, {'date': '2012-03-01', 'value': '368502'}, {'date': '2012-02-01', 'value': '331470'}, {'date': '2012-01-01', 'value': '315540'}, {'date': '2011-12-01', 'value': '408910'}, {'date': '2011-11-01', 'value': '351517'}, {'date': '2011-10-01', 'value': '337067'}, {'date': '2011-09-01', 'value': '333642'}, {'date': '2011-08-01', 'value': '352224'}, {'date': '2011-07-01', 'value': '341381'}, {'date': '2011-06-01', 'value': '346620'}, {'date': '2011-05-01', 'value': '348979'}, {'date': '2011-04-01', 'value': '339014'}, {'date': '2011-03-01', 'value': '345052'}, {'date': '2011-02-01', 'value': '299920'}, {'date': '2011-01-01', 'value': '298626'}, {'date': '2010-12-01', 'value': '386878'}, {'date': '2010-11-01', 'value': '328381'}, {'date': '2010-10-01', 'value': '315059'}, {'date': '2010-09-01', 'value': '307638'}, {'date': '2010-08-01', 'value': '322319'}, {'date': '2010-07-01', 'value': '320915'}, {'date': '2010-06-01', 'value': '319183'}, {'date': '2010-05-01', 'value': '324820'}, {'date': '2010-04-01', 'value': '316940'}, {'date': '2010-03-01', 'value': '321305'}, {'date': '2010-02-01', 'value': '275566'}, {'date': '2010-01-01', 'value': '279044'}, {'date': '2009-12-01', 'value': '362735'}, {'date': '2009-11-01', 'value': '303850'}, {'date': '2009-10-01', 'value': '300360'}, {'date': '2009-09-01', 'value': '288071'}, {'date': '2009-08-01', 'value': '314505'}, {'date': '2009-07-01', 'value': '308847'}, {'date': '2009-06-01', 'value': '306050'}, {'date': '2009-05-01', 'value': '307481'}, {'date': '2009-04-01', 'value': '292041'}, {'date': '2009-03-01', 'value': '290068'}, {'date': '2009-02-01', 'value': '264465'}, {'date': '2009-01-01', 'value': '273998'}, {'date': '2008-12-01', 'value': '346513'}, {'date': '2008-11-01', 'value': '299238'}, {'date': '2008-10-01', 'value': '311422'}, {'date': '2008-09-01', 'value': '313308'}, {'date': '2008-08-01', 'value': '342443'}, {'date': '2008-07-01', 'value': '344158'}, {'date': '2008-06-01', 'value': '339791'}, {'date': '2008-05-01', 'value': '357277'}, {'date': '2008-04-01', 'value': '331002'}, {'date': '2008-03-01', 'value': '334416'}, {'date': '2008-02-01', 'value': '308171'}, {'date': '2008-01-01', 'value': '307576'}, {'date': '2007-12-01', 'value': '387473'}, {'date': '2007-11-01', 'value': '341848'}, {'date': '2007-10-01', 'value': '331073'}, {'date': '2007-09-01', 'value': '317145'}, {'date': '2007-08-01', 'value': '349191'}, {'date': '2007-07-01', 'value': '333815'}, {'date': '2007-06-01', 'value': '338189'}, {'date': '2007-05-01', 'value': '353201'}, {'date': '2007-04-01', 'value': '321981'}, {'date': '2007-03-01', 'value': '335917'}, {'date': '2007-02-01', 'value': '290065'}, {'date': '2007-01-01', 'value': '295284'}, {'date': '2006-12-01', 'value': '380188'}, {'date': '2006-11-01', 'value': '323089'}, {'date': '2006-10-01', 'value': '312976'}, {'date': '2006-09-01', 'value': '310775'}, {'date': '2006-08-01', 'value': '339155'}, {'date': '2006-07-01', 'value': '325905'}, {'date': '2006-06-01', 'value': '330844'}, {'date': '2006-05-01', 'value': '337393'}, {'date': '2006-04-01', 'value': '316526'}, {'date': '2006-03-01', 'value': '326153'}, {'date': '2006-02-01', 'value': '282417'}, {'date': '2006-01-01', 'value': '286152'}, {'date': '2005-12-01', 'value': '370726'}, {'date': '2005-11-01', 'value': '311715'}, {'date': '2005-10-01', 'value': '302213'}, {'date': '2005-09-01', 'value': '300439'}, {'date': '2005-08-01', 'value': '321409'}, {'date': '2005-07-01', 'value': '316887'}, {'date': '2005-06-01', 'value': '317375'}, {'date': '2005-05-01', 'value': '311292'}, {'date': '2005-04-01', 'value': '302054'}, {'date': '2005-03-01', 'value': '306384'}, {'date': '2005-02-01', 'value': '265320'}, {'date': '2005-01-01', 'value': '263469'}, {'date': '2004-12-01', 'value': '354627'}, {'date': '2004-11-01', 'value': '294278'}, {'date': '2004-10-01', 'value': '287468'}, {'date': '2004-09-01', 'value': '282974'}, {'date': '2004-08-01', 'value': '294133'}, {'date': '2004-07-01', 'value': '294875'}, {'date': '2004-06-01', 'value': '289664'}, {'date': '2004-05-01', 'value': '296253'}, {'date': '2004-04-01', 'value': '284325'}, {'date': '2004-03-01', 'value': '287944'}, {'date': '2004-02-01', 'value': '253689'}, {'date': '2004-01-01', 'value': '252818'}, {'date': '2003-12-01', 'value': '327693'}, {'date': '2003-11-01', 'value': '272396'}, {'date': '2003-10-01', 'value': '273781'}, {'date': '2003-09-01', 'value': '265331'}, {'date': '2003-08-01', 'value': '285212'}, {'date': '2003-07-01', 'value': '279323'}, {'date': '2003-06-01', 'value': '271242'}, {'date': '2003-05-01', 'value': '281482'}, {'date': '2003-04-01', 'value': '265990'}, {'date': '2003-03-01', 'value': '264532'}, {'date': '2003-02-01', 'value': '233478'}, {'date': '2003-01-01', 'value': '242271'}, {'date': '2002-12-01', 'value': '308821'}, {'date': '2002-11-01', 'value': '263738'}, {'date': '2002-10-01', 'value': '259945'}, {'date': '2002-09-01', 'value': '246350'}, {'date': '2002-08-01', 'value': '277716'}, {'date': '2002-07-01', 'value': '266795'}, {'date': '2002-06-01', 'value': '260385'}, {'date': '2002-05-01', 'value': '271682'}, {'date': '2002-04-01', 'value': '257357'}, {'date': '2002-03-01', 'value': '257133'}, {'date': '2002-02-01', 'value': '228084'}, {'date': '2002-01-01', 'value': '230546'}, {'date': '2001-12-01', 'value': '298666'}, {'date': '2001-11-01', 'value': '262004'}, {'date': '2001-10-01', 'value': '265188'}, {'date': '2001-09-01', 'value': '236210'}, {'date': '2001-08-01', 'value': '266460'}, {'date': '2001-07-01', 'value': '251504'}, {'date': '2001-06-01', 'value': '260315'}, {'date': '2001-05-01', 'value': '268658'}, {'date': '2001-04-01', 'value': '249062'}, {'date': '2001-03-01', 'value': '253439'}, {'date': '2001-02-01', 'value': '223971'}, {'date': '2001-01-01', 'value': '226791'}, {'date': '2000-12-01', 'value': '294197'}, {'date': '2000-11-01', 'value': '252145'}, {'date': '2000-10-01', 'value': '245167'}, {'date': '2000-09-01', 'value': '243624'}, {'date': '2000-08-01', 'value': '257487'}, {'date': '2000-07-01', 'value': '244445'}, {'date': '2000-06-01', 'value': '255066'}, {'date': '2000-05-01', 'value': '257581'}, {'date': '2000-04-01', 'value': '239051'}, {'date': '2000-03-01', 'value': '253717'}, {'date': '2000-02-01', 'value': '227087'}, {'date': '2000-01-01', 'value': '213709'}, {'date': '1999-12-01', 'value': '293013'}, {'date': '1999-11-01', 'value': '240857'}, {'date': '1999-10-01', 'value': '233193'}, {'date': '1999-09-01', 'value': '230665'}, {'date': '1999-08-01', 'value': '240478'}, {'date': '1999-07-01', 'value': '236992'}, {'date': '1999-06-01', 'value': '236830'}, {'date': '1999-05-01', 'value': '237462'}, {'date': '1999-04-01', 'value': '227109'}, {'date': '1999-03-01', 'value': '230230'}, {'date': '1999-02-01', 'value': '199451'}, {'date': '1999-01-01', 'value': '196810'}, {'date': '1998-12-01', 'value': '265618'}, {'date': '1998-11-01', 'value': '218969'}, {'date': '1998-10-01', 'value': '220499'}, {'date': '1998-09-01', 'value': '208915'}, {'date': '1998-08-01', 'value': '216605'}, {'date': '1998-07-01', 'value': '217687'}, {'date': '1998-06-01', 'value': '220867'}, {'date': '1998-05-01', 'value': '221155'}, {'date': '1998-04-01', 'value': '212262'}, {'date': '1998-03-01', 'value': '207973'}, {'date': '1998-02-01', 'value': '183767'}, {'date': '1998-01-01', 'value': '187445'}, {'date': '1997-12-01', 'value': '249389'}, {'date': '1997-11-01', 'value': '207533'}, {'date': '1997-10-01', 'value': '210145'}, {'date': '1997-09-01', 'value': '201415'}, {'date': '1997-08-01', 'value': '211952'}, {'date': '1997-07-01', 'value': '208856'}, {'date': '1997-06-01', 'value': '205491'}, {'date': '1997-05-01', 'value': '211516'}, {'date': '1997-04-01', 'value': '199219'}, {'date': '1997-03-01', 'value': '203750'}, {'date': '1997-02-01', 'value': '178428'}, {'date': '1997-01-01', 'value': '181073'}, {'date': '1996-12-01', 'value': '237478'}, {'date': '1996-11-01', 'value': '203621'}, {'date': '1996-10-01', 'value': '201927'}, {'date': '1996-09-01', 'value': '189424'}, {'date': '1996-08-01', 'value': '204270'}, {'date': '1996-07-01', 'value': '197140'}, {'date': '1996-06-01', 'value': '196842'}, {'date': '1996-05-01', 'value': '205797'}, {'date': '1996-04-01', 'value': '191886'}, {'date': '1996-03-01', 'value': '191851'}, {'date': '1996-02-01', 'value': '173941'}, {'date': '1996-01-01', 'value': '167372'}, {'date': '1995-12-01', 'value': '227552'}, {'date': '1995-11-01', 'value': '193405'}, {'date': '1995-10-01', 'value': '184276'}, {'date': '1995-09-01', 'value': '182521'}, {'date': '1995-08-01', 'value': '193370'}, {'date': '1995-07-01', 'value': '182909'}, {'date': '1995-06-01', 'value': '191609'}, {'date': '1995-05-01', 'value': '190269'}, {'date': '1995-04-01', 'value': '176635'}, {'date': '1995-03-01', 'value': '181910'}, {'date': '1995-02-01', 'value': '155156'}, {'date': '1995-01-01', 'value': '158004'}, {'date': '1994-12-01', 'value': '221549'}, {'date': '1994-11-01', 'value': '184272'}, {'date': '1994-10-01', 'value': '178642'}, {'date': '1994-09-01', 'value': '175128'}, {'date': '1994-08-01', 'value': '182445'}, {'date': '1994-07-01', 'value': '173198'}, {'date': '1994-06-01', 'value': '178509'}, {'date': '1994-05-01', 'value': '175527'}, {'date': '1994-04-01', 'value': '170795'}, {'date': '1994-03-01', 'value': '173562'}, {'date': '1994-02-01', 'value': '146332'}, {'date': '1994-01-01', 'value': '145276'}, {'date': '1993-12-01', 'value': '206174'}, {'date': '1993-11-01', 'value': '169980'}, {'date': '1993-10-01', 'value': '163992'}, {'date': '1993-09-01', 'value': '159298'}, {'date': '1993-08-01', 'value': '163989'}, {'date': '1993-07-01', 'value': '164590'}, {'date': '1993-06-01', 'value': '162964'}, {'date': '1993-05-01', 'value': '163519'}, {'date': '1993-04-01', 'value': '158615'}, {'date': '1993-03-01', 'value': '153025'}, {'date': '1993-02-01', 'value': '134462'}, {'date': '1993-01-01', 'value': '137020'}, {'date': '1992-12-01', 'value': '191347'}, {'date': '1992-11-01', 'value': '154824'}, {'date': '1992-10-01', 'value': '155987'}, {'date': '1992-09-01', 'value': '148158'}, {'date': '1992-08-01', 'value': '152476'}, {'date': '1992-07-01', 'value': '152586'}, {'date': '1992-06-01', 'value': '151849'}, {'date': '1992-05-01', 'value': '152420'}, {'date': '1992-04-01', 'value': '147175'}, {'date': '1992-03-01', 'value': '142488'}, {'date': '1992-02-01', 'value': '131244'}, {'date': '1992-01-01', 'value': '130683'}]}\n"
     ]
    }
   ],
   "source": [
    "import requests\n",
    "\n",
    "# replace the \"demo\" apikey below with your own key from https://www.alphavantage.co/support/#api-key\n",
    "url = 'https://www.alphavantage.co/query?function=RETAIL_SALES&apikey=demo'\n",
    "r = requests.get(url)\n",
    "data = r.json()\n",
    "\n",
    "print(data)"
   ]
  },
  {
   "cell_type": "code",
   "execution_count": 207,
   "id": "9396614c",
   "metadata": {},
   "outputs": [
    {
     "ename": "NameError",
     "evalue": "name 'Seleccion_Nodes' is not defined",
     "output_type": "error",
     "traceback": [
      "\u001b[0;31m---------------------------------------------------------------------------\u001b[0m",
      "\u001b[0;31mNameError\u001b[0m                                 Traceback (most recent call last)",
      "Cell \u001b[0;32mIn[207], line 1\u001b[0m\n\u001b[0;32m----> 1\u001b[0m Seleccion_Nodes\n",
      "\u001b[0;31mNameError\u001b[0m: name 'Seleccion_Nodes' is not defined"
     ]
    }
   ],
   "source": [
    "Seleccion_Nodes"
   ]
  },
  {
   "cell_type": "code",
   "execution_count": null,
   "id": "2a1e6925",
   "metadata": {},
   "outputs": [],
   "source": []
  },
  {
   "cell_type": "code",
   "execution_count": null,
   "id": "b84e8ccc",
   "metadata": {},
   "outputs": [],
   "source": []
  },
  {
   "cell_type": "code",
   "execution_count": null,
   "id": "5c97e334",
   "metadata": {},
   "outputs": [],
   "source": []
  },
  {
   "cell_type": "code",
   "execution_count": null,
   "id": "d0bea44c",
   "metadata": {},
   "outputs": [],
   "source": []
  },
  {
   "cell_type": "code",
   "execution_count": null,
   "id": "0af778f9",
   "metadata": {},
   "outputs": [],
   "source": []
  },
  {
   "cell_type": "code",
   "execution_count": null,
   "id": "85de7986",
   "metadata": {},
   "outputs": [],
   "source": []
  }
 ],
 "metadata": {
  "kernelspec": {
   "display_name": "Python 3 (ipykernel)",
   "language": "python",
   "name": "python3"
  },
  "language_info": {
   "codemirror_mode": {
    "name": "ipython",
    "version": 3
   },
   "file_extension": ".py",
   "mimetype": "text/x-python",
   "name": "python",
   "nbconvert_exporter": "python",
   "pygments_lexer": "ipython3",
   "version": "3.11.5"
  }
 },
 "nbformat": 4,
 "nbformat_minor": 5
}
